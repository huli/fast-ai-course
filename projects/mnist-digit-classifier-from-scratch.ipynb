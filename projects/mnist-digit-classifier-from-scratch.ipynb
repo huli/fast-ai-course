{
 "cells": [
  {
   "cell_type": "markdown",
   "metadata": {},
   "source": [
    "## Building a Digit Classifier with Fastai"
   ]
  },
  {
   "cell_type": "code",
   "execution_count": 1,
   "metadata": {},
   "outputs": [],
   "source": [
    "from fastai.vision.all import *"
   ]
  },
  {
   "cell_type": "markdown",
   "metadata": {},
   "source": [
    "#### Preparing the Data"
   ]
  },
  {
   "cell_type": "code",
   "execution_count": 2,
   "metadata": {},
   "outputs": [
    {
     "data": {
      "text/plain": [
       "(#2) [Path('training'),Path('testing')]"
      ]
     },
     "execution_count": 2,
     "metadata": {},
     "output_type": "execute_result"
    }
   ],
   "source": [
    "# downloading and unpacking the files\n",
    "path = untar_data(URLs.MNIST)\n",
    "\n",
    "# setting the working path\n",
    "Path.BASE_PATH = path\n",
    "\n",
    "# inspect our directory\n",
    "path.ls()"
   ]
  },
  {
   "cell_type": "code",
   "execution_count": 3,
   "metadata": {},
   "outputs": [
    {
     "data": {
      "text/plain": [
       "((#10) [Path('training/9'),Path('training/0'),Path('training/7'),Path('training/6'),Path('training/1'),Path('training/8'),Path('training/4'),Path('training/3'),Path('training/2'),Path('training/5')],\n",
       " (#5842) [Path('training/4/27980.png'),Path('training/4/30542.png'),Path('training/4/29007.png'),Path('training/4/11598.png'),Path('training/4/26334.png'),Path('training/4/37239.png'),Path('training/4/32341.png'),Path('training/4/17857.png'),Path('training/4/29761.png'),Path('training/4/36641.png')...])"
      ]
     },
     "execution_count": 3,
     "metadata": {},
     "output_type": "execute_result"
    }
   ],
   "source": [
    "# verify if we have all numbers\n",
    "(path/'training').ls(), (path/'training'/'4').ls()"
   ]
  },
  {
   "cell_type": "code",
   "execution_count": 4,
   "metadata": {},
   "outputs": [],
   "source": [
    "# building a dictionary with all images\n",
    "def load_images(folder):\n",
    "    images = dict()\n",
    "    for digit in range(10):\n",
    "        images[digit] = [tensor(Image.open(f)) for f in (path/folder/str(digit)).ls()]\n",
    "    return images"
   ]
  },
  {
   "cell_type": "code",
   "execution_count": 5,
   "metadata": {},
   "outputs": [],
   "source": [
    "# load training and testing set\n",
    "all_images = load_images('training')\n",
    "testing_images = load_images('testing')"
   ]
  },
  {
   "cell_type": "code",
   "execution_count": 6,
   "metadata": {},
   "outputs": [],
   "source": [
    "# split all images in training and validation set\n",
    "training_images = dict()\n",
    "validation_images = dict()\n",
    "for digit in range(10):\n",
    "    idx = math.floor(len(all_images[digit]) * .8)\n",
    "    training_images[digit] = all_images[digit][:idx]\n",
    "    validation_images[digit] = all_images[digit][idx:]"
   ]
  },
  {
   "cell_type": "code",
   "execution_count": 7,
   "metadata": {},
   "outputs": [
    {
     "data": {
      "image/png": "[encoded data removed]",
      "text/plain": [
       "<Figure size 72x72 with 1 Axes>"
      ]
     },
     "metadata": {
      "needs_background": "light"
     },
     "output_type": "display_data"
    },
    {
     "data": {
      "image/png": "[encoded data removed]",
      "text/plain": [
       "<Figure size 72x72 with 1 Axes>"
      ]
     },
     "metadata": {
      "needs_background": "light"
     },
     "output_type": "display_data"
    },
    {
     "data": {
      "image/png": "[encoded data removed]",
      "text/plain": [
       "<Figure size 72x72 with 1 Axes>"
      ]
     },
     "metadata": {
      "needs_background": "light"
     },
     "output_type": "display_data"
    }
   ],
   "source": [
    "# lets inspect to samples\n",
    "for sample in (training_images[1][3], validation_images[4][2], testing_images[6][2]):\n",
    "    show_image(sample)"
   ]
  },
  {
   "cell_type": "code",
   "execution_count": 8,
   "metadata": {},
   "outputs": [],
   "source": [
    "# create x and y tensors for all the sets\n",
    "train_x, train_y, valid_x, valid_y, test_x, test_y = \\\n",
    "    tensor([]), tensor([]), tensor([]), tensor([]), tensor([]), tensor([])\n",
    "for digit in range(10):\n",
    "    # training set\n",
    "    train_x = torch.cat([train_x, torch.stack(training_images[digit])])\n",
    "    train_y = torch.cat([train_y, tensor([digit]*len(training_images[digit])).unsqueeze(1)])\n",
    "    # validation set\n",
    "    valid_x = torch.cat([valid_x, torch.stack(validation_images[digit])])\n",
    "    valid_y = torch.cat([valid_y, tensor([digit]*len(validation_images[digit])).unsqueeze(1)])\n",
    "    # testing set\n",
    "    test_x = torch.cat([test_x, torch.stack(testing_images[digit])])\n",
    "    test_y = torch.cat([test_y, tensor([digit]*len(testing_images[digit])).unsqueeze(1)])"
   ]
  },
  {
   "cell_type": "code",
   "execution_count": 9,
   "metadata": {},
   "outputs": [
    {
     "data": {
      "text/plain": [
       "(torch.Size([47995, 28, 28]),\n",
       " torch.Size([47995, 1]),\n",
       " torch.Size([12005, 28, 28]),\n",
       " torch.Size([12005, 1]),\n",
       " torch.Size([10000, 28, 28]),\n",
       " torch.Size([10000, 1]))"
      ]
     },
     "execution_count": 9,
     "metadata": {},
     "output_type": "execute_result"
    }
   ],
   "source": [
    "train_x.shape, train_y.shape, valid_x.shape, valid_y.shape, test_x.shape, test_y.shape"
   ]
  },
  {
   "cell_type": "code",
   "execution_count": 10,
   "metadata": {},
   "outputs": [
    {
     "data": {
      "text/plain": [
       "(torch.Size([47995, 784]), torch.Size([12005, 784]), torch.Size([10000, 784]))"
      ]
     },
     "execution_count": 10,
     "metadata": {},
     "output_type": "execute_result"
    }
   ],
   "source": [
    "# because we don't want to keep any spatial information we just \n",
    "# reshape the matrix of images to a vector\n",
    "train_x = train_x.view((-1, 28*28))\n",
    "valid_x = valid_x.view((-1, 28*28))\n",
    "test_x = test_x.view((-1, 28*28))\n",
    "train_x.shape, valid_x.shape, test_x.shape"
   ]
  },
  {
   "cell_type": "code",
   "execution_count": 11,
   "metadata": {},
   "outputs": [
    {
     "data": {
      "text/plain": [
       "(torch.Size([47995, 1]), torch.Size([12005, 1]), torch.Size([10000, 1]))"
      ]
     },
     "execution_count": 11,
     "metadata": {},
     "output_type": "execute_result"
    }
   ],
   "source": [
    "# and our targes\n",
    "train_y.shape, valid_y.shape, test_y.shape"
   ]
  },
  {
   "cell_type": "code",
   "execution_count": 12,
   "metadata": {},
   "outputs": [
    {
     "data": {
      "text/plain": [
       "(tensor([[0.],\n",
       "         [0.],\n",
       "         [0.]]),\n",
       " 2)"
      ]
     },
     "execution_count": 12,
     "metadata": {},
     "output_type": "execute_result"
    }
   ],
   "source": [
    "# for pytorch we need 1d target tensors\n",
    "train_y[:3], train_y.ndim"
   ]
  },
  {
   "cell_type": "code",
   "execution_count": 13,
   "metadata": {},
   "outputs": [],
   "source": [
    "# so we squeeze the dimentions\n",
    "train_y = train_y.squeeze().long()\n",
    "valid_y = valid_y.squeeze().long()\n",
    "test_y = test_y.squeeze().long()"
   ]
  },
  {
   "cell_type": "code",
   "execution_count": 14,
   "metadata": {},
   "outputs": [
    {
     "data": {
      "text/plain": [
       "(tensor([0, 0, 0]), 1)"
      ]
     },
     "execution_count": 14,
     "metadata": {},
     "output_type": "execute_result"
    }
   ],
   "source": [
    "train_y[:3], train_y.ndim"
   ]
  },
  {
   "cell_type": "code",
   "execution_count": 15,
   "metadata": {},
   "outputs": [
    {
     "data": {
      "text/plain": [
       "(torch.Size([47995, 784]), torch.Size([12005, 784]), torch.Size([10000, 784]))"
      ]
     },
     "execution_count": 15,
     "metadata": {},
     "output_type": "execute_result"
    }
   ],
   "source": [
    "train_x.shape, valid_x.shape, test_x.shape"
   ]
  },
  {
   "cell_type": "code",
   "execution_count": 16,
   "metadata": {},
   "outputs": [
    {
     "data": {
      "text/plain": [
       "(torch.Size([47995]), torch.Size([12005]), torch.Size([10000]))"
      ]
     },
     "execution_count": 16,
     "metadata": {},
     "output_type": "execute_result"
    }
   ],
   "source": [
    "train_y.shape, valid_y.shape, test_y.shape"
   ]
  },
  {
   "cell_type": "code",
   "execution_count": 322,
   "metadata": {},
   "outputs": [],
   "source": [
    "# create data set and dataloaders \n",
    "ds_train = list(zip(train_x, train_y))\n",
    "ds_valid = list(zip(valid_x, valid_y))\n",
    "\n",
    "dl_train = DataLoader(ds_train, batch_size=256, shuffle=False)\n",
    "dl_valid = DataLoader(ds_valid, batch_size=256, shuffle=False)"
   ]
  },
  {
   "cell_type": "markdown",
   "metadata": {},
   "source": [
    "#### Create a Simple Dense Connected Network (without Learner)"
   ]
  },
  {
   "cell_type": "code",
   "execution_count": 397,
   "metadata": {},
   "outputs": [],
   "source": [
    "# instantiate network\n",
    "simple_net = nn.Sequential(\n",
    "    nn.Linear(28*28, 64),\n",
    "    nn.ReLU(),\n",
    "    nn.Linear(64, 32),\n",
    "    nn.ReLU(),\n",
    "    nn.Linear(32, 10)\n",
    ")"
   ]
  },
  {
   "cell_type": "code",
   "execution_count": 398,
   "metadata": {},
   "outputs": [],
   "source": [
    "# create the optimizer\n",
    "class BasicOptimizer:\n",
    "    def __init__(self,params,lr): \n",
    "        self.params,self.lr = list(params),lr\n",
    "\n",
    "    def step(self, *args, **kwargs):\n",
    "        for p in self.params: \n",
    "            p.data -= p.grad.data * self.lr\n",
    "\n",
    "    def zero_grad(self, *args, **kwargs):\n",
    "        for p in self.params: \n",
    "            p.grad = None"
   ]
  },
  {
   "cell_type": "code",
   "execution_count": 399,
   "metadata": {},
   "outputs": [
    {
     "name": "stdout",
     "output_type": "stream",
     "text": [
      "torch.Size([64, 784])\n",
      "torch.Size([64])\n",
      "torch.Size([32, 64])\n",
      "torch.Size([32])\n",
      "torch.Size([10, 32])\n",
      "torch.Size([10])\n"
     ]
    }
   ],
   "source": [
    "# inspect weights and biases\n",
    "param = simple_net.parameters()\n",
    "for p in param:\n",
    "    print(p.shape)"
   ]
  },
  {
   "cell_type": "code",
   "execution_count": 400,
   "metadata": {},
   "outputs": [],
   "source": [
    "# instantiate gradient descent optimizer\n",
    "optimizer = BasicOptimizer(simple_net.parameters(), 1e-5)"
   ]
  },
  {
   "cell_type": "code",
   "execution_count": 401,
   "metadata": {},
   "outputs": [],
   "source": [
    "# define function for validating loss\n",
    "def validate_epoch(model):\n",
    "    predictions = [p.argmax().item() \n",
    "                   for xb, _ in dl_valid \n",
    "                       for p in simple_net.forward(xb)]\n",
    "    truths = [xy for xb, xy in dl_valid]\n",
    "    truths = torch.cat(truths).numpy()\n",
    "    return round((np.array(predictions)==np.array(truths)).mean(), 4)"
   ]
  },
  {
   "cell_type": "code",
   "execution_count": 402,
   "metadata": {},
   "outputs": [],
   "source": [
    "# define method for a complete epoch\n",
    "def train_epoch(model):\n",
    "    for x, y in dl_train:\n",
    "        y_hat = model.forward(x)\n",
    "        loss = F.cross_entropy(y_hat, y)\n",
    "        loss.backward()\n",
    "        for p in model.parameters():\n",
    "            p.data -= p.grad*1e-5\n",
    "            p.grad.zero_()\n",
    "        #optimizer.step()\n",
    "        #optimizer.zero_grad()"
   ]
  },
  {
   "cell_type": "code",
   "execution_count": 403,
   "metadata": {},
   "outputs": [
    {
     "data": {
      "text/plain": [
       "0.0933"
      ]
     },
     "execution_count": 403,
     "metadata": {},
     "output_type": "execute_result"
    }
   ],
   "source": [
    "# current loss\n",
    "validate_epoch(simple_net)"
   ]
  },
  {
   "cell_type": "code",
   "execution_count": 404,
   "metadata": {},
   "outputs": [
    {
     "data": {
      "text/plain": [
       "0.1764"
      ]
     },
     "execution_count": 404,
     "metadata": {},
     "output_type": "execute_result"
    }
   ],
   "source": [
    "# lets train for one epoch and see how we do\n",
    "train_epoch(simple_net)\n",
    "validate_epoch(simple_net)"
   ]
  },
  {
   "cell_type": "code",
   "execution_count": 405,
   "metadata": {},
   "outputs": [],
   "source": [
    "def train_epochs(n=10):\n",
    "    for e in range(n):\n",
    "        train_epoch(simple_net)\n",
    "        print(validate_epoch(simple_net), end= ' ')"
   ]
  },
  {
   "cell_type": "code",
   "execution_count": 406,
   "metadata": {},
   "outputs": [
    {
     "name": "stdout",
     "output_type": "stream",
     "text": [
      "0.2555 0.3193 0.3678 0.4034 0.4327 0.4596 0.483 0.5055 0.5265 0.5459 0.5612 0.5761 0.5888 0.6044 0.6173 0.6277 0.6362 0.6453 0.6544 0.6625 0.67 0.6775 0.6844 0.6912 0.6981 0.7034 0.7081 0.7126 0.7186 0.7227 0.7263 0.7317 0.7363 0.7389 0.7433 0.7474 0.7512 0.7547 0.7581 0.761 0.7633 0.7658 0.7696 0.7727 0.7753 0.7776 0.7797 0.7817 0.7836 0.7853 "
     ]
    }
   ],
   "source": [
    "train_epochs(50)"
   ]
  },
  {
   "cell_type": "markdown",
   "metadata": {},
   "source": [
    "That seems to work but only with not shuffling (DataLoader(ds_train, batch_size=256, shuffle=False))"
   ]
  },
  {
   "cell_type": "markdown",
   "metadata": {},
   "source": [
    "WHY THE HELL DOES IT NOT WORK WITH OPTIMIZER - WHAT ABOUT SHUFFLE!"
   ]
  },
  {
   "cell_type": "code",
   "execution_count": null,
   "metadata": {},
   "outputs": [],
   "source": []
  },
  {
   "cell_type": "code",
   "execution_count": null,
   "metadata": {},
   "outputs": [],
   "source": []
  },
  {
   "cell_type": "code",
   "execution_count": 407,
   "metadata": {},
   "outputs": [
    {
     "data": {
      "text/plain": [
       "tensor(0)"
      ]
     },
     "execution_count": 407,
     "metadata": {},
     "output_type": "execute_result"
    },
    {
     "data": {
      "image/png": "[encoded data removed]",
      "text/plain": [
       "<Figure size 72x72 with 1 Axes>"
      ]
     },
     "metadata": {
      "needs_background": "light"
     },
     "output_type": "display_data"
    }
   ],
   "source": [
    "# checking on a random sample\n",
    "show_image(test_x[1200].view((28, 28))); test_y[0]"
   ]
  },
  {
   "cell_type": "code",
   "execution_count": 408,
   "metadata": {},
   "outputs": [
    {
     "data": {
      "text/plain": [
       "tensor(2)"
      ]
     },
     "execution_count": 408,
     "metadata": {},
     "output_type": "execute_result"
    }
   ],
   "source": [
    "result = simple_net.forward(test_x[1200])\n",
    "result.argmax()"
   ]
  },
  {
   "cell_type": "code",
   "execution_count": 409,
   "metadata": {},
   "outputs": [],
   "source": [
    "# calculating validation on the test set by hand\n",
    "corrects = np.array([])\n",
    "for i, target in zip(test_x, test_y):\n",
    "    pred_label = simple_net.forward(i).argmax()\n",
    "    corrects = np.append(corrects, pred_label==target)"
   ]
  },
  {
   "cell_type": "code",
   "execution_count": 410,
   "metadata": {},
   "outputs": [
    {
     "data": {
      "text/plain": [
       "(torch.Size([10000, 784]), (10000,))"
      ]
     },
     "execution_count": 410,
     "metadata": {},
     "output_type": "execute_result"
    }
   ],
   "source": [
    "test_x.shape, corrects.shape"
   ]
  },
  {
   "cell_type": "code",
   "execution_count": 411,
   "metadata": {},
   "outputs": [
    {
     "name": "stdout",
     "output_type": "stream",
     "text": [
      "Accuracy on the testset: 79.63%\n"
     ]
    }
   ],
   "source": [
    "# check result\n",
    "print(f'Accuracy on the testset: {corrects.mean()*100}%')"
   ]
  },
  {
   "cell_type": "markdown",
   "metadata": {},
   "source": [
    "#### Creating a Locally Connected Network"
   ]
  },
  {
   "cell_type": "code",
   "execution_count": 443,
   "metadata": {},
   "outputs": [],
   "source": [
    "# creating loader\n",
    "image_data_loader = ImageDataLoaders.from_folder(path, train='training', valid='testing')"
   ]
  },
  {
   "cell_type": "code",
   "execution_count": 445,
   "metadata": {},
   "outputs": [],
   "source": [
    "# instantiating learner with resnet architecture\n",
    "learn = cnn_learner(image_data_loader, resnet18, pretrained=False,\n",
    "                    loss_func=F.cross_entropy, metrics=accuracy)"
   ]
  },
  {
   "cell_type": "code",
   "execution_count": 446,
   "metadata": {},
   "outputs": [
    {
     "data": {
      "text/html": [
       "<table border=\"1\" class=\"dataframe\">\n",
       "  <thead>\n",
       "    <tr style=\"text-align: left;\">\n",
       "      <th>epoch</th>\n",
       "      <th>train_loss</th>\n",
       "      <th>valid_loss</th>\n",
       "      <th>accuracy</th>\n",
       "      <th>time</th>\n",
       "    </tr>\n",
       "  </thead>\n",
       "  <tbody>\n",
       "    <tr>\n",
       "      <td>0</td>\n",
       "      <td>0.084031</td>\n",
       "      <td>0.649272</td>\n",
       "      <td>0.986800</td>\n",
       "      <td>13:10</td>\n",
       "    </tr>\n",
       "  </tbody>\n",
       "</table>"
      ],
      "text/plain": [
       "<IPython.core.display.HTML object>"
      ]
     },
     "metadata": {},
     "output_type": "display_data"
    }
   ],
   "source": [
    "# fine tuning for one cycle\n",
    "learn.fit_one_cycle(1, 0.1)"
   ]
  },
  {
   "cell_type": "markdown",
   "metadata": {},
   "source": [
    "As expected locally connected layers yield much better results."
   ]
  }
 ],
 "metadata": {
  "kernelspec": {
   "display_name": "Python 3",
   "language": "python",
   "name": "python3"
  },
  "language_info": {
   "codemirror_mode": {
    "name": "ipython",
    "version": 3
   },
   "file_extension": ".py",
   "mimetype": "text/x-python",
   "name": "python",
   "nbconvert_exporter": "python",
   "pygments_lexer": "ipython3",
   "version": "3.8.5"
  }
 },
 "nbformat": 4,
 "nbformat_minor": 4
}
