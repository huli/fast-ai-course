{
 "cells": [
  {
   "cell_type": "markdown",
   "metadata": {},
   "source": [
    "## Chapter Two"
   ]
  },
  {
   "cell_type": "code",
   "execution_count": 2,
   "metadata": {},
   "outputs": [],
   "source": [
    "from fastai.vision.all import *"
   ]
  },
  {
   "cell_type": "markdown",
   "metadata": {},
   "source": [
    "### Loading the Data"
   ]
  },
  {
   "cell_type": "code",
   "execution_count": 3,
   "metadata": {},
   "outputs": [
    {
     "data": {
      "text/html": [],
      "text/plain": [
       "<IPython.core.display.HTML object>"
      ]
     },
     "metadata": {},
     "output_type": "display_data"
    }
   ],
   "source": [
    "# downloading and unpacking the files\n",
    "path = untar_data(URLs.MNIST_SAMPLE)"
   ]
  },
  {
   "cell_type": "code",
   "execution_count": 4,
   "metadata": {},
   "outputs": [],
   "source": [
    "# setting the base path for convenience\n",
    "Path.BASE_PATH = path"
   ]
  },
  {
   "cell_type": "code",
   "execution_count": 5,
   "metadata": {},
   "outputs": [
    {
     "data": {
      "text/plain": [
       "(#3) [Path('valid'),Path('labels.csv'),Path('train')]"
      ]
     },
     "execution_count": 5,
     "metadata": {},
     "output_type": "execute_result"
    }
   ],
   "source": [
    "path.ls()"
   ]
  },
  {
   "cell_type": "code",
   "execution_count": 6,
   "metadata": {},
   "outputs": [
    {
     "data": {
      "text/plain": [
       "(#2) [Path('train/7'),Path('train/3')]"
      ]
     },
     "execution_count": 6,
     "metadata": {},
     "output_type": "execute_result"
    }
   ],
   "source": [
    "# inspect the mnist dataset\n",
    "(path/'train').ls()"
   ]
  },
  {
   "cell_type": "code",
   "execution_count": 7,
   "metadata": {},
   "outputs": [
    {
     "data": {
      "text/plain": [
       "(#6131) [Path('train/3/10.png'),Path('train/3/10000.png'),Path('train/3/10011.png'),Path('train/3/10031.png'),Path('train/3/10034.png'),Path('train/3/10042.png'),Path('train/3/10052.png'),Path('train/3/1007.png'),Path('train/3/10074.png'),Path('train/3/10091.png')...]"
      ]
     },
     "execution_count": 7,
     "metadata": {},
     "output_type": "execute_result"
    }
   ],
   "source": [
    "# load the files\n",
    "threes = (path/'train'/'3').ls().sorted()\n",
    "sevens = (path/'train'/'7').ls().sorted()\n",
    "threes"
   ]
  },
  {
   "cell_type": "code",
   "execution_count": 8,
   "metadata": {},
   "outputs": [
    {
     "data": {
      "image/png": "[encoded data removed]",
      "text/plain": [
       "<PIL.PngImagePlugin.PngImageFile image mode=L size=28x28 at 0x7F9396A58A60>"
      ]
     },
     "execution_count": 8,
     "metadata": {},
     "output_type": "execute_result"
    }
   ],
   "source": [
    "# inspect one image\n",
    "img3_path = threes[1]\n",
    "img3 = Image.open(img3_path)\n",
    "img3"
   ]
  },
  {
   "cell_type": "code",
   "execution_count": 10,
   "metadata": {},
   "outputs": [
    {
     "data": {
      "text/plain": [
       "array([[  0,   0,   0,   0,   0,   0],\n",
       "       [  0,   0,   0,   0,   0,  29],\n",
       "       [  0,   0,   0,  48, 166, 224],\n",
       "       [  0,  93, 244, 249, 253, 187],\n",
       "       [  0, 107, 253, 253, 230,  48],\n",
       "       [  0,   3,  20,  20,  15,   0]], dtype=uint8)"
      ]
     },
     "execution_count": 10,
     "metadata": {},
     "output_type": "execute_result"
    }
   ],
   "source": [
    "array(img3)[4:10,4:10]"
   ]
  },
  {
   "cell_type": "code",
   "execution_count": 11,
   "metadata": {},
   "outputs": [
    {
     "data": {
      "text/plain": [
       "tensor([[  0,   0,   0,   0,   0,   0],\n",
       "        [  0,   0,   0,   0,   0,  29],\n",
       "        [  0,   0,   0,  48, 166, 224],\n",
       "        [  0,  93, 244, 249, 253, 187],\n",
       "        [  0, 107, 253, 253, 230,  48],\n",
       "        [  0,   3,  20,  20,  15,   0]], dtype=torch.uint8)"
      ]
     },
     "execution_count": 11,
     "metadata": {},
     "output_type": "execute_result"
    }
   ],
   "source": [
    "# doing the same with a tensor\n",
    "tensor(img3)[4:10, 4:10]"
   ]
  },
  {
   "cell_type": "code",
   "execution_count": 13,
   "metadata": {},
   "outputs": [
    {
     "data": {
      "text/html": [
       "<style  type=\"text/css\" >\n",
       "#T_1cd25298_f5a3_11ea_9eb6_8c8590d48992row0_col0,#T_1cd25298_f5a3_11ea_9eb6_8c8590d48992row0_col1,#T_1cd25298_f5a3_11ea_9eb6_8c8590d48992row0_col2,#T_1cd25298_f5a3_11ea_9eb6_8c8590d48992row0_col3,#T_1cd25298_f5a3_11ea_9eb6_8c8590d48992row0_col4,#T_1cd25298_f5a3_11ea_9eb6_8c8590d48992row0_col5,#T_1cd25298_f5a3_11ea_9eb6_8c8590d48992row0_col6,#T_1cd25298_f5a3_11ea_9eb6_8c8590d48992row0_col7,#T_1cd25298_f5a3_11ea_9eb6_8c8590d48992row0_col8,#T_1cd25298_f5a3_11ea_9eb6_8c8590d48992row0_col9,#T_1cd25298_f5a3_11ea_9eb6_8c8590d48992row0_col10,#T_1cd25298_f5a3_11ea_9eb6_8c8590d48992row0_col11,#T_1cd25298_f5a3_11ea_9eb6_8c8590d48992row0_col12,#T_1cd25298_f5a3_11ea_9eb6_8c8590d48992row0_col13,#T_1cd25298_f5a3_11ea_9eb6_8c8590d48992row0_col14,#T_1cd25298_f5a3_11ea_9eb6_8c8590d48992row0_col15,#T_1cd25298_f5a3_11ea_9eb6_8c8590d48992row0_col16,#T_1cd25298_f5a3_11ea_9eb6_8c8590d48992row0_col17,#T_1cd25298_f5a3_11ea_9eb6_8c8590d48992row1_col0,#T_1cd25298_f5a3_11ea_9eb6_8c8590d48992row1_col1,#T_1cd25298_f5a3_11ea_9eb6_8c8590d48992row1_col2,#T_1cd25298_f5a3_11ea_9eb6_8c8590d48992row1_col3,#T_1cd25298_f5a3_11ea_9eb6_8c8590d48992row1_col4,#T_1cd25298_f5a3_11ea_9eb6_8c8590d48992row1_col15,#T_1cd25298_f5a3_11ea_9eb6_8c8590d48992row1_col16,#T_1cd25298_f5a3_11ea_9eb6_8c8590d48992row1_col17,#T_1cd25298_f5a3_11ea_9eb6_8c8590d48992row2_col0,#T_1cd25298_f5a3_11ea_9eb6_8c8590d48992row2_col1,#T_1cd25298_f5a3_11ea_9eb6_8c8590d48992row2_col2,#T_1cd25298_f5a3_11ea_9eb6_8c8590d48992row2_col15,#T_1cd25298_f5a3_11ea_9eb6_8c8590d48992row2_col16,#T_1cd25298_f5a3_11ea_9eb6_8c8590d48992row2_col17,#T_1cd25298_f5a3_11ea_9eb6_8c8590d48992row3_col0,#T_1cd25298_f5a3_11ea_9eb6_8c8590d48992row3_col15,#T_1cd25298_f5a3_11ea_9eb6_8c8590d48992row3_col16,#T_1cd25298_f5a3_11ea_9eb6_8c8590d48992row3_col17,#T_1cd25298_f5a3_11ea_9eb6_8c8590d48992row4_col0,#T_1cd25298_f5a3_11ea_9eb6_8c8590d48992row4_col6,#T_1cd25298_f5a3_11ea_9eb6_8c8590d48992row4_col7,#T_1cd25298_f5a3_11ea_9eb6_8c8590d48992row4_col8,#T_1cd25298_f5a3_11ea_9eb6_8c8590d48992row4_col9,#T_1cd25298_f5a3_11ea_9eb6_8c8590d48992row4_col10,#T_1cd25298_f5a3_11ea_9eb6_8c8590d48992row4_col15,#T_1cd25298_f5a3_11ea_9eb6_8c8590d48992row4_col16,#T_1cd25298_f5a3_11ea_9eb6_8c8590d48992row4_col17,#T_1cd25298_f5a3_11ea_9eb6_8c8590d48992row5_col0,#T_1cd25298_f5a3_11ea_9eb6_8c8590d48992row5_col5,#T_1cd25298_f5a3_11ea_9eb6_8c8590d48992row5_col6,#T_1cd25298_f5a3_11ea_9eb6_8c8590d48992row5_col7,#T_1cd25298_f5a3_11ea_9eb6_8c8590d48992row5_col8,#T_1cd25298_f5a3_11ea_9eb6_8c8590d48992row5_col9,#T_1cd25298_f5a3_11ea_9eb6_8c8590d48992row5_col15,#T_1cd25298_f5a3_11ea_9eb6_8c8590d48992row5_col16,#T_1cd25298_f5a3_11ea_9eb6_8c8590d48992row5_col17,#T_1cd25298_f5a3_11ea_9eb6_8c8590d48992row6_col0,#T_1cd25298_f5a3_11ea_9eb6_8c8590d48992row6_col1,#T_1cd25298_f5a3_11ea_9eb6_8c8590d48992row6_col2,#T_1cd25298_f5a3_11ea_9eb6_8c8590d48992row6_col3,#T_1cd25298_f5a3_11ea_9eb6_8c8590d48992row6_col4,#T_1cd25298_f5a3_11ea_9eb6_8c8590d48992row6_col5,#T_1cd25298_f5a3_11ea_9eb6_8c8590d48992row6_col6,#T_1cd25298_f5a3_11ea_9eb6_8c8590d48992row6_col7,#T_1cd25298_f5a3_11ea_9eb6_8c8590d48992row6_col8,#T_1cd25298_f5a3_11ea_9eb6_8c8590d48992row6_col9,#T_1cd25298_f5a3_11ea_9eb6_8c8590d48992row6_col14,#T_1cd25298_f5a3_11ea_9eb6_8c8590d48992row6_col15,#T_1cd25298_f5a3_11ea_9eb6_8c8590d48992row6_col16,#T_1cd25298_f5a3_11ea_9eb6_8c8590d48992row6_col17,#T_1cd25298_f5a3_11ea_9eb6_8c8590d48992row7_col0,#T_1cd25298_f5a3_11ea_9eb6_8c8590d48992row7_col1,#T_1cd25298_f5a3_11ea_9eb6_8c8590d48992row7_col2,#T_1cd25298_f5a3_11ea_9eb6_8c8590d48992row7_col3,#T_1cd25298_f5a3_11ea_9eb6_8c8590d48992row7_col4,#T_1cd25298_f5a3_11ea_9eb6_8c8590d48992row7_col5,#T_1cd25298_f5a3_11ea_9eb6_8c8590d48992row7_col6,#T_1cd25298_f5a3_11ea_9eb6_8c8590d48992row7_col13,#T_1cd25298_f5a3_11ea_9eb6_8c8590d48992row7_col14,#T_1cd25298_f5a3_11ea_9eb6_8c8590d48992row7_col15,#T_1cd25298_f5a3_11ea_9eb6_8c8590d48992row7_col16,#T_1cd25298_f5a3_11ea_9eb6_8c8590d48992row7_col17,#T_1cd25298_f5a3_11ea_9eb6_8c8590d48992row8_col0,#T_1cd25298_f5a3_11ea_9eb6_8c8590d48992row8_col1,#T_1cd25298_f5a3_11ea_9eb6_8c8590d48992row8_col2,#T_1cd25298_f5a3_11ea_9eb6_8c8590d48992row8_col3,#T_1cd25298_f5a3_11ea_9eb6_8c8590d48992row8_col4,#T_1cd25298_f5a3_11ea_9eb6_8c8590d48992row8_col13,#T_1cd25298_f5a3_11ea_9eb6_8c8590d48992row8_col14,#T_1cd25298_f5a3_11ea_9eb6_8c8590d48992row8_col15,#T_1cd25298_f5a3_11ea_9eb6_8c8590d48992row8_col16,#T_1cd25298_f5a3_11ea_9eb6_8c8590d48992row8_col17,#T_1cd25298_f5a3_11ea_9eb6_8c8590d48992row9_col0,#T_1cd25298_f5a3_11ea_9eb6_8c8590d48992row9_col1,#T_1cd25298_f5a3_11ea_9eb6_8c8590d48992row9_col2,#T_1cd25298_f5a3_11ea_9eb6_8c8590d48992row9_col3,#T_1cd25298_f5a3_11ea_9eb6_8c8590d48992row9_col4,#T_1cd25298_f5a3_11ea_9eb6_8c8590d48992row9_col16,#T_1cd25298_f5a3_11ea_9eb6_8c8590d48992row9_col17,#T_1cd25298_f5a3_11ea_9eb6_8c8590d48992row10_col0,#T_1cd25298_f5a3_11ea_9eb6_8c8590d48992row10_col1,#T_1cd25298_f5a3_11ea_9eb6_8c8590d48992row10_col2,#T_1cd25298_f5a3_11ea_9eb6_8c8590d48992row10_col3,#T_1cd25298_f5a3_11ea_9eb6_8c8590d48992row10_col4,#T_1cd25298_f5a3_11ea_9eb6_8c8590d48992row10_col5,#T_1cd25298_f5a3_11ea_9eb6_8c8590d48992row10_col6,#T_1cd25298_f5a3_11ea_9eb6_8c8590d48992row10_col17{\n",
       "            font-size:  6pt;\n",
       "            background-color:  #ffffff;\n",
       "            color:  #000000;\n",
       "        }#T_1cd25298_f5a3_11ea_9eb6_8c8590d48992row1_col5{\n",
       "            font-size:  6pt;\n",
       "            background-color:  #efefef;\n",
       "            color:  #000000;\n",
       "        }#T_1cd25298_f5a3_11ea_9eb6_8c8590d48992row1_col6,#T_1cd25298_f5a3_11ea_9eb6_8c8590d48992row1_col13{\n",
       "            font-size:  6pt;\n",
       "            background-color:  #7c7c7c;\n",
       "            color:  #000000;\n",
       "        }#T_1cd25298_f5a3_11ea_9eb6_8c8590d48992row1_col7{\n",
       "            font-size:  6pt;\n",
       "            background-color:  #4a4a4a;\n",
       "            color:  #f1f1f1;\n",
       "        }#T_1cd25298_f5a3_11ea_9eb6_8c8590d48992row1_col8,#T_1cd25298_f5a3_11ea_9eb6_8c8590d48992row1_col9,#T_1cd25298_f5a3_11ea_9eb6_8c8590d48992row1_col10,#T_1cd25298_f5a3_11ea_9eb6_8c8590d48992row2_col5,#T_1cd25298_f5a3_11ea_9eb6_8c8590d48992row2_col6,#T_1cd25298_f5a3_11ea_9eb6_8c8590d48992row2_col7,#T_1cd25298_f5a3_11ea_9eb6_8c8590d48992row2_col11,#T_1cd25298_f5a3_11ea_9eb6_8c8590d48992row2_col12,#T_1cd25298_f5a3_11ea_9eb6_8c8590d48992row2_col13,#T_1cd25298_f5a3_11ea_9eb6_8c8590d48992row3_col4,#T_1cd25298_f5a3_11ea_9eb6_8c8590d48992row3_col12,#T_1cd25298_f5a3_11ea_9eb6_8c8590d48992row3_col13,#T_1cd25298_f5a3_11ea_9eb6_8c8590d48992row4_col1,#T_1cd25298_f5a3_11ea_9eb6_8c8590d48992row4_col2,#T_1cd25298_f5a3_11ea_9eb6_8c8590d48992row4_col3,#T_1cd25298_f5a3_11ea_9eb6_8c8590d48992row4_col12,#T_1cd25298_f5a3_11ea_9eb6_8c8590d48992row4_col13,#T_1cd25298_f5a3_11ea_9eb6_8c8590d48992row5_col12,#T_1cd25298_f5a3_11ea_9eb6_8c8590d48992row6_col11,#T_1cd25298_f5a3_11ea_9eb6_8c8590d48992row9_col11,#T_1cd25298_f5a3_11ea_9eb6_8c8590d48992row10_col11,#T_1cd25298_f5a3_11ea_9eb6_8c8590d48992row10_col12,#T_1cd25298_f5a3_11ea_9eb6_8c8590d48992row10_col13,#T_1cd25298_f5a3_11ea_9eb6_8c8590d48992row10_col14,#T_1cd25298_f5a3_11ea_9eb6_8c8590d48992row10_col15,#T_1cd25298_f5a3_11ea_9eb6_8c8590d48992row10_col16{\n",
       "            font-size:  6pt;\n",
       "            background-color:  #000000;\n",
       "            color:  #f1f1f1;\n",
       "        }#T_1cd25298_f5a3_11ea_9eb6_8c8590d48992row1_col11{\n",
       "            font-size:  6pt;\n",
       "            background-color:  #606060;\n",
       "            color:  #f1f1f1;\n",
       "        }#T_1cd25298_f5a3_11ea_9eb6_8c8590d48992row1_col12{\n",
       "            font-size:  6pt;\n",
       "            background-color:  #4d4d4d;\n",
       "            color:  #f1f1f1;\n",
       "        }#T_1cd25298_f5a3_11ea_9eb6_8c8590d48992row1_col14{\n",
       "            font-size:  6pt;\n",
       "            background-color:  #bbbbbb;\n",
       "            color:  #000000;\n",
       "        }#T_1cd25298_f5a3_11ea_9eb6_8c8590d48992row2_col3{\n",
       "            font-size:  6pt;\n",
       "            background-color:  #e4e4e4;\n",
       "            color:  #000000;\n",
       "        }#T_1cd25298_f5a3_11ea_9eb6_8c8590d48992row2_col4,#T_1cd25298_f5a3_11ea_9eb6_8c8590d48992row8_col6{\n",
       "            font-size:  6pt;\n",
       "            background-color:  #6b6b6b;\n",
       "            color:  #000000;\n",
       "        }#T_1cd25298_f5a3_11ea_9eb6_8c8590d48992row2_col8,#T_1cd25298_f5a3_11ea_9eb6_8c8590d48992row2_col14,#T_1cd25298_f5a3_11ea_9eb6_8c8590d48992row3_col14{\n",
       "            font-size:  6pt;\n",
       "            background-color:  #171717;\n",
       "            color:  #f1f1f1;\n",
       "        }#T_1cd25298_f5a3_11ea_9eb6_8c8590d48992row2_col9,#T_1cd25298_f5a3_11ea_9eb6_8c8590d48992row3_col11{\n",
       "            font-size:  6pt;\n",
       "            background-color:  #4b4b4b;\n",
       "            color:  #f1f1f1;\n",
       "        }#T_1cd25298_f5a3_11ea_9eb6_8c8590d48992row2_col10,#T_1cd25298_f5a3_11ea_9eb6_8c8590d48992row7_col10,#T_1cd25298_f5a3_11ea_9eb6_8c8590d48992row8_col8,#T_1cd25298_f5a3_11ea_9eb6_8c8590d48992row8_col10,#T_1cd25298_f5a3_11ea_9eb6_8c8590d48992row9_col8,#T_1cd25298_f5a3_11ea_9eb6_8c8590d48992row9_col10{\n",
       "            font-size:  6pt;\n",
       "            background-color:  #010101;\n",
       "            color:  #f1f1f1;\n",
       "        }#T_1cd25298_f5a3_11ea_9eb6_8c8590d48992row3_col1{\n",
       "            font-size:  6pt;\n",
       "            background-color:  #272727;\n",
       "            color:  #f1f1f1;\n",
       "        }#T_1cd25298_f5a3_11ea_9eb6_8c8590d48992row3_col2{\n",
       "            font-size:  6pt;\n",
       "            background-color:  #0a0a0a;\n",
       "            color:  #f1f1f1;\n",
       "        }#T_1cd25298_f5a3_11ea_9eb6_8c8590d48992row3_col3{\n",
       "            font-size:  6pt;\n",
       "            background-color:  #050505;\n",
       "            color:  #f1f1f1;\n",
       "        }#T_1cd25298_f5a3_11ea_9eb6_8c8590d48992row3_col5{\n",
       "            font-size:  6pt;\n",
       "            background-color:  #333333;\n",
       "            color:  #f1f1f1;\n",
       "        }#T_1cd25298_f5a3_11ea_9eb6_8c8590d48992row3_col6{\n",
       "            font-size:  6pt;\n",
       "            background-color:  #e6e6e6;\n",
       "            color:  #000000;\n",
       "        }#T_1cd25298_f5a3_11ea_9eb6_8c8590d48992row3_col7,#T_1cd25298_f5a3_11ea_9eb6_8c8590d48992row3_col10{\n",
       "            font-size:  6pt;\n",
       "            background-color:  #fafafa;\n",
       "            color:  #000000;\n",
       "        }#T_1cd25298_f5a3_11ea_9eb6_8c8590d48992row3_col8{\n",
       "            font-size:  6pt;\n",
       "            background-color:  #fbfbfb;\n",
       "            color:  #000000;\n",
       "        }#T_1cd25298_f5a3_11ea_9eb6_8c8590d48992row3_col9{\n",
       "            font-size:  6pt;\n",
       "            background-color:  #fdfdfd;\n",
       "            color:  #000000;\n",
       "        }#T_1cd25298_f5a3_11ea_9eb6_8c8590d48992row4_col4{\n",
       "            font-size:  6pt;\n",
       "            background-color:  #1b1b1b;\n",
       "            color:  #f1f1f1;\n",
       "        }#T_1cd25298_f5a3_11ea_9eb6_8c8590d48992row4_col5{\n",
       "            font-size:  6pt;\n",
       "            background-color:  #e0e0e0;\n",
       "            color:  #000000;\n",
       "        }#T_1cd25298_f5a3_11ea_9eb6_8c8590d48992row4_col11{\n",
       "            font-size:  6pt;\n",
       "            background-color:  #4e4e4e;\n",
       "            color:  #f1f1f1;\n",
       "        }#T_1cd25298_f5a3_11ea_9eb6_8c8590d48992row4_col14{\n",
       "            font-size:  6pt;\n",
       "            background-color:  #767676;\n",
       "            color:  #000000;\n",
       "        }#T_1cd25298_f5a3_11ea_9eb6_8c8590d48992row5_col1{\n",
       "            font-size:  6pt;\n",
       "            background-color:  #fcfcfc;\n",
       "            color:  #000000;\n",
       "        }#T_1cd25298_f5a3_11ea_9eb6_8c8590d48992row5_col2,#T_1cd25298_f5a3_11ea_9eb6_8c8590d48992row5_col3{\n",
       "            font-size:  6pt;\n",
       "            background-color:  #f6f6f6;\n",
       "            color:  #000000;\n",
       "        }#T_1cd25298_f5a3_11ea_9eb6_8c8590d48992row5_col4,#T_1cd25298_f5a3_11ea_9eb6_8c8590d48992row7_col7{\n",
       "            font-size:  6pt;\n",
       "            background-color:  #f8f8f8;\n",
       "            color:  #000000;\n",
       "        }#T_1cd25298_f5a3_11ea_9eb6_8c8590d48992row5_col10,#T_1cd25298_f5a3_11ea_9eb6_8c8590d48992row10_col7{\n",
       "            font-size:  6pt;\n",
       "            background-color:  #e8e8e8;\n",
       "            color:  #000000;\n",
       "        }#T_1cd25298_f5a3_11ea_9eb6_8c8590d48992row5_col11{\n",
       "            font-size:  6pt;\n",
       "            background-color:  #222222;\n",
       "            color:  #f1f1f1;\n",
       "        }#T_1cd25298_f5a3_11ea_9eb6_8c8590d48992row5_col13,#T_1cd25298_f5a3_11ea_9eb6_8c8590d48992row6_col12{\n",
       "            font-size:  6pt;\n",
       "            background-color:  #090909;\n",
       "            color:  #f1f1f1;\n",
       "        }#T_1cd25298_f5a3_11ea_9eb6_8c8590d48992row5_col14{\n",
       "            font-size:  6pt;\n",
       "            background-color:  #d0d0d0;\n",
       "            color:  #000000;\n",
       "        }#T_1cd25298_f5a3_11ea_9eb6_8c8590d48992row6_col10,#T_1cd25298_f5a3_11ea_9eb6_8c8590d48992row7_col11,#T_1cd25298_f5a3_11ea_9eb6_8c8590d48992row9_col6{\n",
       "            font-size:  6pt;\n",
       "            background-color:  #060606;\n",
       "            color:  #f1f1f1;\n",
       "        }#T_1cd25298_f5a3_11ea_9eb6_8c8590d48992row6_col13{\n",
       "            font-size:  6pt;\n",
       "            background-color:  #979797;\n",
       "            color:  #000000;\n",
       "        }#T_1cd25298_f5a3_11ea_9eb6_8c8590d48992row7_col8{\n",
       "            font-size:  6pt;\n",
       "            background-color:  #b6b6b6;\n",
       "            color:  #000000;\n",
       "        }#T_1cd25298_f5a3_11ea_9eb6_8c8590d48992row7_col9{\n",
       "            font-size:  6pt;\n",
       "            background-color:  #252525;\n",
       "            color:  #f1f1f1;\n",
       "        }#T_1cd25298_f5a3_11ea_9eb6_8c8590d48992row7_col12{\n",
       "            font-size:  6pt;\n",
       "            background-color:  #999999;\n",
       "            color:  #000000;\n",
       "        }#T_1cd25298_f5a3_11ea_9eb6_8c8590d48992row8_col5{\n",
       "            font-size:  6pt;\n",
       "            background-color:  #f9f9f9;\n",
       "            color:  #000000;\n",
       "        }#T_1cd25298_f5a3_11ea_9eb6_8c8590d48992row8_col7{\n",
       "            font-size:  6pt;\n",
       "            background-color:  #101010;\n",
       "            color:  #f1f1f1;\n",
       "        }#T_1cd25298_f5a3_11ea_9eb6_8c8590d48992row8_col9,#T_1cd25298_f5a3_11ea_9eb6_8c8590d48992row9_col9{\n",
       "            font-size:  6pt;\n",
       "            background-color:  #020202;\n",
       "            color:  #f1f1f1;\n",
       "        }#T_1cd25298_f5a3_11ea_9eb6_8c8590d48992row8_col11{\n",
       "            font-size:  6pt;\n",
       "            background-color:  #545454;\n",
       "            color:  #f1f1f1;\n",
       "        }#T_1cd25298_f5a3_11ea_9eb6_8c8590d48992row8_col12{\n",
       "            font-size:  6pt;\n",
       "            background-color:  #f1f1f1;\n",
       "            color:  #000000;\n",
       "        }#T_1cd25298_f5a3_11ea_9eb6_8c8590d48992row9_col5{\n",
       "            font-size:  6pt;\n",
       "            background-color:  #f7f7f7;\n",
       "            color:  #000000;\n",
       "        }#T_1cd25298_f5a3_11ea_9eb6_8c8590d48992row9_col7{\n",
       "            font-size:  6pt;\n",
       "            background-color:  #030303;\n",
       "            color:  #f1f1f1;\n",
       "        }#T_1cd25298_f5a3_11ea_9eb6_8c8590d48992row9_col12{\n",
       "            font-size:  6pt;\n",
       "            background-color:  #181818;\n",
       "            color:  #f1f1f1;\n",
       "        }#T_1cd25298_f5a3_11ea_9eb6_8c8590d48992row9_col13{\n",
       "            font-size:  6pt;\n",
       "            background-color:  #303030;\n",
       "            color:  #f1f1f1;\n",
       "        }#T_1cd25298_f5a3_11ea_9eb6_8c8590d48992row9_col14{\n",
       "            font-size:  6pt;\n",
       "            background-color:  #a9a9a9;\n",
       "            color:  #000000;\n",
       "        }#T_1cd25298_f5a3_11ea_9eb6_8c8590d48992row9_col15{\n",
       "            font-size:  6pt;\n",
       "            background-color:  #fefefe;\n",
       "            color:  #000000;\n",
       "        }#T_1cd25298_f5a3_11ea_9eb6_8c8590d48992row10_col8,#T_1cd25298_f5a3_11ea_9eb6_8c8590d48992row10_col9{\n",
       "            font-size:  6pt;\n",
       "            background-color:  #bababa;\n",
       "            color:  #000000;\n",
       "        }#T_1cd25298_f5a3_11ea_9eb6_8c8590d48992row10_col10{\n",
       "            font-size:  6pt;\n",
       "            background-color:  #393939;\n",
       "            color:  #f1f1f1;\n",
       "        }</style><table id=\"T_1cd25298_f5a3_11ea_9eb6_8c8590d48992\" ><thead>    <tr>        <th class=\"blank level0\" ></th>        <th class=\"col_heading level0 col0\" >0</th>        <th class=\"col_heading level0 col1\" >1</th>        <th class=\"col_heading level0 col2\" >2</th>        <th class=\"col_heading level0 col3\" >3</th>        <th class=\"col_heading level0 col4\" >4</th>        <th class=\"col_heading level0 col5\" >5</th>        <th class=\"col_heading level0 col6\" >6</th>        <th class=\"col_heading level0 col7\" >7</th>        <th class=\"col_heading level0 col8\" >8</th>        <th class=\"col_heading level0 col9\" >9</th>        <th class=\"col_heading level0 col10\" >10</th>        <th class=\"col_heading level0 col11\" >11</th>        <th class=\"col_heading level0 col12\" >12</th>        <th class=\"col_heading level0 col13\" >13</th>        <th class=\"col_heading level0 col14\" >14</th>        <th class=\"col_heading level0 col15\" >15</th>        <th class=\"col_heading level0 col16\" >16</th>        <th class=\"col_heading level0 col17\" >17</th>    </tr></thead><tbody>\n",
       "                <tr>\n",
       "                        <th id=\"T_1cd25298_f5a3_11ea_9eb6_8c8590d48992level0_row0\" class=\"row_heading level0 row0\" >0</th>\n",
       "                        <td id=\"T_1cd25298_f5a3_11ea_9eb6_8c8590d48992row0_col0\" class=\"data row0 col0\" >0</td>\n",
       "                        <td id=\"T_1cd25298_f5a3_11ea_9eb6_8c8590d48992row0_col1\" class=\"data row0 col1\" >0</td>\n",
       "                        <td id=\"T_1cd25298_f5a3_11ea_9eb6_8c8590d48992row0_col2\" class=\"data row0 col2\" >0</td>\n",
       "                        <td id=\"T_1cd25298_f5a3_11ea_9eb6_8c8590d48992row0_col3\" class=\"data row0 col3\" >0</td>\n",
       "                        <td id=\"T_1cd25298_f5a3_11ea_9eb6_8c8590d48992row0_col4\" class=\"data row0 col4\" >0</td>\n",
       "                        <td id=\"T_1cd25298_f5a3_11ea_9eb6_8c8590d48992row0_col5\" class=\"data row0 col5\" >0</td>\n",
       "                        <td id=\"T_1cd25298_f5a3_11ea_9eb6_8c8590d48992row0_col6\" class=\"data row0 col6\" >0</td>\n",
       "                        <td id=\"T_1cd25298_f5a3_11ea_9eb6_8c8590d48992row0_col7\" class=\"data row0 col7\" >0</td>\n",
       "                        <td id=\"T_1cd25298_f5a3_11ea_9eb6_8c8590d48992row0_col8\" class=\"data row0 col8\" >0</td>\n",
       "                        <td id=\"T_1cd25298_f5a3_11ea_9eb6_8c8590d48992row0_col9\" class=\"data row0 col9\" >0</td>\n",
       "                        <td id=\"T_1cd25298_f5a3_11ea_9eb6_8c8590d48992row0_col10\" class=\"data row0 col10\" >0</td>\n",
       "                        <td id=\"T_1cd25298_f5a3_11ea_9eb6_8c8590d48992row0_col11\" class=\"data row0 col11\" >0</td>\n",
       "                        <td id=\"T_1cd25298_f5a3_11ea_9eb6_8c8590d48992row0_col12\" class=\"data row0 col12\" >0</td>\n",
       "                        <td id=\"T_1cd25298_f5a3_11ea_9eb6_8c8590d48992row0_col13\" class=\"data row0 col13\" >0</td>\n",
       "                        <td id=\"T_1cd25298_f5a3_11ea_9eb6_8c8590d48992row0_col14\" class=\"data row0 col14\" >0</td>\n",
       "                        <td id=\"T_1cd25298_f5a3_11ea_9eb6_8c8590d48992row0_col15\" class=\"data row0 col15\" >0</td>\n",
       "                        <td id=\"T_1cd25298_f5a3_11ea_9eb6_8c8590d48992row0_col16\" class=\"data row0 col16\" >0</td>\n",
       "                        <td id=\"T_1cd25298_f5a3_11ea_9eb6_8c8590d48992row0_col17\" class=\"data row0 col17\" >0</td>\n",
       "            </tr>\n",
       "            <tr>\n",
       "                        <th id=\"T_1cd25298_f5a3_11ea_9eb6_8c8590d48992level0_row1\" class=\"row_heading level0 row1\" >1</th>\n",
       "                        <td id=\"T_1cd25298_f5a3_11ea_9eb6_8c8590d48992row1_col0\" class=\"data row1 col0\" >0</td>\n",
       "                        <td id=\"T_1cd25298_f5a3_11ea_9eb6_8c8590d48992row1_col1\" class=\"data row1 col1\" >0</td>\n",
       "                        <td id=\"T_1cd25298_f5a3_11ea_9eb6_8c8590d48992row1_col2\" class=\"data row1 col2\" >0</td>\n",
       "                        <td id=\"T_1cd25298_f5a3_11ea_9eb6_8c8590d48992row1_col3\" class=\"data row1 col3\" >0</td>\n",
       "                        <td id=\"T_1cd25298_f5a3_11ea_9eb6_8c8590d48992row1_col4\" class=\"data row1 col4\" >0</td>\n",
       "                        <td id=\"T_1cd25298_f5a3_11ea_9eb6_8c8590d48992row1_col5\" class=\"data row1 col5\" >29</td>\n",
       "                        <td id=\"T_1cd25298_f5a3_11ea_9eb6_8c8590d48992row1_col6\" class=\"data row1 col6\" >150</td>\n",
       "                        <td id=\"T_1cd25298_f5a3_11ea_9eb6_8c8590d48992row1_col7\" class=\"data row1 col7\" >195</td>\n",
       "                        <td id=\"T_1cd25298_f5a3_11ea_9eb6_8c8590d48992row1_col8\" class=\"data row1 col8\" >254</td>\n",
       "                        <td id=\"T_1cd25298_f5a3_11ea_9eb6_8c8590d48992row1_col9\" class=\"data row1 col9\" >255</td>\n",
       "                        <td id=\"T_1cd25298_f5a3_11ea_9eb6_8c8590d48992row1_col10\" class=\"data row1 col10\" >254</td>\n",
       "                        <td id=\"T_1cd25298_f5a3_11ea_9eb6_8c8590d48992row1_col11\" class=\"data row1 col11\" >176</td>\n",
       "                        <td id=\"T_1cd25298_f5a3_11ea_9eb6_8c8590d48992row1_col12\" class=\"data row1 col12\" >193</td>\n",
       "                        <td id=\"T_1cd25298_f5a3_11ea_9eb6_8c8590d48992row1_col13\" class=\"data row1 col13\" >150</td>\n",
       "                        <td id=\"T_1cd25298_f5a3_11ea_9eb6_8c8590d48992row1_col14\" class=\"data row1 col14\" >96</td>\n",
       "                        <td id=\"T_1cd25298_f5a3_11ea_9eb6_8c8590d48992row1_col15\" class=\"data row1 col15\" >0</td>\n",
       "                        <td id=\"T_1cd25298_f5a3_11ea_9eb6_8c8590d48992row1_col16\" class=\"data row1 col16\" >0</td>\n",
       "                        <td id=\"T_1cd25298_f5a3_11ea_9eb6_8c8590d48992row1_col17\" class=\"data row1 col17\" >0</td>\n",
       "            </tr>\n",
       "            <tr>\n",
       "                        <th id=\"T_1cd25298_f5a3_11ea_9eb6_8c8590d48992level0_row2\" class=\"row_heading level0 row2\" >2</th>\n",
       "                        <td id=\"T_1cd25298_f5a3_11ea_9eb6_8c8590d48992row2_col0\" class=\"data row2 col0\" >0</td>\n",
       "                        <td id=\"T_1cd25298_f5a3_11ea_9eb6_8c8590d48992row2_col1\" class=\"data row2 col1\" >0</td>\n",
       "                        <td id=\"T_1cd25298_f5a3_11ea_9eb6_8c8590d48992row2_col2\" class=\"data row2 col2\" >0</td>\n",
       "                        <td id=\"T_1cd25298_f5a3_11ea_9eb6_8c8590d48992row2_col3\" class=\"data row2 col3\" >48</td>\n",
       "                        <td id=\"T_1cd25298_f5a3_11ea_9eb6_8c8590d48992row2_col4\" class=\"data row2 col4\" >166</td>\n",
       "                        <td id=\"T_1cd25298_f5a3_11ea_9eb6_8c8590d48992row2_col5\" class=\"data row2 col5\" >224</td>\n",
       "                        <td id=\"T_1cd25298_f5a3_11ea_9eb6_8c8590d48992row2_col6\" class=\"data row2 col6\" >253</td>\n",
       "                        <td id=\"T_1cd25298_f5a3_11ea_9eb6_8c8590d48992row2_col7\" class=\"data row2 col7\" >253</td>\n",
       "                        <td id=\"T_1cd25298_f5a3_11ea_9eb6_8c8590d48992row2_col8\" class=\"data row2 col8\" >234</td>\n",
       "                        <td id=\"T_1cd25298_f5a3_11ea_9eb6_8c8590d48992row2_col9\" class=\"data row2 col9\" >196</td>\n",
       "                        <td id=\"T_1cd25298_f5a3_11ea_9eb6_8c8590d48992row2_col10\" class=\"data row2 col10\" >253</td>\n",
       "                        <td id=\"T_1cd25298_f5a3_11ea_9eb6_8c8590d48992row2_col11\" class=\"data row2 col11\" >253</td>\n",
       "                        <td id=\"T_1cd25298_f5a3_11ea_9eb6_8c8590d48992row2_col12\" class=\"data row2 col12\" >253</td>\n",
       "                        <td id=\"T_1cd25298_f5a3_11ea_9eb6_8c8590d48992row2_col13\" class=\"data row2 col13\" >253</td>\n",
       "                        <td id=\"T_1cd25298_f5a3_11ea_9eb6_8c8590d48992row2_col14\" class=\"data row2 col14\" >233</td>\n",
       "                        <td id=\"T_1cd25298_f5a3_11ea_9eb6_8c8590d48992row2_col15\" class=\"data row2 col15\" >0</td>\n",
       "                        <td id=\"T_1cd25298_f5a3_11ea_9eb6_8c8590d48992row2_col16\" class=\"data row2 col16\" >0</td>\n",
       "                        <td id=\"T_1cd25298_f5a3_11ea_9eb6_8c8590d48992row2_col17\" class=\"data row2 col17\" >0</td>\n",
       "            </tr>\n",
       "            <tr>\n",
       "                        <th id=\"T_1cd25298_f5a3_11ea_9eb6_8c8590d48992level0_row3\" class=\"row_heading level0 row3\" >3</th>\n",
       "                        <td id=\"T_1cd25298_f5a3_11ea_9eb6_8c8590d48992row3_col0\" class=\"data row3 col0\" >0</td>\n",
       "                        <td id=\"T_1cd25298_f5a3_11ea_9eb6_8c8590d48992row3_col1\" class=\"data row3 col1\" >93</td>\n",
       "                        <td id=\"T_1cd25298_f5a3_11ea_9eb6_8c8590d48992row3_col2\" class=\"data row3 col2\" >244</td>\n",
       "                        <td id=\"T_1cd25298_f5a3_11ea_9eb6_8c8590d48992row3_col3\" class=\"data row3 col3\" >249</td>\n",
       "                        <td id=\"T_1cd25298_f5a3_11ea_9eb6_8c8590d48992row3_col4\" class=\"data row3 col4\" >253</td>\n",
       "                        <td id=\"T_1cd25298_f5a3_11ea_9eb6_8c8590d48992row3_col5\" class=\"data row3 col5\" >187</td>\n",
       "                        <td id=\"T_1cd25298_f5a3_11ea_9eb6_8c8590d48992row3_col6\" class=\"data row3 col6\" >46</td>\n",
       "                        <td id=\"T_1cd25298_f5a3_11ea_9eb6_8c8590d48992row3_col7\" class=\"data row3 col7\" >10</td>\n",
       "                        <td id=\"T_1cd25298_f5a3_11ea_9eb6_8c8590d48992row3_col8\" class=\"data row3 col8\" >8</td>\n",
       "                        <td id=\"T_1cd25298_f5a3_11ea_9eb6_8c8590d48992row3_col9\" class=\"data row3 col9\" >4</td>\n",
       "                        <td id=\"T_1cd25298_f5a3_11ea_9eb6_8c8590d48992row3_col10\" class=\"data row3 col10\" >10</td>\n",
       "                        <td id=\"T_1cd25298_f5a3_11ea_9eb6_8c8590d48992row3_col11\" class=\"data row3 col11\" >194</td>\n",
       "                        <td id=\"T_1cd25298_f5a3_11ea_9eb6_8c8590d48992row3_col12\" class=\"data row3 col12\" >253</td>\n",
       "                        <td id=\"T_1cd25298_f5a3_11ea_9eb6_8c8590d48992row3_col13\" class=\"data row3 col13\" >253</td>\n",
       "                        <td id=\"T_1cd25298_f5a3_11ea_9eb6_8c8590d48992row3_col14\" class=\"data row3 col14\" >233</td>\n",
       "                        <td id=\"T_1cd25298_f5a3_11ea_9eb6_8c8590d48992row3_col15\" class=\"data row3 col15\" >0</td>\n",
       "                        <td id=\"T_1cd25298_f5a3_11ea_9eb6_8c8590d48992row3_col16\" class=\"data row3 col16\" >0</td>\n",
       "                        <td id=\"T_1cd25298_f5a3_11ea_9eb6_8c8590d48992row3_col17\" class=\"data row3 col17\" >0</td>\n",
       "            </tr>\n",
       "            <tr>\n",
       "                        <th id=\"T_1cd25298_f5a3_11ea_9eb6_8c8590d48992level0_row4\" class=\"row_heading level0 row4\" >4</th>\n",
       "                        <td id=\"T_1cd25298_f5a3_11ea_9eb6_8c8590d48992row4_col0\" class=\"data row4 col0\" >0</td>\n",
       "                        <td id=\"T_1cd25298_f5a3_11ea_9eb6_8c8590d48992row4_col1\" class=\"data row4 col1\" >107</td>\n",
       "                        <td id=\"T_1cd25298_f5a3_11ea_9eb6_8c8590d48992row4_col2\" class=\"data row4 col2\" >253</td>\n",
       "                        <td id=\"T_1cd25298_f5a3_11ea_9eb6_8c8590d48992row4_col3\" class=\"data row4 col3\" >253</td>\n",
       "                        <td id=\"T_1cd25298_f5a3_11ea_9eb6_8c8590d48992row4_col4\" class=\"data row4 col4\" >230</td>\n",
       "                        <td id=\"T_1cd25298_f5a3_11ea_9eb6_8c8590d48992row4_col5\" class=\"data row4 col5\" >48</td>\n",
       "                        <td id=\"T_1cd25298_f5a3_11ea_9eb6_8c8590d48992row4_col6\" class=\"data row4 col6\" >0</td>\n",
       "                        <td id=\"T_1cd25298_f5a3_11ea_9eb6_8c8590d48992row4_col7\" class=\"data row4 col7\" >0</td>\n",
       "                        <td id=\"T_1cd25298_f5a3_11ea_9eb6_8c8590d48992row4_col8\" class=\"data row4 col8\" >0</td>\n",
       "                        <td id=\"T_1cd25298_f5a3_11ea_9eb6_8c8590d48992row4_col9\" class=\"data row4 col9\" >0</td>\n",
       "                        <td id=\"T_1cd25298_f5a3_11ea_9eb6_8c8590d48992row4_col10\" class=\"data row4 col10\" >0</td>\n",
       "                        <td id=\"T_1cd25298_f5a3_11ea_9eb6_8c8590d48992row4_col11\" class=\"data row4 col11\" >192</td>\n",
       "                        <td id=\"T_1cd25298_f5a3_11ea_9eb6_8c8590d48992row4_col12\" class=\"data row4 col12\" >253</td>\n",
       "                        <td id=\"T_1cd25298_f5a3_11ea_9eb6_8c8590d48992row4_col13\" class=\"data row4 col13\" >253</td>\n",
       "                        <td id=\"T_1cd25298_f5a3_11ea_9eb6_8c8590d48992row4_col14\" class=\"data row4 col14\" >156</td>\n",
       "                        <td id=\"T_1cd25298_f5a3_11ea_9eb6_8c8590d48992row4_col15\" class=\"data row4 col15\" >0</td>\n",
       "                        <td id=\"T_1cd25298_f5a3_11ea_9eb6_8c8590d48992row4_col16\" class=\"data row4 col16\" >0</td>\n",
       "                        <td id=\"T_1cd25298_f5a3_11ea_9eb6_8c8590d48992row4_col17\" class=\"data row4 col17\" >0</td>\n",
       "            </tr>\n",
       "            <tr>\n",
       "                        <th id=\"T_1cd25298_f5a3_11ea_9eb6_8c8590d48992level0_row5\" class=\"row_heading level0 row5\" >5</th>\n",
       "                        <td id=\"T_1cd25298_f5a3_11ea_9eb6_8c8590d48992row5_col0\" class=\"data row5 col0\" >0</td>\n",
       "                        <td id=\"T_1cd25298_f5a3_11ea_9eb6_8c8590d48992row5_col1\" class=\"data row5 col1\" >3</td>\n",
       "                        <td id=\"T_1cd25298_f5a3_11ea_9eb6_8c8590d48992row5_col2\" class=\"data row5 col2\" >20</td>\n",
       "                        <td id=\"T_1cd25298_f5a3_11ea_9eb6_8c8590d48992row5_col3\" class=\"data row5 col3\" >20</td>\n",
       "                        <td id=\"T_1cd25298_f5a3_11ea_9eb6_8c8590d48992row5_col4\" class=\"data row5 col4\" >15</td>\n",
       "                        <td id=\"T_1cd25298_f5a3_11ea_9eb6_8c8590d48992row5_col5\" class=\"data row5 col5\" >0</td>\n",
       "                        <td id=\"T_1cd25298_f5a3_11ea_9eb6_8c8590d48992row5_col6\" class=\"data row5 col6\" >0</td>\n",
       "                        <td id=\"T_1cd25298_f5a3_11ea_9eb6_8c8590d48992row5_col7\" class=\"data row5 col7\" >0</td>\n",
       "                        <td id=\"T_1cd25298_f5a3_11ea_9eb6_8c8590d48992row5_col8\" class=\"data row5 col8\" >0</td>\n",
       "                        <td id=\"T_1cd25298_f5a3_11ea_9eb6_8c8590d48992row5_col9\" class=\"data row5 col9\" >0</td>\n",
       "                        <td id=\"T_1cd25298_f5a3_11ea_9eb6_8c8590d48992row5_col10\" class=\"data row5 col10\" >43</td>\n",
       "                        <td id=\"T_1cd25298_f5a3_11ea_9eb6_8c8590d48992row5_col11\" class=\"data row5 col11\" >224</td>\n",
       "                        <td id=\"T_1cd25298_f5a3_11ea_9eb6_8c8590d48992row5_col12\" class=\"data row5 col12\" >253</td>\n",
       "                        <td id=\"T_1cd25298_f5a3_11ea_9eb6_8c8590d48992row5_col13\" class=\"data row5 col13\" >245</td>\n",
       "                        <td id=\"T_1cd25298_f5a3_11ea_9eb6_8c8590d48992row5_col14\" class=\"data row5 col14\" >74</td>\n",
       "                        <td id=\"T_1cd25298_f5a3_11ea_9eb6_8c8590d48992row5_col15\" class=\"data row5 col15\" >0</td>\n",
       "                        <td id=\"T_1cd25298_f5a3_11ea_9eb6_8c8590d48992row5_col16\" class=\"data row5 col16\" >0</td>\n",
       "                        <td id=\"T_1cd25298_f5a3_11ea_9eb6_8c8590d48992row5_col17\" class=\"data row5 col17\" >0</td>\n",
       "            </tr>\n",
       "            <tr>\n",
       "                        <th id=\"T_1cd25298_f5a3_11ea_9eb6_8c8590d48992level0_row6\" class=\"row_heading level0 row6\" >6</th>\n",
       "                        <td id=\"T_1cd25298_f5a3_11ea_9eb6_8c8590d48992row6_col0\" class=\"data row6 col0\" >0</td>\n",
       "                        <td id=\"T_1cd25298_f5a3_11ea_9eb6_8c8590d48992row6_col1\" class=\"data row6 col1\" >0</td>\n",
       "                        <td id=\"T_1cd25298_f5a3_11ea_9eb6_8c8590d48992row6_col2\" class=\"data row6 col2\" >0</td>\n",
       "                        <td id=\"T_1cd25298_f5a3_11ea_9eb6_8c8590d48992row6_col3\" class=\"data row6 col3\" >0</td>\n",
       "                        <td id=\"T_1cd25298_f5a3_11ea_9eb6_8c8590d48992row6_col4\" class=\"data row6 col4\" >0</td>\n",
       "                        <td id=\"T_1cd25298_f5a3_11ea_9eb6_8c8590d48992row6_col5\" class=\"data row6 col5\" >0</td>\n",
       "                        <td id=\"T_1cd25298_f5a3_11ea_9eb6_8c8590d48992row6_col6\" class=\"data row6 col6\" >0</td>\n",
       "                        <td id=\"T_1cd25298_f5a3_11ea_9eb6_8c8590d48992row6_col7\" class=\"data row6 col7\" >0</td>\n",
       "                        <td id=\"T_1cd25298_f5a3_11ea_9eb6_8c8590d48992row6_col8\" class=\"data row6 col8\" >0</td>\n",
       "                        <td id=\"T_1cd25298_f5a3_11ea_9eb6_8c8590d48992row6_col9\" class=\"data row6 col9\" >0</td>\n",
       "                        <td id=\"T_1cd25298_f5a3_11ea_9eb6_8c8590d48992row6_col10\" class=\"data row6 col10\" >249</td>\n",
       "                        <td id=\"T_1cd25298_f5a3_11ea_9eb6_8c8590d48992row6_col11\" class=\"data row6 col11\" >253</td>\n",
       "                        <td id=\"T_1cd25298_f5a3_11ea_9eb6_8c8590d48992row6_col12\" class=\"data row6 col12\" >245</td>\n",
       "                        <td id=\"T_1cd25298_f5a3_11ea_9eb6_8c8590d48992row6_col13\" class=\"data row6 col13\" >126</td>\n",
       "                        <td id=\"T_1cd25298_f5a3_11ea_9eb6_8c8590d48992row6_col14\" class=\"data row6 col14\" >0</td>\n",
       "                        <td id=\"T_1cd25298_f5a3_11ea_9eb6_8c8590d48992row6_col15\" class=\"data row6 col15\" >0</td>\n",
       "                        <td id=\"T_1cd25298_f5a3_11ea_9eb6_8c8590d48992row6_col16\" class=\"data row6 col16\" >0</td>\n",
       "                        <td id=\"T_1cd25298_f5a3_11ea_9eb6_8c8590d48992row6_col17\" class=\"data row6 col17\" >0</td>\n",
       "            </tr>\n",
       "            <tr>\n",
       "                        <th id=\"T_1cd25298_f5a3_11ea_9eb6_8c8590d48992level0_row7\" class=\"row_heading level0 row7\" >7</th>\n",
       "                        <td id=\"T_1cd25298_f5a3_11ea_9eb6_8c8590d48992row7_col0\" class=\"data row7 col0\" >0</td>\n",
       "                        <td id=\"T_1cd25298_f5a3_11ea_9eb6_8c8590d48992row7_col1\" class=\"data row7 col1\" >0</td>\n",
       "                        <td id=\"T_1cd25298_f5a3_11ea_9eb6_8c8590d48992row7_col2\" class=\"data row7 col2\" >0</td>\n",
       "                        <td id=\"T_1cd25298_f5a3_11ea_9eb6_8c8590d48992row7_col3\" class=\"data row7 col3\" >0</td>\n",
       "                        <td id=\"T_1cd25298_f5a3_11ea_9eb6_8c8590d48992row7_col4\" class=\"data row7 col4\" >0</td>\n",
       "                        <td id=\"T_1cd25298_f5a3_11ea_9eb6_8c8590d48992row7_col5\" class=\"data row7 col5\" >0</td>\n",
       "                        <td id=\"T_1cd25298_f5a3_11ea_9eb6_8c8590d48992row7_col6\" class=\"data row7 col6\" >0</td>\n",
       "                        <td id=\"T_1cd25298_f5a3_11ea_9eb6_8c8590d48992row7_col7\" class=\"data row7 col7\" >14</td>\n",
       "                        <td id=\"T_1cd25298_f5a3_11ea_9eb6_8c8590d48992row7_col8\" class=\"data row7 col8\" >101</td>\n",
       "                        <td id=\"T_1cd25298_f5a3_11ea_9eb6_8c8590d48992row7_col9\" class=\"data row7 col9\" >223</td>\n",
       "                        <td id=\"T_1cd25298_f5a3_11ea_9eb6_8c8590d48992row7_col10\" class=\"data row7 col10\" >253</td>\n",
       "                        <td id=\"T_1cd25298_f5a3_11ea_9eb6_8c8590d48992row7_col11\" class=\"data row7 col11\" >248</td>\n",
       "                        <td id=\"T_1cd25298_f5a3_11ea_9eb6_8c8590d48992row7_col12\" class=\"data row7 col12\" >124</td>\n",
       "                        <td id=\"T_1cd25298_f5a3_11ea_9eb6_8c8590d48992row7_col13\" class=\"data row7 col13\" >0</td>\n",
       "                        <td id=\"T_1cd25298_f5a3_11ea_9eb6_8c8590d48992row7_col14\" class=\"data row7 col14\" >0</td>\n",
       "                        <td id=\"T_1cd25298_f5a3_11ea_9eb6_8c8590d48992row7_col15\" class=\"data row7 col15\" >0</td>\n",
       "                        <td id=\"T_1cd25298_f5a3_11ea_9eb6_8c8590d48992row7_col16\" class=\"data row7 col16\" >0</td>\n",
       "                        <td id=\"T_1cd25298_f5a3_11ea_9eb6_8c8590d48992row7_col17\" class=\"data row7 col17\" >0</td>\n",
       "            </tr>\n",
       "            <tr>\n",
       "                        <th id=\"T_1cd25298_f5a3_11ea_9eb6_8c8590d48992level0_row8\" class=\"row_heading level0 row8\" >8</th>\n",
       "                        <td id=\"T_1cd25298_f5a3_11ea_9eb6_8c8590d48992row8_col0\" class=\"data row8 col0\" >0</td>\n",
       "                        <td id=\"T_1cd25298_f5a3_11ea_9eb6_8c8590d48992row8_col1\" class=\"data row8 col1\" >0</td>\n",
       "                        <td id=\"T_1cd25298_f5a3_11ea_9eb6_8c8590d48992row8_col2\" class=\"data row8 col2\" >0</td>\n",
       "                        <td id=\"T_1cd25298_f5a3_11ea_9eb6_8c8590d48992row8_col3\" class=\"data row8 col3\" >0</td>\n",
       "                        <td id=\"T_1cd25298_f5a3_11ea_9eb6_8c8590d48992row8_col4\" class=\"data row8 col4\" >0</td>\n",
       "                        <td id=\"T_1cd25298_f5a3_11ea_9eb6_8c8590d48992row8_col5\" class=\"data row8 col5\" >11</td>\n",
       "                        <td id=\"T_1cd25298_f5a3_11ea_9eb6_8c8590d48992row8_col6\" class=\"data row8 col6\" >166</td>\n",
       "                        <td id=\"T_1cd25298_f5a3_11ea_9eb6_8c8590d48992row8_col7\" class=\"data row8 col7\" >239</td>\n",
       "                        <td id=\"T_1cd25298_f5a3_11ea_9eb6_8c8590d48992row8_col8\" class=\"data row8 col8\" >253</td>\n",
       "                        <td id=\"T_1cd25298_f5a3_11ea_9eb6_8c8590d48992row8_col9\" class=\"data row8 col9\" >253</td>\n",
       "                        <td id=\"T_1cd25298_f5a3_11ea_9eb6_8c8590d48992row8_col10\" class=\"data row8 col10\" >253</td>\n",
       "                        <td id=\"T_1cd25298_f5a3_11ea_9eb6_8c8590d48992row8_col11\" class=\"data row8 col11\" >187</td>\n",
       "                        <td id=\"T_1cd25298_f5a3_11ea_9eb6_8c8590d48992row8_col12\" class=\"data row8 col12\" >30</td>\n",
       "                        <td id=\"T_1cd25298_f5a3_11ea_9eb6_8c8590d48992row8_col13\" class=\"data row8 col13\" >0</td>\n",
       "                        <td id=\"T_1cd25298_f5a3_11ea_9eb6_8c8590d48992row8_col14\" class=\"data row8 col14\" >0</td>\n",
       "                        <td id=\"T_1cd25298_f5a3_11ea_9eb6_8c8590d48992row8_col15\" class=\"data row8 col15\" >0</td>\n",
       "                        <td id=\"T_1cd25298_f5a3_11ea_9eb6_8c8590d48992row8_col16\" class=\"data row8 col16\" >0</td>\n",
       "                        <td id=\"T_1cd25298_f5a3_11ea_9eb6_8c8590d48992row8_col17\" class=\"data row8 col17\" >0</td>\n",
       "            </tr>\n",
       "            <tr>\n",
       "                        <th id=\"T_1cd25298_f5a3_11ea_9eb6_8c8590d48992level0_row9\" class=\"row_heading level0 row9\" >9</th>\n",
       "                        <td id=\"T_1cd25298_f5a3_11ea_9eb6_8c8590d48992row9_col0\" class=\"data row9 col0\" >0</td>\n",
       "                        <td id=\"T_1cd25298_f5a3_11ea_9eb6_8c8590d48992row9_col1\" class=\"data row9 col1\" >0</td>\n",
       "                        <td id=\"T_1cd25298_f5a3_11ea_9eb6_8c8590d48992row9_col2\" class=\"data row9 col2\" >0</td>\n",
       "                        <td id=\"T_1cd25298_f5a3_11ea_9eb6_8c8590d48992row9_col3\" class=\"data row9 col3\" >0</td>\n",
       "                        <td id=\"T_1cd25298_f5a3_11ea_9eb6_8c8590d48992row9_col4\" class=\"data row9 col4\" >0</td>\n",
       "                        <td id=\"T_1cd25298_f5a3_11ea_9eb6_8c8590d48992row9_col5\" class=\"data row9 col5\" >16</td>\n",
       "                        <td id=\"T_1cd25298_f5a3_11ea_9eb6_8c8590d48992row9_col6\" class=\"data row9 col6\" >248</td>\n",
       "                        <td id=\"T_1cd25298_f5a3_11ea_9eb6_8c8590d48992row9_col7\" class=\"data row9 col7\" >250</td>\n",
       "                        <td id=\"T_1cd25298_f5a3_11ea_9eb6_8c8590d48992row9_col8\" class=\"data row9 col8\" >253</td>\n",
       "                        <td id=\"T_1cd25298_f5a3_11ea_9eb6_8c8590d48992row9_col9\" class=\"data row9 col9\" >253</td>\n",
       "                        <td id=\"T_1cd25298_f5a3_11ea_9eb6_8c8590d48992row9_col10\" class=\"data row9 col10\" >253</td>\n",
       "                        <td id=\"T_1cd25298_f5a3_11ea_9eb6_8c8590d48992row9_col11\" class=\"data row9 col11\" >253</td>\n",
       "                        <td id=\"T_1cd25298_f5a3_11ea_9eb6_8c8590d48992row9_col12\" class=\"data row9 col12\" >232</td>\n",
       "                        <td id=\"T_1cd25298_f5a3_11ea_9eb6_8c8590d48992row9_col13\" class=\"data row9 col13\" >213</td>\n",
       "                        <td id=\"T_1cd25298_f5a3_11ea_9eb6_8c8590d48992row9_col14\" class=\"data row9 col14\" >111</td>\n",
       "                        <td id=\"T_1cd25298_f5a3_11ea_9eb6_8c8590d48992row9_col15\" class=\"data row9 col15\" >2</td>\n",
       "                        <td id=\"T_1cd25298_f5a3_11ea_9eb6_8c8590d48992row9_col16\" class=\"data row9 col16\" >0</td>\n",
       "                        <td id=\"T_1cd25298_f5a3_11ea_9eb6_8c8590d48992row9_col17\" class=\"data row9 col17\" >0</td>\n",
       "            </tr>\n",
       "            <tr>\n",
       "                        <th id=\"T_1cd25298_f5a3_11ea_9eb6_8c8590d48992level0_row10\" class=\"row_heading level0 row10\" >10</th>\n",
       "                        <td id=\"T_1cd25298_f5a3_11ea_9eb6_8c8590d48992row10_col0\" class=\"data row10 col0\" >0</td>\n",
       "                        <td id=\"T_1cd25298_f5a3_11ea_9eb6_8c8590d48992row10_col1\" class=\"data row10 col1\" >0</td>\n",
       "                        <td id=\"T_1cd25298_f5a3_11ea_9eb6_8c8590d48992row10_col2\" class=\"data row10 col2\" >0</td>\n",
       "                        <td id=\"T_1cd25298_f5a3_11ea_9eb6_8c8590d48992row10_col3\" class=\"data row10 col3\" >0</td>\n",
       "                        <td id=\"T_1cd25298_f5a3_11ea_9eb6_8c8590d48992row10_col4\" class=\"data row10 col4\" >0</td>\n",
       "                        <td id=\"T_1cd25298_f5a3_11ea_9eb6_8c8590d48992row10_col5\" class=\"data row10 col5\" >0</td>\n",
       "                        <td id=\"T_1cd25298_f5a3_11ea_9eb6_8c8590d48992row10_col6\" class=\"data row10 col6\" >0</td>\n",
       "                        <td id=\"T_1cd25298_f5a3_11ea_9eb6_8c8590d48992row10_col7\" class=\"data row10 col7\" >43</td>\n",
       "                        <td id=\"T_1cd25298_f5a3_11ea_9eb6_8c8590d48992row10_col8\" class=\"data row10 col8\" >98</td>\n",
       "                        <td id=\"T_1cd25298_f5a3_11ea_9eb6_8c8590d48992row10_col9\" class=\"data row10 col9\" >98</td>\n",
       "                        <td id=\"T_1cd25298_f5a3_11ea_9eb6_8c8590d48992row10_col10\" class=\"data row10 col10\" >208</td>\n",
       "                        <td id=\"T_1cd25298_f5a3_11ea_9eb6_8c8590d48992row10_col11\" class=\"data row10 col11\" >253</td>\n",
       "                        <td id=\"T_1cd25298_f5a3_11ea_9eb6_8c8590d48992row10_col12\" class=\"data row10 col12\" >253</td>\n",
       "                        <td id=\"T_1cd25298_f5a3_11ea_9eb6_8c8590d48992row10_col13\" class=\"data row10 col13\" >253</td>\n",
       "                        <td id=\"T_1cd25298_f5a3_11ea_9eb6_8c8590d48992row10_col14\" class=\"data row10 col14\" >253</td>\n",
       "                        <td id=\"T_1cd25298_f5a3_11ea_9eb6_8c8590d48992row10_col15\" class=\"data row10 col15\" >187</td>\n",
       "                        <td id=\"T_1cd25298_f5a3_11ea_9eb6_8c8590d48992row10_col16\" class=\"data row10 col16\" >22</td>\n",
       "                        <td id=\"T_1cd25298_f5a3_11ea_9eb6_8c8590d48992row10_col17\" class=\"data row10 col17\" >0</td>\n",
       "            </tr>\n",
       "    </tbody></table>"
      ],
      "text/plain": [
       "<pandas.io.formats.style.Styler at 0x7f9399278760>"
      ]
     },
     "execution_count": 13,
     "metadata": {},
     "output_type": "execute_result"
    }
   ],
   "source": [
    "img3_t = tensor(img3)\n",
    "df = pd.DataFrame(img3_t[4:15, 4:22])\n",
    "df.style.set_properties(**{'font-size':'6pt'}).background_gradient('Greys')"
   ]
  },
  {
   "cell_type": "markdown",
   "metadata": {},
   "source": [
    "### Building a Baseline - Pixel Similarity"
   ]
  },
  {
   "cell_type": "code",
   "execution_count": 15,
   "metadata": {},
   "outputs": [
    {
     "data": {
      "text/plain": [
       "(6131, 6265)"
      ]
     },
     "execution_count": 15,
     "metadata": {},
     "output_type": "execute_result"
    }
   ],
   "source": [
    "# load all the tensors\n",
    "three_tensors = [tensor(Image.open(i)) for i in threes]\n",
    "seven_tensors = [tensor(Image.open(i)) for i in sevens]\n",
    "len(three_tensors), len(seven_tensors)"
   ]
  },
  {
   "cell_type": "code",
   "execution_count": 25,
   "metadata": {},
   "outputs": [
    {
     "data": {
      "image/png": "[encoded data removed]",
      "text/plain": [
       "<Figure size 72x72 with 1 Axes>"
      ]
     },
     "metadata": {
      "needs_background": "light"
     },
     "output_type": "display_data"
    }
   ],
   "source": [
    "# use fastai function to display tensor as image\n",
    "show_image(three_tensors[1]);"
   ]
  },
  {
   "cell_type": "code",
   "execution_count": 20,
   "metadata": {},
   "outputs": [
    {
     "data": {
      "text/plain": [
       "(torch.Size([6131, 28, 28]), torch.Size([6265, 28, 28]))"
      ]
     },
     "execution_count": 20,
     "metadata": {},
     "output_type": "execute_result"
    }
   ],
   "source": [
    "stacked_sevens = torch.stack(seven_tensors).float()/255\n",
    "stacked_threes = torch.stack(three_tensors).float()/255\n",
    "stacked_threes.shape, stacked_sevens.shape"
   ]
  },
  {
   "cell_type": "code",
   "execution_count": 26,
   "metadata": {},
   "outputs": [
    {
     "data": {
      "image/png": "[encoded data removed]",
      "text/plain": [
       "<Figure size 72x72 with 1 Axes>"
      ]
     },
     "metadata": {
      "needs_background": "light"
     },
     "output_type": "display_data"
    }
   ],
   "source": [
    "# calculate the mean over axis 0\n",
    "three_mean = stacked_threes.mean(0)\n",
    "show_image(three_mean);"
   ]
  },
  {
   "cell_type": "code",
   "execution_count": 28,
   "metadata": {},
   "outputs": [
    {
     "data": {
      "image/png": "[encoded data removed]",
      "text/plain": [
       "<Figure size 72x72 with 1 Axes>"
      ]
     },
     "metadata": {
      "needs_background": "light"
     },
     "output_type": "display_data"
    }
   ],
   "source": [
    "# also plot ideal seven\n",
    "seven_mean = stacked_sevens.mean(0)\n",
    "show_image(seven_mean);"
   ]
  },
  {
   "cell_type": "markdown",
   "metadata": {},
   "source": [
    "Two ways of measuring distance in this context:\n",
    "* Take the mean of the absolute value of differences (absolute value is the function that replaces negative values with positive values). This is called the mean absolute difference or L1 norm\n",
    "* Take the mean of the square of differences (which makes everything positive) and then take the square root (which undoes the squaring). This is called the root mean squared error (RMSE) or L2 norm."
   ]
  },
  {
   "cell_type": "code",
   "execution_count": 37,
   "metadata": {},
   "outputs": [
    {
     "data": {
      "image/png": "[encoded data removed]",
      "text/plain": [
       "<Figure size 72x72 with 1 Axes>"
      ]
     },
     "metadata": {
      "needs_background": "light"
     },
     "output_type": "display_data"
    }
   ],
   "source": [
    "# take a sample three\n",
    "three_sample = stacked_threes[2].float()\n",
    "show_image(three_sample);"
   ]
  },
  {
   "cell_type": "code",
   "execution_count": 38,
   "metadata": {},
   "outputs": [
    {
     "data": {
      "text/plain": [
       "(tensor(0.1100), tensor(0.1541))"
      ]
     },
     "execution_count": 38,
     "metadata": {},
     "output_type": "execute_result"
    }
   ],
   "source": [
    "# calculate l1 norm to both means\n",
    "l1_dist_3 = (three_sample-three_mean).abs().mean()\n",
    "l1_dist_7 = (three_sample-seven_mean).abs().mean()\n",
    "l1_dist_3, l1_dist_7"
   ]
  },
  {
   "cell_type": "markdown",
   "metadata": {},
   "source": [
    "With l1 norm our sample image is closer to the ideal three which confirms our model."
   ]
  },
  {
   "cell_type": "code",
   "execution_count": 39,
   "metadata": {},
   "outputs": [
    {
     "data": {
      "text/plain": [
       "(tensor(0.1980), tensor(0.2974))"
      ]
     },
     "execution_count": 39,
     "metadata": {},
     "output_type": "execute_result"
    }
   ],
   "source": [
    "# calculate l2 norm to both means\n",
    "l2_dist_3 = ((three_sample-three_mean)**2).mean().sqrt()\n",
    "l2_dist_7 = ((three_sample-seven_mean)**2).mean().sqrt()\n",
    "l2_dist_3, l2_dist_7 "
   ]
  },
  {
   "cell_type": "markdown",
   "metadata": {},
   "source": [
    "Also with the l2 norm our sample is closer to the ideal three which makes sense."
   ]
  },
  {
   "cell_type": "code",
   "execution_count": 43,
   "metadata": {},
   "outputs": [
    {
     "data": {
      "text/plain": [
       "(tensor(0.1100), tensor(0.1980))"
      ]
     },
     "execution_count": 43,
     "metadata": {},
     "output_type": "execute_result"
    }
   ],
   "source": [
    "# there would be also pytorch function for these two losses\n",
    "F.l1_loss(three_sample, three_mean), F.mse_loss(three_sample, three_mean).sqrt()"
   ]
  },
  {
   "cell_type": "markdown",
   "metadata": {},
   "source": [
    "### Validating our Baseline Model"
   ]
  },
  {
   "cell_type": "code",
   "execution_count": 44,
   "metadata": {},
   "outputs": [
    {
     "data": {
      "text/plain": [
       "(torch.Size([1010, 28, 28]), torch.Size([1028, 28, 28]))"
      ]
     },
     "execution_count": 44,
     "metadata": {},
     "output_type": "execute_result"
    }
   ],
   "source": [
    "# loading the validation sets\n",
    "valid_3_tensors = torch.stack([tensor(Image.open(i)) for i in (path/'valid'/'3').ls()])\n",
    "valid_3_tensors = valid_3_tensors.float()/255\n",
    "valid_7_tensors = torch.stack([tensor(Image.open(i)) for i in (path/'valid'/'7').ls()])\n",
    "valid_7_tensors = valid_7_tensors.float()/255\n",
    "valid_3_tensors.shape, valid_7_tensors.shape"
   ]
  },
  {
   "cell_type": "code",
   "execution_count": 48,
   "metadata": {},
   "outputs": [
    {
     "data": {
      "text/plain": [
       "tensor(0.1100)"
      ]
     },
     "execution_count": 48,
     "metadata": {},
     "output_type": "execute_result"
    }
   ],
   "source": [
    "# creating our distance function\n",
    "def mnist_distance(a, b): return (a-b).abs().mean((-1, -2))\n",
    "mnist_distance(three_sample, three_mean)"
   ]
  },
  {
   "cell_type": "code",
   "execution_count": 49,
   "metadata": {},
   "outputs": [
    {
     "data": {
      "text/plain": [
       "(torch.Size([1010]),\n",
       " tensor([0.1634, 0.1145, 0.1363,  ..., 0.1105, 0.1111, 0.1640]))"
      ]
     },
     "execution_count": 49,
     "metadata": {},
     "output_type": "execute_result"
    }
   ],
   "source": [
    "valid_3_dist = mnist_distance(valid_3_tensors, three_mean)\n",
    "valid_3_dist.shape, valid_3_dist"
   ]
  },
  {
   "cell_type": "markdown",
   "metadata": {},
   "source": [
    "We took the mean over the last two axis and left just with the mean per images - thats why we have shape 1010 left."
   ]
  },
  {
   "cell_type": "markdown",
   "metadata": {},
   "source": [
    "#### Technical Sidenote - Broadcasting"
   ]
  },
  {
   "cell_type": "code",
   "execution_count": 69,
   "metadata": {},
   "outputs": [
    {
     "data": {
      "text/plain": [
       "tensor([[0.0000, 0.0000, 0.0941, 0.4745, 0.7922],\n",
       "        [0.5882, 0.7608, 0.8980, 0.9922, 0.9922],\n",
       "        [0.9922, 0.9922, 0.9922, 0.9922, 0.9922],\n",
       "        [0.9922, 0.9922, 0.9922, 0.9922, 0.9922],\n",
       "        [0.9922, 0.9922, 0.9922, 0.9922, 0.8471],\n",
       "        [0.9843, 0.9333, 0.5490, 0.2314, 0.0588],\n",
       "        [0.3020, 0.0000, 0.0000, 0.0000, 0.0000],\n",
       "        [0.0000, 0.0000, 0.0000, 0.0000, 0.0000]])"
      ]
     },
     "execution_count": 69,
     "metadata": {},
     "output_type": "execute_result"
    }
   ],
   "source": [
    "test_tensor = valid_3_tensors[0][10:18, 10:15]\n",
    "test_tensor"
   ]
  },
  {
   "cell_type": "code",
   "execution_count": 74,
   "metadata": {},
   "outputs": [
    {
     "data": {
      "text/plain": [
       "(tensor(0.5847),\n",
       " tensor([0.2722, 0.8463, 0.9922, 0.9922, 0.9631, 0.5514, 0.0604, 0.0000]),\n",
       " tensor([0.6064, 0.5838, 0.5647, 0.5843, 0.5843]),\n",
       " tensor(0.5847))"
      ]
     },
     "execution_count": 74,
     "metadata": {},
     "output_type": "execute_result"
    }
   ],
   "source": [
    "# you can specify the axis for the means\n",
    "test_tensor.mean(), test_tensor.mean((-1)), test_tensor.mean((-2)), test_tensor.mean((-1,-2))"
   ]
  },
  {
   "cell_type": "code",
   "execution_count": 78,
   "metadata": {},
   "outputs": [
    {
     "data": {
      "text/plain": [
       "(tensor([3, 4, 5]), tensor([3, 4, 5]))"
      ]
     },
     "execution_count": 78,
     "metadata": {},
     "output_type": "execute_result"
    }
   ],
   "source": [
    "# you can abbreviate dimensions - they get 'copied'\n",
    "tensor([2,3,4]) + tensor([1,1,1]), tensor([2,3,4]) + tensor([1])"
   ]
  },
  {
   "cell_type": "code",
   "execution_count": 97,
   "metadata": {},
   "outputs": [
    {
     "data": {
      "text/plain": [
       "(tensor([[[0.0000, 0.0000, 0.0000],\n",
       "          [0.0000, 0.0000, 0.0000],\n",
       "          [0.0000, 0.0000, 0.0000],\n",
       "          [0.0000, 0.0000, 0.0000]],\n",
       " \n",
       "         [[0.1000, 0.1000, 0.1000],\n",
       "          [0.1000, 0.1000, 0.1000],\n",
       "          [0.1000, 0.1000, 0.1000],\n",
       "          [0.1000, 0.1000, 0.1000]]]),\n",
       " torch.Size([2, 4, 3]))"
      ]
     },
     "execution_count": 97,
     "metadata": {},
     "output_type": "execute_result"
    }
   ],
   "source": [
    "# if you have stacked tensors\n",
    "tensor_a = tensor([\n",
    "    [.0,.0,.0],\n",
    "    [.0,.0,.0],\n",
    "    [.0,.0,.0],\n",
    "    [.0,.0,.0]\n",
    "])\n",
    "tensor_b = tensor([\n",
    "    [.1,.1,.1],\n",
    "    [.1,.1,.1],\n",
    "    [.1,.1,.1],\n",
    "    [.1,.1,.1]\n",
    "])\n",
    "tensor_test = torch.stack((tensor_a, tensor_b))\n",
    "tensor_test, tensor_test.shape"
   ]
  },
  {
   "cell_type": "code",
   "execution_count": 98,
   "metadata": {},
   "outputs": [
    {
     "data": {
      "text/plain": [
       "tensor([0.0000, 0.1000])"
      ]
     },
     "execution_count": 98,
     "metadata": {},
     "output_type": "execute_result"
    }
   ],
   "source": [
    "# you can take operations over specific dimensions \n",
    "tensor_test.mean((-1,-2))"
   ]
  },
  {
   "cell_type": "markdown",
   "metadata": {},
   "source": [
    "#### End Sidenote"
   ]
  },
  {
   "cell_type": "code",
   "execution_count": 101,
   "metadata": {},
   "outputs": [
    {
     "data": {
      "text/plain": [
       "(tensor(True), tensor(False))"
      ]
     },
     "execution_count": 101,
     "metadata": {},
     "output_type": "execute_result"
    }
   ],
   "source": [
    "# we define our prediction function\n",
    "def is_3(x): return mnist_distance(x, three_mean) < mnist_distance(x, seven_mean)\n",
    "\n",
    "# test our function\n",
    "is_3(three_sample), is_3(seven_tensors[0])"
   ]
  },
  {
   "cell_type": "code",
   "execution_count": 104,
   "metadata": {},
   "outputs": [
    {
     "data": {
      "text/plain": [
       "(tensor(True), tensor(False))"
      ]
     },
     "execution_count": 104,
     "metadata": {},
     "output_type": "execute_result"
    }
   ],
   "source": [
    "# make the same with some partical function application - just for fun\n",
    "dist_to_3 = bind(mnist_distance, three_mean)\n",
    "dist_to_7 = bind(mnist_distance, seven_mean)\n",
    "\n",
    "def is_3(x): return dist_to_3(x) < dist_to_7(x)\n",
    "\n",
    "# test our function\n",
    "is_3(three_sample), is_3(seven_tensors[0])"
   ]
  },
  {
   "cell_type": "code",
   "execution_count": 107,
   "metadata": {},
   "outputs": [
    {
     "data": {
      "text/plain": [
       "(tensor(0.9168), tensor(0.9854))"
      ]
     },
     "execution_count": 107,
     "metadata": {},
     "output_type": "execute_result"
    }
   ],
   "source": [
    "# now lets evaluate the accuracy of our baseline model\n",
    "accuracy_3s = is_3(valid_3_tensors).float().mean()\n",
    "accuracy_7s = (1 - is_3(valid_7_tensors).float()).mean()\n",
    "accuracy_3s, accuracy_7s"
   ]
  },
  {
   "cell_type": "code",
   "execution_count": 109,
   "metadata": {},
   "outputs": [
    {
     "data": {
      "text/plain": [
       "tensor(0.9511)"
      ]
     },
     "execution_count": 109,
     "metadata": {},
     "output_type": "execute_result"
    }
   ],
   "source": [
    "# and take overall accuracy\n",
    "tensor(accuracy_3s, accuracy_7s).mean()"
   ]
  },
  {
   "cell_type": "markdown",
   "metadata": {},
   "source": [
    "With our trivial classifier we already reached an acc of 95%! But these is only for two out of 10 digits. Maybe we need to implement some real learning."
   ]
  },
  {
   "cell_type": "code",
   "execution_count": null,
   "metadata": {},
   "outputs": [],
   "source": []
  }
 ],
 "metadata": {
  "kernelspec": {
   "display_name": "Python 3",
   "language": "python",
   "name": "python3"
  },
  "language_info": {
   "codemirror_mode": {
    "name": "ipython",
    "version": 3
   },
   "file_extension": ".py",
   "mimetype": "text/x-python",
   "name": "python",
   "nbconvert_exporter": "python",
   "pygments_lexer": "ipython3",
   "version": "3.8.5"
  }
 },
 "nbformat": 4,
 "nbformat_minor": 4
}
