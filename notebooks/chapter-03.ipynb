{
 "cells": [
  {
   "cell_type": "markdown",
   "metadata": {},
   "source": [
    "## Chapter Two"
   ]
  },
  {
   "cell_type": "code",
   "execution_count": 1,
   "metadata": {},
   "outputs": [],
   "source": [
    "from fastai.vision.all import *"
   ]
  },
  {
   "cell_type": "markdown",
   "metadata": {},
   "source": [
    "### Loading the Data"
   ]
  },
  {
   "cell_type": "code",
   "execution_count": 2,
   "metadata": {},
   "outputs": [],
   "source": [
    "# downloading and unpacking the files\n",
    "path = untar_data(URLs.MNIST_SAMPLE)"
   ]
  },
  {
   "cell_type": "code",
   "execution_count": 3,
   "metadata": {},
   "outputs": [],
   "source": [
    "# setting the base path for convenience\n",
    "Path.BASE_PATH = path"
   ]
  },
  {
   "cell_type": "code",
   "execution_count": 4,
   "metadata": {},
   "outputs": [
    {
     "data": {
      "text/plain": [
       "(#3) [Path('valid'),Path('labels.csv'),Path('train')]"
      ]
     },
     "execution_count": 4,
     "metadata": {},
     "output_type": "execute_result"
    }
   ],
   "source": [
    "path.ls()"
   ]
  },
  {
   "cell_type": "code",
   "execution_count": 5,
   "metadata": {},
   "outputs": [
    {
     "data": {
      "text/plain": [
       "(#2) [Path('train/7'),Path('train/3')]"
      ]
     },
     "execution_count": 5,
     "metadata": {},
     "output_type": "execute_result"
    }
   ],
   "source": [
    "# inspect the mnist dataset\n",
    "(path/'train').ls()"
   ]
  },
  {
   "cell_type": "code",
   "execution_count": 6,
   "metadata": {},
   "outputs": [
    {
     "data": {
      "text/plain": [
       "(#6131) [Path('train/3/10.png'),Path('train/3/10000.png'),Path('train/3/10011.png'),Path('train/3/10031.png'),Path('train/3/10034.png'),Path('train/3/10042.png'),Path('train/3/10052.png'),Path('train/3/1007.png'),Path('train/3/10074.png'),Path('train/3/10091.png')...]"
      ]
     },
     "execution_count": 6,
     "metadata": {},
     "output_type": "execute_result"
    }
   ],
   "source": [
    "# load the files\n",
    "threes = (path/'train'/'3').ls().sorted()\n",
    "sevens = (path/'train'/'7').ls().sorted()\n",
    "threes"
   ]
  },
  {
   "cell_type": "code",
   "execution_count": 7,
   "metadata": {},
   "outputs": [
    {
     "data": {
      "image/png": "[encoded data removed]",
      "text/plain": [
       "<PIL.PngImagePlugin.PngImageFile image mode=L size=28x28 at 0x7FBE3FDEF310>"
      ]
     },
     "execution_count": 7,
     "metadata": {},
     "output_type": "execute_result"
    }
   ],
   "source": [
    "# inspect one image\n",
    "img3_path = threes[1]\n",
    "img3 = Image.open(img3_path)\n",
    "img3"
   ]
  },
  {
   "cell_type": "code",
   "execution_count": 8,
   "metadata": {},
   "outputs": [
    {
     "data": {
      "text/plain": [
       "array([[  0,   0,   0,   0,   0,   0],\n",
       "       [  0,   0,   0,   0,   0,  29],\n",
       "       [  0,   0,   0,  48, 166, 224],\n",
       "       [  0,  93, 244, 249, 253, 187],\n",
       "       [  0, 107, 253, 253, 230,  48],\n",
       "       [  0,   3,  20,  20,  15,   0]], dtype=uint8)"
      ]
     },
     "execution_count": 8,
     "metadata": {},
     "output_type": "execute_result"
    }
   ],
   "source": [
    "array(img3)[4:10,4:10]"
   ]
  },
  {
   "cell_type": "code",
   "execution_count": 9,
   "metadata": {},
   "outputs": [
    {
     "data": {
      "text/plain": [
       "tensor([[  0,   0,   0,   0,   0,   0],\n",
       "        [  0,   0,   0,   0,   0,  29],\n",
       "        [  0,   0,   0,  48, 166, 224],\n",
       "        [  0,  93, 244, 249, 253, 187],\n",
       "        [  0, 107, 253, 253, 230,  48],\n",
       "        [  0,   3,  20,  20,  15,   0]], dtype=torch.uint8)"
      ]
     },
     "execution_count": 9,
     "metadata": {},
     "output_type": "execute_result"
    }
   ],
   "source": [
    "# doing the same with a tensor\n",
    "tensor(img3)[4:10, 4:10]"
   ]
  },
  {
   "cell_type": "code",
   "execution_count": 10,
   "metadata": {},
   "outputs": [
    {
     "data": {
      "text/html": [
       "<style  type=\"text/css\" >\n",
       "#T_9a166430_f5ce_11ea_b4ff_8c8590d48992row0_col0,#T_9a166430_f5ce_11ea_b4ff_8c8590d48992row0_col1,#T_9a166430_f5ce_11ea_b4ff_8c8590d48992row0_col2,#T_9a166430_f5ce_11ea_b4ff_8c8590d48992row0_col3,#T_9a166430_f5ce_11ea_b4ff_8c8590d48992row0_col4,#T_9a166430_f5ce_11ea_b4ff_8c8590d48992row0_col5,#T_9a166430_f5ce_11ea_b4ff_8c8590d48992row0_col6,#T_9a166430_f5ce_11ea_b4ff_8c8590d48992row0_col7,#T_9a166430_f5ce_11ea_b4ff_8c8590d48992row0_col8,#T_9a166430_f5ce_11ea_b4ff_8c8590d48992row0_col9,#T_9a166430_f5ce_11ea_b4ff_8c8590d48992row0_col10,#T_9a166430_f5ce_11ea_b4ff_8c8590d48992row0_col11,#T_9a166430_f5ce_11ea_b4ff_8c8590d48992row0_col12,#T_9a166430_f5ce_11ea_b4ff_8c8590d48992row0_col13,#T_9a166430_f5ce_11ea_b4ff_8c8590d48992row0_col14,#T_9a166430_f5ce_11ea_b4ff_8c8590d48992row0_col15,#T_9a166430_f5ce_11ea_b4ff_8c8590d48992row0_col16,#T_9a166430_f5ce_11ea_b4ff_8c8590d48992row0_col17,#T_9a166430_f5ce_11ea_b4ff_8c8590d48992row1_col0,#T_9a166430_f5ce_11ea_b4ff_8c8590d48992row1_col1,#T_9a166430_f5ce_11ea_b4ff_8c8590d48992row1_col2,#T_9a166430_f5ce_11ea_b4ff_8c8590d48992row1_col3,#T_9a166430_f5ce_11ea_b4ff_8c8590d48992row1_col4,#T_9a166430_f5ce_11ea_b4ff_8c8590d48992row1_col15,#T_9a166430_f5ce_11ea_b4ff_8c8590d48992row1_col16,#T_9a166430_f5ce_11ea_b4ff_8c8590d48992row1_col17,#T_9a166430_f5ce_11ea_b4ff_8c8590d48992row2_col0,#T_9a166430_f5ce_11ea_b4ff_8c8590d48992row2_col1,#T_9a166430_f5ce_11ea_b4ff_8c8590d48992row2_col2,#T_9a166430_f5ce_11ea_b4ff_8c8590d48992row2_col15,#T_9a166430_f5ce_11ea_b4ff_8c8590d48992row2_col16,#T_9a166430_f5ce_11ea_b4ff_8c8590d48992row2_col17,#T_9a166430_f5ce_11ea_b4ff_8c8590d48992row3_col0,#T_9a166430_f5ce_11ea_b4ff_8c8590d48992row3_col15,#T_9a166430_f5ce_11ea_b4ff_8c8590d48992row3_col16,#T_9a166430_f5ce_11ea_b4ff_8c8590d48992row3_col17,#T_9a166430_f5ce_11ea_b4ff_8c8590d48992row4_col0,#T_9a166430_f5ce_11ea_b4ff_8c8590d48992row4_col6,#T_9a166430_f5ce_11ea_b4ff_8c8590d48992row4_col7,#T_9a166430_f5ce_11ea_b4ff_8c8590d48992row4_col8,#T_9a166430_f5ce_11ea_b4ff_8c8590d48992row4_col9,#T_9a166430_f5ce_11ea_b4ff_8c8590d48992row4_col10,#T_9a166430_f5ce_11ea_b4ff_8c8590d48992row4_col15,#T_9a166430_f5ce_11ea_b4ff_8c8590d48992row4_col16,#T_9a166430_f5ce_11ea_b4ff_8c8590d48992row4_col17,#T_9a166430_f5ce_11ea_b4ff_8c8590d48992row5_col0,#T_9a166430_f5ce_11ea_b4ff_8c8590d48992row5_col5,#T_9a166430_f5ce_11ea_b4ff_8c8590d48992row5_col6,#T_9a166430_f5ce_11ea_b4ff_8c8590d48992row5_col7,#T_9a166430_f5ce_11ea_b4ff_8c8590d48992row5_col8,#T_9a166430_f5ce_11ea_b4ff_8c8590d48992row5_col9,#T_9a166430_f5ce_11ea_b4ff_8c8590d48992row5_col15,#T_9a166430_f5ce_11ea_b4ff_8c8590d48992row5_col16,#T_9a166430_f5ce_11ea_b4ff_8c8590d48992row5_col17,#T_9a166430_f5ce_11ea_b4ff_8c8590d48992row6_col0,#T_9a166430_f5ce_11ea_b4ff_8c8590d48992row6_col1,#T_9a166430_f5ce_11ea_b4ff_8c8590d48992row6_col2,#T_9a166430_f5ce_11ea_b4ff_8c8590d48992row6_col3,#T_9a166430_f5ce_11ea_b4ff_8c8590d48992row6_col4,#T_9a166430_f5ce_11ea_b4ff_8c8590d48992row6_col5,#T_9a166430_f5ce_11ea_b4ff_8c8590d48992row6_col6,#T_9a166430_f5ce_11ea_b4ff_8c8590d48992row6_col7,#T_9a166430_f5ce_11ea_b4ff_8c8590d48992row6_col8,#T_9a166430_f5ce_11ea_b4ff_8c8590d48992row6_col9,#T_9a166430_f5ce_11ea_b4ff_8c8590d48992row6_col14,#T_9a166430_f5ce_11ea_b4ff_8c8590d48992row6_col15,#T_9a166430_f5ce_11ea_b4ff_8c8590d48992row6_col16,#T_9a166430_f5ce_11ea_b4ff_8c8590d48992row6_col17,#T_9a166430_f5ce_11ea_b4ff_8c8590d48992row7_col0,#T_9a166430_f5ce_11ea_b4ff_8c8590d48992row7_col1,#T_9a166430_f5ce_11ea_b4ff_8c8590d48992row7_col2,#T_9a166430_f5ce_11ea_b4ff_8c8590d48992row7_col3,#T_9a166430_f5ce_11ea_b4ff_8c8590d48992row7_col4,#T_9a166430_f5ce_11ea_b4ff_8c8590d48992row7_col5,#T_9a166430_f5ce_11ea_b4ff_8c8590d48992row7_col6,#T_9a166430_f5ce_11ea_b4ff_8c8590d48992row7_col13,#T_9a166430_f5ce_11ea_b4ff_8c8590d48992row7_col14,#T_9a166430_f5ce_11ea_b4ff_8c8590d48992row7_col15,#T_9a166430_f5ce_11ea_b4ff_8c8590d48992row7_col16,#T_9a166430_f5ce_11ea_b4ff_8c8590d48992row7_col17,#T_9a166430_f5ce_11ea_b4ff_8c8590d48992row8_col0,#T_9a166430_f5ce_11ea_b4ff_8c8590d48992row8_col1,#T_9a166430_f5ce_11ea_b4ff_8c8590d48992row8_col2,#T_9a166430_f5ce_11ea_b4ff_8c8590d48992row8_col3,#T_9a166430_f5ce_11ea_b4ff_8c8590d48992row8_col4,#T_9a166430_f5ce_11ea_b4ff_8c8590d48992row8_col13,#T_9a166430_f5ce_11ea_b4ff_8c8590d48992row8_col14,#T_9a166430_f5ce_11ea_b4ff_8c8590d48992row8_col15,#T_9a166430_f5ce_11ea_b4ff_8c8590d48992row8_col16,#T_9a166430_f5ce_11ea_b4ff_8c8590d48992row8_col17,#T_9a166430_f5ce_11ea_b4ff_8c8590d48992row9_col0,#T_9a166430_f5ce_11ea_b4ff_8c8590d48992row9_col1,#T_9a166430_f5ce_11ea_b4ff_8c8590d48992row9_col2,#T_9a166430_f5ce_11ea_b4ff_8c8590d48992row9_col3,#T_9a166430_f5ce_11ea_b4ff_8c8590d48992row9_col4,#T_9a166430_f5ce_11ea_b4ff_8c8590d48992row9_col16,#T_9a166430_f5ce_11ea_b4ff_8c8590d48992row9_col17,#T_9a166430_f5ce_11ea_b4ff_8c8590d48992row10_col0,#T_9a166430_f5ce_11ea_b4ff_8c8590d48992row10_col1,#T_9a166430_f5ce_11ea_b4ff_8c8590d48992row10_col2,#T_9a166430_f5ce_11ea_b4ff_8c8590d48992row10_col3,#T_9a166430_f5ce_11ea_b4ff_8c8590d48992row10_col4,#T_9a166430_f5ce_11ea_b4ff_8c8590d48992row10_col5,#T_9a166430_f5ce_11ea_b4ff_8c8590d48992row10_col6,#T_9a166430_f5ce_11ea_b4ff_8c8590d48992row10_col17{\n",
       "            font-size:  6pt;\n",
       "            background-color:  #ffffff;\n",
       "            color:  #000000;\n",
       "        }#T_9a166430_f5ce_11ea_b4ff_8c8590d48992row1_col5{\n",
       "            font-size:  6pt;\n",
       "            background-color:  #efefef;\n",
       "            color:  #000000;\n",
       "        }#T_9a166430_f5ce_11ea_b4ff_8c8590d48992row1_col6,#T_9a166430_f5ce_11ea_b4ff_8c8590d48992row1_col13{\n",
       "            font-size:  6pt;\n",
       "            background-color:  #7c7c7c;\n",
       "            color:  #000000;\n",
       "        }#T_9a166430_f5ce_11ea_b4ff_8c8590d48992row1_col7{\n",
       "            font-size:  6pt;\n",
       "            background-color:  #4a4a4a;\n",
       "            color:  #f1f1f1;\n",
       "        }#T_9a166430_f5ce_11ea_b4ff_8c8590d48992row1_col8,#T_9a166430_f5ce_11ea_b4ff_8c8590d48992row1_col9,#T_9a166430_f5ce_11ea_b4ff_8c8590d48992row1_col10,#T_9a166430_f5ce_11ea_b4ff_8c8590d48992row2_col5,#T_9a166430_f5ce_11ea_b4ff_8c8590d48992row2_col6,#T_9a166430_f5ce_11ea_b4ff_8c8590d48992row2_col7,#T_9a166430_f5ce_11ea_b4ff_8c8590d48992row2_col11,#T_9a166430_f5ce_11ea_b4ff_8c8590d48992row2_col12,#T_9a166430_f5ce_11ea_b4ff_8c8590d48992row2_col13,#T_9a166430_f5ce_11ea_b4ff_8c8590d48992row3_col4,#T_9a166430_f5ce_11ea_b4ff_8c8590d48992row3_col12,#T_9a166430_f5ce_11ea_b4ff_8c8590d48992row3_col13,#T_9a166430_f5ce_11ea_b4ff_8c8590d48992row4_col1,#T_9a166430_f5ce_11ea_b4ff_8c8590d48992row4_col2,#T_9a166430_f5ce_11ea_b4ff_8c8590d48992row4_col3,#T_9a166430_f5ce_11ea_b4ff_8c8590d48992row4_col12,#T_9a166430_f5ce_11ea_b4ff_8c8590d48992row4_col13,#T_9a166430_f5ce_11ea_b4ff_8c8590d48992row5_col12,#T_9a166430_f5ce_11ea_b4ff_8c8590d48992row6_col11,#T_9a166430_f5ce_11ea_b4ff_8c8590d48992row9_col11,#T_9a166430_f5ce_11ea_b4ff_8c8590d48992row10_col11,#T_9a166430_f5ce_11ea_b4ff_8c8590d48992row10_col12,#T_9a166430_f5ce_11ea_b4ff_8c8590d48992row10_col13,#T_9a166430_f5ce_11ea_b4ff_8c8590d48992row10_col14,#T_9a166430_f5ce_11ea_b4ff_8c8590d48992row10_col15,#T_9a166430_f5ce_11ea_b4ff_8c8590d48992row10_col16{\n",
       "            font-size:  6pt;\n",
       "            background-color:  #000000;\n",
       "            color:  #f1f1f1;\n",
       "        }#T_9a166430_f5ce_11ea_b4ff_8c8590d48992row1_col11{\n",
       "            font-size:  6pt;\n",
       "            background-color:  #606060;\n",
       "            color:  #f1f1f1;\n",
       "        }#T_9a166430_f5ce_11ea_b4ff_8c8590d48992row1_col12{\n",
       "            font-size:  6pt;\n",
       "            background-color:  #4d4d4d;\n",
       "            color:  #f1f1f1;\n",
       "        }#T_9a166430_f5ce_11ea_b4ff_8c8590d48992row1_col14{\n",
       "            font-size:  6pt;\n",
       "            background-color:  #bbbbbb;\n",
       "            color:  #000000;\n",
       "        }#T_9a166430_f5ce_11ea_b4ff_8c8590d48992row2_col3{\n",
       "            font-size:  6pt;\n",
       "            background-color:  #e4e4e4;\n",
       "            color:  #000000;\n",
       "        }#T_9a166430_f5ce_11ea_b4ff_8c8590d48992row2_col4,#T_9a166430_f5ce_11ea_b4ff_8c8590d48992row8_col6{\n",
       "            font-size:  6pt;\n",
       "            background-color:  #6b6b6b;\n",
       "            color:  #000000;\n",
       "        }#T_9a166430_f5ce_11ea_b4ff_8c8590d48992row2_col8,#T_9a166430_f5ce_11ea_b4ff_8c8590d48992row2_col14,#T_9a166430_f5ce_11ea_b4ff_8c8590d48992row3_col14{\n",
       "            font-size:  6pt;\n",
       "            background-color:  #171717;\n",
       "            color:  #f1f1f1;\n",
       "        }#T_9a166430_f5ce_11ea_b4ff_8c8590d48992row2_col9,#T_9a166430_f5ce_11ea_b4ff_8c8590d48992row3_col11{\n",
       "            font-size:  6pt;\n",
       "            background-color:  #4b4b4b;\n",
       "            color:  #f1f1f1;\n",
       "        }#T_9a166430_f5ce_11ea_b4ff_8c8590d48992row2_col10,#T_9a166430_f5ce_11ea_b4ff_8c8590d48992row7_col10,#T_9a166430_f5ce_11ea_b4ff_8c8590d48992row8_col8,#T_9a166430_f5ce_11ea_b4ff_8c8590d48992row8_col10,#T_9a166430_f5ce_11ea_b4ff_8c8590d48992row9_col8,#T_9a166430_f5ce_11ea_b4ff_8c8590d48992row9_col10{\n",
       "            font-size:  6pt;\n",
       "            background-color:  #010101;\n",
       "            color:  #f1f1f1;\n",
       "        }#T_9a166430_f5ce_11ea_b4ff_8c8590d48992row3_col1{\n",
       "            font-size:  6pt;\n",
       "            background-color:  #272727;\n",
       "            color:  #f1f1f1;\n",
       "        }#T_9a166430_f5ce_11ea_b4ff_8c8590d48992row3_col2{\n",
       "            font-size:  6pt;\n",
       "            background-color:  #0a0a0a;\n",
       "            color:  #f1f1f1;\n",
       "        }#T_9a166430_f5ce_11ea_b4ff_8c8590d48992row3_col3{\n",
       "            font-size:  6pt;\n",
       "            background-color:  #050505;\n",
       "            color:  #f1f1f1;\n",
       "        }#T_9a166430_f5ce_11ea_b4ff_8c8590d48992row3_col5{\n",
       "            font-size:  6pt;\n",
       "            background-color:  #333333;\n",
       "            color:  #f1f1f1;\n",
       "        }#T_9a166430_f5ce_11ea_b4ff_8c8590d48992row3_col6{\n",
       "            font-size:  6pt;\n",
       "            background-color:  #e6e6e6;\n",
       "            color:  #000000;\n",
       "        }#T_9a166430_f5ce_11ea_b4ff_8c8590d48992row3_col7,#T_9a166430_f5ce_11ea_b4ff_8c8590d48992row3_col10{\n",
       "            font-size:  6pt;\n",
       "            background-color:  #fafafa;\n",
       "            color:  #000000;\n",
       "        }#T_9a166430_f5ce_11ea_b4ff_8c8590d48992row3_col8{\n",
       "            font-size:  6pt;\n",
       "            background-color:  #fbfbfb;\n",
       "            color:  #000000;\n",
       "        }#T_9a166430_f5ce_11ea_b4ff_8c8590d48992row3_col9{\n",
       "            font-size:  6pt;\n",
       "            background-color:  #fdfdfd;\n",
       "            color:  #000000;\n",
       "        }#T_9a166430_f5ce_11ea_b4ff_8c8590d48992row4_col4{\n",
       "            font-size:  6pt;\n",
       "            background-color:  #1b1b1b;\n",
       "            color:  #f1f1f1;\n",
       "        }#T_9a166430_f5ce_11ea_b4ff_8c8590d48992row4_col5{\n",
       "            font-size:  6pt;\n",
       "            background-color:  #e0e0e0;\n",
       "            color:  #000000;\n",
       "        }#T_9a166430_f5ce_11ea_b4ff_8c8590d48992row4_col11{\n",
       "            font-size:  6pt;\n",
       "            background-color:  #4e4e4e;\n",
       "            color:  #f1f1f1;\n",
       "        }#T_9a166430_f5ce_11ea_b4ff_8c8590d48992row4_col14{\n",
       "            font-size:  6pt;\n",
       "            background-color:  #767676;\n",
       "            color:  #000000;\n",
       "        }#T_9a166430_f5ce_11ea_b4ff_8c8590d48992row5_col1{\n",
       "            font-size:  6pt;\n",
       "            background-color:  #fcfcfc;\n",
       "            color:  #000000;\n",
       "        }#T_9a166430_f5ce_11ea_b4ff_8c8590d48992row5_col2,#T_9a166430_f5ce_11ea_b4ff_8c8590d48992row5_col3{\n",
       "            font-size:  6pt;\n",
       "            background-color:  #f6f6f6;\n",
       "            color:  #000000;\n",
       "        }#T_9a166430_f5ce_11ea_b4ff_8c8590d48992row5_col4,#T_9a166430_f5ce_11ea_b4ff_8c8590d48992row7_col7{\n",
       "            font-size:  6pt;\n",
       "            background-color:  #f8f8f8;\n",
       "            color:  #000000;\n",
       "        }#T_9a166430_f5ce_11ea_b4ff_8c8590d48992row5_col10,#T_9a166430_f5ce_11ea_b4ff_8c8590d48992row10_col7{\n",
       "            font-size:  6pt;\n",
       "            background-color:  #e8e8e8;\n",
       "            color:  #000000;\n",
       "        }#T_9a166430_f5ce_11ea_b4ff_8c8590d48992row5_col11{\n",
       "            font-size:  6pt;\n",
       "            background-color:  #222222;\n",
       "            color:  #f1f1f1;\n",
       "        }#T_9a166430_f5ce_11ea_b4ff_8c8590d48992row5_col13,#T_9a166430_f5ce_11ea_b4ff_8c8590d48992row6_col12{\n",
       "            font-size:  6pt;\n",
       "            background-color:  #090909;\n",
       "            color:  #f1f1f1;\n",
       "        }#T_9a166430_f5ce_11ea_b4ff_8c8590d48992row5_col14{\n",
       "            font-size:  6pt;\n",
       "            background-color:  #d0d0d0;\n",
       "            color:  #000000;\n",
       "        }#T_9a166430_f5ce_11ea_b4ff_8c8590d48992row6_col10,#T_9a166430_f5ce_11ea_b4ff_8c8590d48992row7_col11,#T_9a166430_f5ce_11ea_b4ff_8c8590d48992row9_col6{\n",
       "            font-size:  6pt;\n",
       "            background-color:  #060606;\n",
       "            color:  #f1f1f1;\n",
       "        }#T_9a166430_f5ce_11ea_b4ff_8c8590d48992row6_col13{\n",
       "            font-size:  6pt;\n",
       "            background-color:  #979797;\n",
       "            color:  #000000;\n",
       "        }#T_9a166430_f5ce_11ea_b4ff_8c8590d48992row7_col8{\n",
       "            font-size:  6pt;\n",
       "            background-color:  #b6b6b6;\n",
       "            color:  #000000;\n",
       "        }#T_9a166430_f5ce_11ea_b4ff_8c8590d48992row7_col9{\n",
       "            font-size:  6pt;\n",
       "            background-color:  #252525;\n",
       "            color:  #f1f1f1;\n",
       "        }#T_9a166430_f5ce_11ea_b4ff_8c8590d48992row7_col12{\n",
       "            font-size:  6pt;\n",
       "            background-color:  #999999;\n",
       "            color:  #000000;\n",
       "        }#T_9a166430_f5ce_11ea_b4ff_8c8590d48992row8_col5{\n",
       "            font-size:  6pt;\n",
       "            background-color:  #f9f9f9;\n",
       "            color:  #000000;\n",
       "        }#T_9a166430_f5ce_11ea_b4ff_8c8590d48992row8_col7{\n",
       "            font-size:  6pt;\n",
       "            background-color:  #101010;\n",
       "            color:  #f1f1f1;\n",
       "        }#T_9a166430_f5ce_11ea_b4ff_8c8590d48992row8_col9,#T_9a166430_f5ce_11ea_b4ff_8c8590d48992row9_col9{\n",
       "            font-size:  6pt;\n",
       "            background-color:  #020202;\n",
       "            color:  #f1f1f1;\n",
       "        }#T_9a166430_f5ce_11ea_b4ff_8c8590d48992row8_col11{\n",
       "            font-size:  6pt;\n",
       "            background-color:  #545454;\n",
       "            color:  #f1f1f1;\n",
       "        }#T_9a166430_f5ce_11ea_b4ff_8c8590d48992row8_col12{\n",
       "            font-size:  6pt;\n",
       "            background-color:  #f1f1f1;\n",
       "            color:  #000000;\n",
       "        }#T_9a166430_f5ce_11ea_b4ff_8c8590d48992row9_col5{\n",
       "            font-size:  6pt;\n",
       "            background-color:  #f7f7f7;\n",
       "            color:  #000000;\n",
       "        }#T_9a166430_f5ce_11ea_b4ff_8c8590d48992row9_col7{\n",
       "            font-size:  6pt;\n",
       "            background-color:  #030303;\n",
       "            color:  #f1f1f1;\n",
       "        }#T_9a166430_f5ce_11ea_b4ff_8c8590d48992row9_col12{\n",
       "            font-size:  6pt;\n",
       "            background-color:  #181818;\n",
       "            color:  #f1f1f1;\n",
       "        }#T_9a166430_f5ce_11ea_b4ff_8c8590d48992row9_col13{\n",
       "            font-size:  6pt;\n",
       "            background-color:  #303030;\n",
       "            color:  #f1f1f1;\n",
       "        }#T_9a166430_f5ce_11ea_b4ff_8c8590d48992row9_col14{\n",
       "            font-size:  6pt;\n",
       "            background-color:  #a9a9a9;\n",
       "            color:  #000000;\n",
       "        }#T_9a166430_f5ce_11ea_b4ff_8c8590d48992row9_col15{\n",
       "            font-size:  6pt;\n",
       "            background-color:  #fefefe;\n",
       "            color:  #000000;\n",
       "        }#T_9a166430_f5ce_11ea_b4ff_8c8590d48992row10_col8,#T_9a166430_f5ce_11ea_b4ff_8c8590d48992row10_col9{\n",
       "            font-size:  6pt;\n",
       "            background-color:  #bababa;\n",
       "            color:  #000000;\n",
       "        }#T_9a166430_f5ce_11ea_b4ff_8c8590d48992row10_col10{\n",
       "            font-size:  6pt;\n",
       "            background-color:  #393939;\n",
       "            color:  #f1f1f1;\n",
       "        }</style><table id=\"T_9a166430_f5ce_11ea_b4ff_8c8590d48992\" ><thead>    <tr>        <th class=\"blank level0\" ></th>        <th class=\"col_heading level0 col0\" >0</th>        <th class=\"col_heading level0 col1\" >1</th>        <th class=\"col_heading level0 col2\" >2</th>        <th class=\"col_heading level0 col3\" >3</th>        <th class=\"col_heading level0 col4\" >4</th>        <th class=\"col_heading level0 col5\" >5</th>        <th class=\"col_heading level0 col6\" >6</th>        <th class=\"col_heading level0 col7\" >7</th>        <th class=\"col_heading level0 col8\" >8</th>        <th class=\"col_heading level0 col9\" >9</th>        <th class=\"col_heading level0 col10\" >10</th>        <th class=\"col_heading level0 col11\" >11</th>        <th class=\"col_heading level0 col12\" >12</th>        <th class=\"col_heading level0 col13\" >13</th>        <th class=\"col_heading level0 col14\" >14</th>        <th class=\"col_heading level0 col15\" >15</th>        <th class=\"col_heading level0 col16\" >16</th>        <th class=\"col_heading level0 col17\" >17</th>    </tr></thead><tbody>\n",
       "                <tr>\n",
       "                        <th id=\"T_9a166430_f5ce_11ea_b4ff_8c8590d48992level0_row0\" class=\"row_heading level0 row0\" >0</th>\n",
       "                        <td id=\"T_9a166430_f5ce_11ea_b4ff_8c8590d48992row0_col0\" class=\"data row0 col0\" >0</td>\n",
       "                        <td id=\"T_9a166430_f5ce_11ea_b4ff_8c8590d48992row0_col1\" class=\"data row0 col1\" >0</td>\n",
       "                        <td id=\"T_9a166430_f5ce_11ea_b4ff_8c8590d48992row0_col2\" class=\"data row0 col2\" >0</td>\n",
       "                        <td id=\"T_9a166430_f5ce_11ea_b4ff_8c8590d48992row0_col3\" class=\"data row0 col3\" >0</td>\n",
       "                        <td id=\"T_9a166430_f5ce_11ea_b4ff_8c8590d48992row0_col4\" class=\"data row0 col4\" >0</td>\n",
       "                        <td id=\"T_9a166430_f5ce_11ea_b4ff_8c8590d48992row0_col5\" class=\"data row0 col5\" >0</td>\n",
       "                        <td id=\"T_9a166430_f5ce_11ea_b4ff_8c8590d48992row0_col6\" class=\"data row0 col6\" >0</td>\n",
       "                        <td id=\"T_9a166430_f5ce_11ea_b4ff_8c8590d48992row0_col7\" class=\"data row0 col7\" >0</td>\n",
       "                        <td id=\"T_9a166430_f5ce_11ea_b4ff_8c8590d48992row0_col8\" class=\"data row0 col8\" >0</td>\n",
       "                        <td id=\"T_9a166430_f5ce_11ea_b4ff_8c8590d48992row0_col9\" class=\"data row0 col9\" >0</td>\n",
       "                        <td id=\"T_9a166430_f5ce_11ea_b4ff_8c8590d48992row0_col10\" class=\"data row0 col10\" >0</td>\n",
       "                        <td id=\"T_9a166430_f5ce_11ea_b4ff_8c8590d48992row0_col11\" class=\"data row0 col11\" >0</td>\n",
       "                        <td id=\"T_9a166430_f5ce_11ea_b4ff_8c8590d48992row0_col12\" class=\"data row0 col12\" >0</td>\n",
       "                        <td id=\"T_9a166430_f5ce_11ea_b4ff_8c8590d48992row0_col13\" class=\"data row0 col13\" >0</td>\n",
       "                        <td id=\"T_9a166430_f5ce_11ea_b4ff_8c8590d48992row0_col14\" class=\"data row0 col14\" >0</td>\n",
       "                        <td id=\"T_9a166430_f5ce_11ea_b4ff_8c8590d48992row0_col15\" class=\"data row0 col15\" >0</td>\n",
       "                        <td id=\"T_9a166430_f5ce_11ea_b4ff_8c8590d48992row0_col16\" class=\"data row0 col16\" >0</td>\n",
       "                        <td id=\"T_9a166430_f5ce_11ea_b4ff_8c8590d48992row0_col17\" class=\"data row0 col17\" >0</td>\n",
       "            </tr>\n",
       "            <tr>\n",
       "                        <th id=\"T_9a166430_f5ce_11ea_b4ff_8c8590d48992level0_row1\" class=\"row_heading level0 row1\" >1</th>\n",
       "                        <td id=\"T_9a166430_f5ce_11ea_b4ff_8c8590d48992row1_col0\" class=\"data row1 col0\" >0</td>\n",
       "                        <td id=\"T_9a166430_f5ce_11ea_b4ff_8c8590d48992row1_col1\" class=\"data row1 col1\" >0</td>\n",
       "                        <td id=\"T_9a166430_f5ce_11ea_b4ff_8c8590d48992row1_col2\" class=\"data row1 col2\" >0</td>\n",
       "                        <td id=\"T_9a166430_f5ce_11ea_b4ff_8c8590d48992row1_col3\" class=\"data row1 col3\" >0</td>\n",
       "                        <td id=\"T_9a166430_f5ce_11ea_b4ff_8c8590d48992row1_col4\" class=\"data row1 col4\" >0</td>\n",
       "                        <td id=\"T_9a166430_f5ce_11ea_b4ff_8c8590d48992row1_col5\" class=\"data row1 col5\" >29</td>\n",
       "                        <td id=\"T_9a166430_f5ce_11ea_b4ff_8c8590d48992row1_col6\" class=\"data row1 col6\" >150</td>\n",
       "                        <td id=\"T_9a166430_f5ce_11ea_b4ff_8c8590d48992row1_col7\" class=\"data row1 col7\" >195</td>\n",
       "                        <td id=\"T_9a166430_f5ce_11ea_b4ff_8c8590d48992row1_col8\" class=\"data row1 col8\" >254</td>\n",
       "                        <td id=\"T_9a166430_f5ce_11ea_b4ff_8c8590d48992row1_col9\" class=\"data row1 col9\" >255</td>\n",
       "                        <td id=\"T_9a166430_f5ce_11ea_b4ff_8c8590d48992row1_col10\" class=\"data row1 col10\" >254</td>\n",
       "                        <td id=\"T_9a166430_f5ce_11ea_b4ff_8c8590d48992row1_col11\" class=\"data row1 col11\" >176</td>\n",
       "                        <td id=\"T_9a166430_f5ce_11ea_b4ff_8c8590d48992row1_col12\" class=\"data row1 col12\" >193</td>\n",
       "                        <td id=\"T_9a166430_f5ce_11ea_b4ff_8c8590d48992row1_col13\" class=\"data row1 col13\" >150</td>\n",
       "                        <td id=\"T_9a166430_f5ce_11ea_b4ff_8c8590d48992row1_col14\" class=\"data row1 col14\" >96</td>\n",
       "                        <td id=\"T_9a166430_f5ce_11ea_b4ff_8c8590d48992row1_col15\" class=\"data row1 col15\" >0</td>\n",
       "                        <td id=\"T_9a166430_f5ce_11ea_b4ff_8c8590d48992row1_col16\" class=\"data row1 col16\" >0</td>\n",
       "                        <td id=\"T_9a166430_f5ce_11ea_b4ff_8c8590d48992row1_col17\" class=\"data row1 col17\" >0</td>\n",
       "            </tr>\n",
       "            <tr>\n",
       "                        <th id=\"T_9a166430_f5ce_11ea_b4ff_8c8590d48992level0_row2\" class=\"row_heading level0 row2\" >2</th>\n",
       "                        <td id=\"T_9a166430_f5ce_11ea_b4ff_8c8590d48992row2_col0\" class=\"data row2 col0\" >0</td>\n",
       "                        <td id=\"T_9a166430_f5ce_11ea_b4ff_8c8590d48992row2_col1\" class=\"data row2 col1\" >0</td>\n",
       "                        <td id=\"T_9a166430_f5ce_11ea_b4ff_8c8590d48992row2_col2\" class=\"data row2 col2\" >0</td>\n",
       "                        <td id=\"T_9a166430_f5ce_11ea_b4ff_8c8590d48992row2_col3\" class=\"data row2 col3\" >48</td>\n",
       "                        <td id=\"T_9a166430_f5ce_11ea_b4ff_8c8590d48992row2_col4\" class=\"data row2 col4\" >166</td>\n",
       "                        <td id=\"T_9a166430_f5ce_11ea_b4ff_8c8590d48992row2_col5\" class=\"data row2 col5\" >224</td>\n",
       "                        <td id=\"T_9a166430_f5ce_11ea_b4ff_8c8590d48992row2_col6\" class=\"data row2 col6\" >253</td>\n",
       "                        <td id=\"T_9a166430_f5ce_11ea_b4ff_8c8590d48992row2_col7\" class=\"data row2 col7\" >253</td>\n",
       "                        <td id=\"T_9a166430_f5ce_11ea_b4ff_8c8590d48992row2_col8\" class=\"data row2 col8\" >234</td>\n",
       "                        <td id=\"T_9a166430_f5ce_11ea_b4ff_8c8590d48992row2_col9\" class=\"data row2 col9\" >196</td>\n",
       "                        <td id=\"T_9a166430_f5ce_11ea_b4ff_8c8590d48992row2_col10\" class=\"data row2 col10\" >253</td>\n",
       "                        <td id=\"T_9a166430_f5ce_11ea_b4ff_8c8590d48992row2_col11\" class=\"data row2 col11\" >253</td>\n",
       "                        <td id=\"T_9a166430_f5ce_11ea_b4ff_8c8590d48992row2_col12\" class=\"data row2 col12\" >253</td>\n",
       "                        <td id=\"T_9a166430_f5ce_11ea_b4ff_8c8590d48992row2_col13\" class=\"data row2 col13\" >253</td>\n",
       "                        <td id=\"T_9a166430_f5ce_11ea_b4ff_8c8590d48992row2_col14\" class=\"data row2 col14\" >233</td>\n",
       "                        <td id=\"T_9a166430_f5ce_11ea_b4ff_8c8590d48992row2_col15\" class=\"data row2 col15\" >0</td>\n",
       "                        <td id=\"T_9a166430_f5ce_11ea_b4ff_8c8590d48992row2_col16\" class=\"data row2 col16\" >0</td>\n",
       "                        <td id=\"T_9a166430_f5ce_11ea_b4ff_8c8590d48992row2_col17\" class=\"data row2 col17\" >0</td>\n",
       "            </tr>\n",
       "            <tr>\n",
       "                        <th id=\"T_9a166430_f5ce_11ea_b4ff_8c8590d48992level0_row3\" class=\"row_heading level0 row3\" >3</th>\n",
       "                        <td id=\"T_9a166430_f5ce_11ea_b4ff_8c8590d48992row3_col0\" class=\"data row3 col0\" >0</td>\n",
       "                        <td id=\"T_9a166430_f5ce_11ea_b4ff_8c8590d48992row3_col1\" class=\"data row3 col1\" >93</td>\n",
       "                        <td id=\"T_9a166430_f5ce_11ea_b4ff_8c8590d48992row3_col2\" class=\"data row3 col2\" >244</td>\n",
       "                        <td id=\"T_9a166430_f5ce_11ea_b4ff_8c8590d48992row3_col3\" class=\"data row3 col3\" >249</td>\n",
       "                        <td id=\"T_9a166430_f5ce_11ea_b4ff_8c8590d48992row3_col4\" class=\"data row3 col4\" >253</td>\n",
       "                        <td id=\"T_9a166430_f5ce_11ea_b4ff_8c8590d48992row3_col5\" class=\"data row3 col5\" >187</td>\n",
       "                        <td id=\"T_9a166430_f5ce_11ea_b4ff_8c8590d48992row3_col6\" class=\"data row3 col6\" >46</td>\n",
       "                        <td id=\"T_9a166430_f5ce_11ea_b4ff_8c8590d48992row3_col7\" class=\"data row3 col7\" >10</td>\n",
       "                        <td id=\"T_9a166430_f5ce_11ea_b4ff_8c8590d48992row3_col8\" class=\"data row3 col8\" >8</td>\n",
       "                        <td id=\"T_9a166430_f5ce_11ea_b4ff_8c8590d48992row3_col9\" class=\"data row3 col9\" >4</td>\n",
       "                        <td id=\"T_9a166430_f5ce_11ea_b4ff_8c8590d48992row3_col10\" class=\"data row3 col10\" >10</td>\n",
       "                        <td id=\"T_9a166430_f5ce_11ea_b4ff_8c8590d48992row3_col11\" class=\"data row3 col11\" >194</td>\n",
       "                        <td id=\"T_9a166430_f5ce_11ea_b4ff_8c8590d48992row3_col12\" class=\"data row3 col12\" >253</td>\n",
       "                        <td id=\"T_9a166430_f5ce_11ea_b4ff_8c8590d48992row3_col13\" class=\"data row3 col13\" >253</td>\n",
       "                        <td id=\"T_9a166430_f5ce_11ea_b4ff_8c8590d48992row3_col14\" class=\"data row3 col14\" >233</td>\n",
       "                        <td id=\"T_9a166430_f5ce_11ea_b4ff_8c8590d48992row3_col15\" class=\"data row3 col15\" >0</td>\n",
       "                        <td id=\"T_9a166430_f5ce_11ea_b4ff_8c8590d48992row3_col16\" class=\"data row3 col16\" >0</td>\n",
       "                        <td id=\"T_9a166430_f5ce_11ea_b4ff_8c8590d48992row3_col17\" class=\"data row3 col17\" >0</td>\n",
       "            </tr>\n",
       "            <tr>\n",
       "                        <th id=\"T_9a166430_f5ce_11ea_b4ff_8c8590d48992level0_row4\" class=\"row_heading level0 row4\" >4</th>\n",
       "                        <td id=\"T_9a166430_f5ce_11ea_b4ff_8c8590d48992row4_col0\" class=\"data row4 col0\" >0</td>\n",
       "                        <td id=\"T_9a166430_f5ce_11ea_b4ff_8c8590d48992row4_col1\" class=\"data row4 col1\" >107</td>\n",
       "                        <td id=\"T_9a166430_f5ce_11ea_b4ff_8c8590d48992row4_col2\" class=\"data row4 col2\" >253</td>\n",
       "                        <td id=\"T_9a166430_f5ce_11ea_b4ff_8c8590d48992row4_col3\" class=\"data row4 col3\" >253</td>\n",
       "                        <td id=\"T_9a166430_f5ce_11ea_b4ff_8c8590d48992row4_col4\" class=\"data row4 col4\" >230</td>\n",
       "                        <td id=\"T_9a166430_f5ce_11ea_b4ff_8c8590d48992row4_col5\" class=\"data row4 col5\" >48</td>\n",
       "                        <td id=\"T_9a166430_f5ce_11ea_b4ff_8c8590d48992row4_col6\" class=\"data row4 col6\" >0</td>\n",
       "                        <td id=\"T_9a166430_f5ce_11ea_b4ff_8c8590d48992row4_col7\" class=\"data row4 col7\" >0</td>\n",
       "                        <td id=\"T_9a166430_f5ce_11ea_b4ff_8c8590d48992row4_col8\" class=\"data row4 col8\" >0</td>\n",
       "                        <td id=\"T_9a166430_f5ce_11ea_b4ff_8c8590d48992row4_col9\" class=\"data row4 col9\" >0</td>\n",
       "                        <td id=\"T_9a166430_f5ce_11ea_b4ff_8c8590d48992row4_col10\" class=\"data row4 col10\" >0</td>\n",
       "                        <td id=\"T_9a166430_f5ce_11ea_b4ff_8c8590d48992row4_col11\" class=\"data row4 col11\" >192</td>\n",
       "                        <td id=\"T_9a166430_f5ce_11ea_b4ff_8c8590d48992row4_col12\" class=\"data row4 col12\" >253</td>\n",
       "                        <td id=\"T_9a166430_f5ce_11ea_b4ff_8c8590d48992row4_col13\" class=\"data row4 col13\" >253</td>\n",
       "                        <td id=\"T_9a166430_f5ce_11ea_b4ff_8c8590d48992row4_col14\" class=\"data row4 col14\" >156</td>\n",
       "                        <td id=\"T_9a166430_f5ce_11ea_b4ff_8c8590d48992row4_col15\" class=\"data row4 col15\" >0</td>\n",
       "                        <td id=\"T_9a166430_f5ce_11ea_b4ff_8c8590d48992row4_col16\" class=\"data row4 col16\" >0</td>\n",
       "                        <td id=\"T_9a166430_f5ce_11ea_b4ff_8c8590d48992row4_col17\" class=\"data row4 col17\" >0</td>\n",
       "            </tr>\n",
       "            <tr>\n",
       "                        <th id=\"T_9a166430_f5ce_11ea_b4ff_8c8590d48992level0_row5\" class=\"row_heading level0 row5\" >5</th>\n",
       "                        <td id=\"T_9a166430_f5ce_11ea_b4ff_8c8590d48992row5_col0\" class=\"data row5 col0\" >0</td>\n",
       "                        <td id=\"T_9a166430_f5ce_11ea_b4ff_8c8590d48992row5_col1\" class=\"data row5 col1\" >3</td>\n",
       "                        <td id=\"T_9a166430_f5ce_11ea_b4ff_8c8590d48992row5_col2\" class=\"data row5 col2\" >20</td>\n",
       "                        <td id=\"T_9a166430_f5ce_11ea_b4ff_8c8590d48992row5_col3\" class=\"data row5 col3\" >20</td>\n",
       "                        <td id=\"T_9a166430_f5ce_11ea_b4ff_8c8590d48992row5_col4\" class=\"data row5 col4\" >15</td>\n",
       "                        <td id=\"T_9a166430_f5ce_11ea_b4ff_8c8590d48992row5_col5\" class=\"data row5 col5\" >0</td>\n",
       "                        <td id=\"T_9a166430_f5ce_11ea_b4ff_8c8590d48992row5_col6\" class=\"data row5 col6\" >0</td>\n",
       "                        <td id=\"T_9a166430_f5ce_11ea_b4ff_8c8590d48992row5_col7\" class=\"data row5 col7\" >0</td>\n",
       "                        <td id=\"T_9a166430_f5ce_11ea_b4ff_8c8590d48992row5_col8\" class=\"data row5 col8\" >0</td>\n",
       "                        <td id=\"T_9a166430_f5ce_11ea_b4ff_8c8590d48992row5_col9\" class=\"data row5 col9\" >0</td>\n",
       "                        <td id=\"T_9a166430_f5ce_11ea_b4ff_8c8590d48992row5_col10\" class=\"data row5 col10\" >43</td>\n",
       "                        <td id=\"T_9a166430_f5ce_11ea_b4ff_8c8590d48992row5_col11\" class=\"data row5 col11\" >224</td>\n",
       "                        <td id=\"T_9a166430_f5ce_11ea_b4ff_8c8590d48992row5_col12\" class=\"data row5 col12\" >253</td>\n",
       "                        <td id=\"T_9a166430_f5ce_11ea_b4ff_8c8590d48992row5_col13\" class=\"data row5 col13\" >245</td>\n",
       "                        <td id=\"T_9a166430_f5ce_11ea_b4ff_8c8590d48992row5_col14\" class=\"data row5 col14\" >74</td>\n",
       "                        <td id=\"T_9a166430_f5ce_11ea_b4ff_8c8590d48992row5_col15\" class=\"data row5 col15\" >0</td>\n",
       "                        <td id=\"T_9a166430_f5ce_11ea_b4ff_8c8590d48992row5_col16\" class=\"data row5 col16\" >0</td>\n",
       "                        <td id=\"T_9a166430_f5ce_11ea_b4ff_8c8590d48992row5_col17\" class=\"data row5 col17\" >0</td>\n",
       "            </tr>\n",
       "            <tr>\n",
       "                        <th id=\"T_9a166430_f5ce_11ea_b4ff_8c8590d48992level0_row6\" class=\"row_heading level0 row6\" >6</th>\n",
       "                        <td id=\"T_9a166430_f5ce_11ea_b4ff_8c8590d48992row6_col0\" class=\"data row6 col0\" >0</td>\n",
       "                        <td id=\"T_9a166430_f5ce_11ea_b4ff_8c8590d48992row6_col1\" class=\"data row6 col1\" >0</td>\n",
       "                        <td id=\"T_9a166430_f5ce_11ea_b4ff_8c8590d48992row6_col2\" class=\"data row6 col2\" >0</td>\n",
       "                        <td id=\"T_9a166430_f5ce_11ea_b4ff_8c8590d48992row6_col3\" class=\"data row6 col3\" >0</td>\n",
       "                        <td id=\"T_9a166430_f5ce_11ea_b4ff_8c8590d48992row6_col4\" class=\"data row6 col4\" >0</td>\n",
       "                        <td id=\"T_9a166430_f5ce_11ea_b4ff_8c8590d48992row6_col5\" class=\"data row6 col5\" >0</td>\n",
       "                        <td id=\"T_9a166430_f5ce_11ea_b4ff_8c8590d48992row6_col6\" class=\"data row6 col6\" >0</td>\n",
       "                        <td id=\"T_9a166430_f5ce_11ea_b4ff_8c8590d48992row6_col7\" class=\"data row6 col7\" >0</td>\n",
       "                        <td id=\"T_9a166430_f5ce_11ea_b4ff_8c8590d48992row6_col8\" class=\"data row6 col8\" >0</td>\n",
       "                        <td id=\"T_9a166430_f5ce_11ea_b4ff_8c8590d48992row6_col9\" class=\"data row6 col9\" >0</td>\n",
       "                        <td id=\"T_9a166430_f5ce_11ea_b4ff_8c8590d48992row6_col10\" class=\"data row6 col10\" >249</td>\n",
       "                        <td id=\"T_9a166430_f5ce_11ea_b4ff_8c8590d48992row6_col11\" class=\"data row6 col11\" >253</td>\n",
       "                        <td id=\"T_9a166430_f5ce_11ea_b4ff_8c8590d48992row6_col12\" class=\"data row6 col12\" >245</td>\n",
       "                        <td id=\"T_9a166430_f5ce_11ea_b4ff_8c8590d48992row6_col13\" class=\"data row6 col13\" >126</td>\n",
       "                        <td id=\"T_9a166430_f5ce_11ea_b4ff_8c8590d48992row6_col14\" class=\"data row6 col14\" >0</td>\n",
       "                        <td id=\"T_9a166430_f5ce_11ea_b4ff_8c8590d48992row6_col15\" class=\"data row6 col15\" >0</td>\n",
       "                        <td id=\"T_9a166430_f5ce_11ea_b4ff_8c8590d48992row6_col16\" class=\"data row6 col16\" >0</td>\n",
       "                        <td id=\"T_9a166430_f5ce_11ea_b4ff_8c8590d48992row6_col17\" class=\"data row6 col17\" >0</td>\n",
       "            </tr>\n",
       "            <tr>\n",
       "                        <th id=\"T_9a166430_f5ce_11ea_b4ff_8c8590d48992level0_row7\" class=\"row_heading level0 row7\" >7</th>\n",
       "                        <td id=\"T_9a166430_f5ce_11ea_b4ff_8c8590d48992row7_col0\" class=\"data row7 col0\" >0</td>\n",
       "                        <td id=\"T_9a166430_f5ce_11ea_b4ff_8c8590d48992row7_col1\" class=\"data row7 col1\" >0</td>\n",
       "                        <td id=\"T_9a166430_f5ce_11ea_b4ff_8c8590d48992row7_col2\" class=\"data row7 col2\" >0</td>\n",
       "                        <td id=\"T_9a166430_f5ce_11ea_b4ff_8c8590d48992row7_col3\" class=\"data row7 col3\" >0</td>\n",
       "                        <td id=\"T_9a166430_f5ce_11ea_b4ff_8c8590d48992row7_col4\" class=\"data row7 col4\" >0</td>\n",
       "                        <td id=\"T_9a166430_f5ce_11ea_b4ff_8c8590d48992row7_col5\" class=\"data row7 col5\" >0</td>\n",
       "                        <td id=\"T_9a166430_f5ce_11ea_b4ff_8c8590d48992row7_col6\" class=\"data row7 col6\" >0</td>\n",
       "                        <td id=\"T_9a166430_f5ce_11ea_b4ff_8c8590d48992row7_col7\" class=\"data row7 col7\" >14</td>\n",
       "                        <td id=\"T_9a166430_f5ce_11ea_b4ff_8c8590d48992row7_col8\" class=\"data row7 col8\" >101</td>\n",
       "                        <td id=\"T_9a166430_f5ce_11ea_b4ff_8c8590d48992row7_col9\" class=\"data row7 col9\" >223</td>\n",
       "                        <td id=\"T_9a166430_f5ce_11ea_b4ff_8c8590d48992row7_col10\" class=\"data row7 col10\" >253</td>\n",
       "                        <td id=\"T_9a166430_f5ce_11ea_b4ff_8c8590d48992row7_col11\" class=\"data row7 col11\" >248</td>\n",
       "                        <td id=\"T_9a166430_f5ce_11ea_b4ff_8c8590d48992row7_col12\" class=\"data row7 col12\" >124</td>\n",
       "                        <td id=\"T_9a166430_f5ce_11ea_b4ff_8c8590d48992row7_col13\" class=\"data row7 col13\" >0</td>\n",
       "                        <td id=\"T_9a166430_f5ce_11ea_b4ff_8c8590d48992row7_col14\" class=\"data row7 col14\" >0</td>\n",
       "                        <td id=\"T_9a166430_f5ce_11ea_b4ff_8c8590d48992row7_col15\" class=\"data row7 col15\" >0</td>\n",
       "                        <td id=\"T_9a166430_f5ce_11ea_b4ff_8c8590d48992row7_col16\" class=\"data row7 col16\" >0</td>\n",
       "                        <td id=\"T_9a166430_f5ce_11ea_b4ff_8c8590d48992row7_col17\" class=\"data row7 col17\" >0</td>\n",
       "            </tr>\n",
       "            <tr>\n",
       "                        <th id=\"T_9a166430_f5ce_11ea_b4ff_8c8590d48992level0_row8\" class=\"row_heading level0 row8\" >8</th>\n",
       "                        <td id=\"T_9a166430_f5ce_11ea_b4ff_8c8590d48992row8_col0\" class=\"data row8 col0\" >0</td>\n",
       "                        <td id=\"T_9a166430_f5ce_11ea_b4ff_8c8590d48992row8_col1\" class=\"data row8 col1\" >0</td>\n",
       "                        <td id=\"T_9a166430_f5ce_11ea_b4ff_8c8590d48992row8_col2\" class=\"data row8 col2\" >0</td>\n",
       "                        <td id=\"T_9a166430_f5ce_11ea_b4ff_8c8590d48992row8_col3\" class=\"data row8 col3\" >0</td>\n",
       "                        <td id=\"T_9a166430_f5ce_11ea_b4ff_8c8590d48992row8_col4\" class=\"data row8 col4\" >0</td>\n",
       "                        <td id=\"T_9a166430_f5ce_11ea_b4ff_8c8590d48992row8_col5\" class=\"data row8 col5\" >11</td>\n",
       "                        <td id=\"T_9a166430_f5ce_11ea_b4ff_8c8590d48992row8_col6\" class=\"data row8 col6\" >166</td>\n",
       "                        <td id=\"T_9a166430_f5ce_11ea_b4ff_8c8590d48992row8_col7\" class=\"data row8 col7\" >239</td>\n",
       "                        <td id=\"T_9a166430_f5ce_11ea_b4ff_8c8590d48992row8_col8\" class=\"data row8 col8\" >253</td>\n",
       "                        <td id=\"T_9a166430_f5ce_11ea_b4ff_8c8590d48992row8_col9\" class=\"data row8 col9\" >253</td>\n",
       "                        <td id=\"T_9a166430_f5ce_11ea_b4ff_8c8590d48992row8_col10\" class=\"data row8 col10\" >253</td>\n",
       "                        <td id=\"T_9a166430_f5ce_11ea_b4ff_8c8590d48992row8_col11\" class=\"data row8 col11\" >187</td>\n",
       "                        <td id=\"T_9a166430_f5ce_11ea_b4ff_8c8590d48992row8_col12\" class=\"data row8 col12\" >30</td>\n",
       "                        <td id=\"T_9a166430_f5ce_11ea_b4ff_8c8590d48992row8_col13\" class=\"data row8 col13\" >0</td>\n",
       "                        <td id=\"T_9a166430_f5ce_11ea_b4ff_8c8590d48992row8_col14\" class=\"data row8 col14\" >0</td>\n",
       "                        <td id=\"T_9a166430_f5ce_11ea_b4ff_8c8590d48992row8_col15\" class=\"data row8 col15\" >0</td>\n",
       "                        <td id=\"T_9a166430_f5ce_11ea_b4ff_8c8590d48992row8_col16\" class=\"data row8 col16\" >0</td>\n",
       "                        <td id=\"T_9a166430_f5ce_11ea_b4ff_8c8590d48992row8_col17\" class=\"data row8 col17\" >0</td>\n",
       "            </tr>\n",
       "            <tr>\n",
       "                        <th id=\"T_9a166430_f5ce_11ea_b4ff_8c8590d48992level0_row9\" class=\"row_heading level0 row9\" >9</th>\n",
       "                        <td id=\"T_9a166430_f5ce_11ea_b4ff_8c8590d48992row9_col0\" class=\"data row9 col0\" >0</td>\n",
       "                        <td id=\"T_9a166430_f5ce_11ea_b4ff_8c8590d48992row9_col1\" class=\"data row9 col1\" >0</td>\n",
       "                        <td id=\"T_9a166430_f5ce_11ea_b4ff_8c8590d48992row9_col2\" class=\"data row9 col2\" >0</td>\n",
       "                        <td id=\"T_9a166430_f5ce_11ea_b4ff_8c8590d48992row9_col3\" class=\"data row9 col3\" >0</td>\n",
       "                        <td id=\"T_9a166430_f5ce_11ea_b4ff_8c8590d48992row9_col4\" class=\"data row9 col4\" >0</td>\n",
       "                        <td id=\"T_9a166430_f5ce_11ea_b4ff_8c8590d48992row9_col5\" class=\"data row9 col5\" >16</td>\n",
       "                        <td id=\"T_9a166430_f5ce_11ea_b4ff_8c8590d48992row9_col6\" class=\"data row9 col6\" >248</td>\n",
       "                        <td id=\"T_9a166430_f5ce_11ea_b4ff_8c8590d48992row9_col7\" class=\"data row9 col7\" >250</td>\n",
       "                        <td id=\"T_9a166430_f5ce_11ea_b4ff_8c8590d48992row9_col8\" class=\"data row9 col8\" >253</td>\n",
       "                        <td id=\"T_9a166430_f5ce_11ea_b4ff_8c8590d48992row9_col9\" class=\"data row9 col9\" >253</td>\n",
       "                        <td id=\"T_9a166430_f5ce_11ea_b4ff_8c8590d48992row9_col10\" class=\"data row9 col10\" >253</td>\n",
       "                        <td id=\"T_9a166430_f5ce_11ea_b4ff_8c8590d48992row9_col11\" class=\"data row9 col11\" >253</td>\n",
       "                        <td id=\"T_9a166430_f5ce_11ea_b4ff_8c8590d48992row9_col12\" class=\"data row9 col12\" >232</td>\n",
       "                        <td id=\"T_9a166430_f5ce_11ea_b4ff_8c8590d48992row9_col13\" class=\"data row9 col13\" >213</td>\n",
       "                        <td id=\"T_9a166430_f5ce_11ea_b4ff_8c8590d48992row9_col14\" class=\"data row9 col14\" >111</td>\n",
       "                        <td id=\"T_9a166430_f5ce_11ea_b4ff_8c8590d48992row9_col15\" class=\"data row9 col15\" >2</td>\n",
       "                        <td id=\"T_9a166430_f5ce_11ea_b4ff_8c8590d48992row9_col16\" class=\"data row9 col16\" >0</td>\n",
       "                        <td id=\"T_9a166430_f5ce_11ea_b4ff_8c8590d48992row9_col17\" class=\"data row9 col17\" >0</td>\n",
       "            </tr>\n",
       "            <tr>\n",
       "                        <th id=\"T_9a166430_f5ce_11ea_b4ff_8c8590d48992level0_row10\" class=\"row_heading level0 row10\" >10</th>\n",
       "                        <td id=\"T_9a166430_f5ce_11ea_b4ff_8c8590d48992row10_col0\" class=\"data row10 col0\" >0</td>\n",
       "                        <td id=\"T_9a166430_f5ce_11ea_b4ff_8c8590d48992row10_col1\" class=\"data row10 col1\" >0</td>\n",
       "                        <td id=\"T_9a166430_f5ce_11ea_b4ff_8c8590d48992row10_col2\" class=\"data row10 col2\" >0</td>\n",
       "                        <td id=\"T_9a166430_f5ce_11ea_b4ff_8c8590d48992row10_col3\" class=\"data row10 col3\" >0</td>\n",
       "                        <td id=\"T_9a166430_f5ce_11ea_b4ff_8c8590d48992row10_col4\" class=\"data row10 col4\" >0</td>\n",
       "                        <td id=\"T_9a166430_f5ce_11ea_b4ff_8c8590d48992row10_col5\" class=\"data row10 col5\" >0</td>\n",
       "                        <td id=\"T_9a166430_f5ce_11ea_b4ff_8c8590d48992row10_col6\" class=\"data row10 col6\" >0</td>\n",
       "                        <td id=\"T_9a166430_f5ce_11ea_b4ff_8c8590d48992row10_col7\" class=\"data row10 col7\" >43</td>\n",
       "                        <td id=\"T_9a166430_f5ce_11ea_b4ff_8c8590d48992row10_col8\" class=\"data row10 col8\" >98</td>\n",
       "                        <td id=\"T_9a166430_f5ce_11ea_b4ff_8c8590d48992row10_col9\" class=\"data row10 col9\" >98</td>\n",
       "                        <td id=\"T_9a166430_f5ce_11ea_b4ff_8c8590d48992row10_col10\" class=\"data row10 col10\" >208</td>\n",
       "                        <td id=\"T_9a166430_f5ce_11ea_b4ff_8c8590d48992row10_col11\" class=\"data row10 col11\" >253</td>\n",
       "                        <td id=\"T_9a166430_f5ce_11ea_b4ff_8c8590d48992row10_col12\" class=\"data row10 col12\" >253</td>\n",
       "                        <td id=\"T_9a166430_f5ce_11ea_b4ff_8c8590d48992row10_col13\" class=\"data row10 col13\" >253</td>\n",
       "                        <td id=\"T_9a166430_f5ce_11ea_b4ff_8c8590d48992row10_col14\" class=\"data row10 col14\" >253</td>\n",
       "                        <td id=\"T_9a166430_f5ce_11ea_b4ff_8c8590d48992row10_col15\" class=\"data row10 col15\" >187</td>\n",
       "                        <td id=\"T_9a166430_f5ce_11ea_b4ff_8c8590d48992row10_col16\" class=\"data row10 col16\" >22</td>\n",
       "                        <td id=\"T_9a166430_f5ce_11ea_b4ff_8c8590d48992row10_col17\" class=\"data row10 col17\" >0</td>\n",
       "            </tr>\n",
       "    </tbody></table>"
      ],
      "text/plain": [
       "<pandas.io.formats.style.Styler at 0x7fbe40295130>"
      ]
     },
     "execution_count": 10,
     "metadata": {},
     "output_type": "execute_result"
    }
   ],
   "source": [
    "img3_t = tensor(img3)\n",
    "df = pd.DataFrame(img3_t[4:15, 4:22])\n",
    "df.style.set_properties(**{'font-size':'6pt'}).background_gradient('Greys')"
   ]
  },
  {
   "cell_type": "markdown",
   "metadata": {},
   "source": [
    "### Building a Baseline - Pixel Similarity"
   ]
  },
  {
   "cell_type": "code",
   "execution_count": 11,
   "metadata": {},
   "outputs": [
    {
     "data": {
      "text/plain": [
       "(6131, 6265)"
      ]
     },
     "execution_count": 11,
     "metadata": {},
     "output_type": "execute_result"
    }
   ],
   "source": [
    "# load all the tensors\n",
    "three_tensors = [tensor(Image.open(i)) for i in threes]\n",
    "seven_tensors = [tensor(Image.open(i)) for i in sevens]\n",
    "len(three_tensors), len(seven_tensors)"
   ]
  },
  {
   "cell_type": "code",
   "execution_count": 12,
   "metadata": {},
   "outputs": [
    {
     "data": {
      "image/png": "[encoded data removed]",
      "text/plain": [
       "<Figure size 72x72 with 1 Axes>"
      ]
     },
     "metadata": {
      "needs_background": "light"
     },
     "output_type": "display_data"
    }
   ],
   "source": [
    "# use fastai function to display tensor as image\n",
    "show_image(three_tensors[1]);"
   ]
  },
  {
   "cell_type": "code",
   "execution_count": 13,
   "metadata": {},
   "outputs": [
    {
     "data": {
      "text/plain": [
       "(torch.Size([6131, 28, 28]), torch.Size([6265, 28, 28]))"
      ]
     },
     "execution_count": 13,
     "metadata": {},
     "output_type": "execute_result"
    }
   ],
   "source": [
    "stacked_sevens = torch.stack(seven_tensors).float()/255\n",
    "stacked_threes = torch.stack(three_tensors).float()/255\n",
    "stacked_threes.shape, stacked_sevens.shape"
   ]
  },
  {
   "cell_type": "code",
   "execution_count": 14,
   "metadata": {},
   "outputs": [
    {
     "data": {
      "image/png": "[encoded data removed]",
      "text/plain": [
       "<Figure size 72x72 with 1 Axes>"
      ]
     },
     "metadata": {
      "needs_background": "light"
     },
     "output_type": "display_data"
    }
   ],
   "source": [
    "# calculate the mean over axis 0\n",
    "three_mean = stacked_threes.mean(0)\n",
    "show_image(three_mean);"
   ]
  },
  {
   "cell_type": "code",
   "execution_count": 15,
   "metadata": {},
   "outputs": [
    {
     "data": {
      "image/png": "[encoded data removed]",
      "text/plain": [
       "<Figure size 72x72 with 1 Axes>"
      ]
     },
     "metadata": {
      "needs_background": "light"
     },
     "output_type": "display_data"
    }
   ],
   "source": [
    "# also plot ideal seven\n",
    "seven_mean = stacked_sevens.mean(0)\n",
    "show_image(seven_mean);"
   ]
  },
  {
   "cell_type": "markdown",
   "metadata": {},
   "source": [
    "Two ways of measuring distance in this context:\n",
    "* Take the mean of the absolute value of differences (absolute value is the function that replaces negative values with positive values). This is called the mean absolute difference or L1 norm\n",
    "* Take the mean of the square of differences (which makes everything positive) and then take the square root (which undoes the squaring). This is called the root mean squared error (RMSE) or L2 norm."
   ]
  },
  {
   "cell_type": "code",
   "execution_count": 16,
   "metadata": {},
   "outputs": [
    {
     "data": {
      "image/png": "[encoded data removed]",
      "text/plain": [
       "<Figure size 72x72 with 1 Axes>"
      ]
     },
     "metadata": {
      "needs_background": "light"
     },
     "output_type": "display_data"
    }
   ],
   "source": [
    "# take a sample three\n",
    "three_sample = stacked_threes[2].float()\n",
    "show_image(three_sample);"
   ]
  },
  {
   "cell_type": "code",
   "execution_count": 17,
   "metadata": {},
   "outputs": [
    {
     "data": {
      "text/plain": [
       "(tensor(0.1100), tensor(0.1541))"
      ]
     },
     "execution_count": 17,
     "metadata": {},
     "output_type": "execute_result"
    }
   ],
   "source": [
    "# calculate l1 norm to both means\n",
    "l1_dist_3 = (three_sample-three_mean).abs().mean()\n",
    "l1_dist_7 = (three_sample-seven_mean).abs().mean()\n",
    "l1_dist_3, l1_dist_7"
   ]
  },
  {
   "cell_type": "markdown",
   "metadata": {},
   "source": [
    "With l1 norm our sample image is closer to the ideal three which confirms our model."
   ]
  },
  {
   "cell_type": "code",
   "execution_count": 18,
   "metadata": {},
   "outputs": [
    {
     "data": {
      "text/plain": [
       "(tensor(0.1980), tensor(0.2974))"
      ]
     },
     "execution_count": 18,
     "metadata": {},
     "output_type": "execute_result"
    }
   ],
   "source": [
    "# calculate l2 norm to both means\n",
    "l2_dist_3 = ((three_sample-three_mean)**2).mean().sqrt()\n",
    "l2_dist_7 = ((three_sample-seven_mean)**2).mean().sqrt()\n",
    "l2_dist_3, l2_dist_7 "
   ]
  },
  {
   "cell_type": "markdown",
   "metadata": {},
   "source": [
    "Also with the l2 norm our sample is closer to the ideal three which makes sense."
   ]
  },
  {
   "cell_type": "code",
   "execution_count": 19,
   "metadata": {},
   "outputs": [
    {
     "data": {
      "text/plain": [
       "(tensor(0.1100), tensor(0.1980))"
      ]
     },
     "execution_count": 19,
     "metadata": {},
     "output_type": "execute_result"
    }
   ],
   "source": [
    "# there would be also pytorch function for these two losses\n",
    "F.l1_loss(three_sample, three_mean), F.mse_loss(three_sample, three_mean).sqrt()"
   ]
  },
  {
   "cell_type": "markdown",
   "metadata": {},
   "source": [
    "### Validating our Baseline Model"
   ]
  },
  {
   "cell_type": "code",
   "execution_count": 20,
   "metadata": {},
   "outputs": [
    {
     "data": {
      "text/plain": [
       "(torch.Size([1010, 28, 28]), torch.Size([1028, 28, 28]))"
      ]
     },
     "execution_count": 20,
     "metadata": {},
     "output_type": "execute_result"
    }
   ],
   "source": [
    "# loading the validation sets\n",
    "valid_3_tensors = torch.stack([tensor(Image.open(i)) for i in (path/'valid'/'3').ls()])\n",
    "valid_3_tensors = valid_3_tensors.float()/255\n",
    "valid_7_tensors = torch.stack([tensor(Image.open(i)) for i in (path/'valid'/'7').ls()])\n",
    "valid_7_tensors = valid_7_tensors.float()/255\n",
    "valid_3_tensors.shape, valid_7_tensors.shape"
   ]
  },
  {
   "cell_type": "code",
   "execution_count": 21,
   "metadata": {},
   "outputs": [
    {
     "data": {
      "text/plain": [
       "tensor(0.1100)"
      ]
     },
     "execution_count": 21,
     "metadata": {},
     "output_type": "execute_result"
    }
   ],
   "source": [
    "# creating our distance function\n",
    "def mnist_distance(a, b): return (a-b).abs().mean((-1, -2))\n",
    "mnist_distance(three_sample, three_mean)"
   ]
  },
  {
   "cell_type": "code",
   "execution_count": 22,
   "metadata": {},
   "outputs": [
    {
     "data": {
      "text/plain": [
       "(torch.Size([1010]),\n",
       " tensor([0.1634, 0.1145, 0.1363,  ..., 0.1105, 0.1111, 0.1640]))"
      ]
     },
     "execution_count": 22,
     "metadata": {},
     "output_type": "execute_result"
    }
   ],
   "source": [
    "valid_3_dist = mnist_distance(valid_3_tensors, three_mean)\n",
    "valid_3_dist.shape, valid_3_dist"
   ]
  },
  {
   "cell_type": "markdown",
   "metadata": {},
   "source": [
    "We took the mean over the last two axis and left just with the mean per images - thats why we have shape 1010 left."
   ]
  },
  {
   "cell_type": "markdown",
   "metadata": {},
   "source": [
    "#### Technical Sidenote - Broadcasting"
   ]
  },
  {
   "cell_type": "code",
   "execution_count": 23,
   "metadata": {},
   "outputs": [
    {
     "data": {
      "text/plain": [
       "tensor([[0.0000, 0.0000, 0.0941, 0.4745, 0.7922],\n",
       "        [0.5882, 0.7608, 0.8980, 0.9922, 0.9922],\n",
       "        [0.9922, 0.9922, 0.9922, 0.9922, 0.9922],\n",
       "        [0.9922, 0.9922, 0.9922, 0.9922, 0.9922],\n",
       "        [0.9922, 0.9922, 0.9922, 0.9922, 0.8471],\n",
       "        [0.9843, 0.9333, 0.5490, 0.2314, 0.0588],\n",
       "        [0.3020, 0.0000, 0.0000, 0.0000, 0.0000],\n",
       "        [0.0000, 0.0000, 0.0000, 0.0000, 0.0000]])"
      ]
     },
     "execution_count": 23,
     "metadata": {},
     "output_type": "execute_result"
    }
   ],
   "source": [
    "test_tensor = valid_3_tensors[0][10:18, 10:15]\n",
    "test_tensor"
   ]
  },
  {
   "cell_type": "code",
   "execution_count": 24,
   "metadata": {},
   "outputs": [
    {
     "data": {
      "text/plain": [
       "(tensor(0.5847),\n",
       " tensor([0.2722, 0.8463, 0.9922, 0.9922, 0.9631, 0.5514, 0.0604, 0.0000]),\n",
       " tensor([0.6064, 0.5838, 0.5647, 0.5843, 0.5843]),\n",
       " tensor(0.5847))"
      ]
     },
     "execution_count": 24,
     "metadata": {},
     "output_type": "execute_result"
    }
   ],
   "source": [
    "# you can specify the axis for the means\n",
    "test_tensor.mean(), test_tensor.mean((-1)), test_tensor.mean((-2)), test_tensor.mean((-1,-2))"
   ]
  },
  {
   "cell_type": "code",
   "execution_count": 25,
   "metadata": {},
   "outputs": [
    {
     "data": {
      "text/plain": [
       "(tensor([3, 4, 5]), tensor([3, 4, 5]))"
      ]
     },
     "execution_count": 25,
     "metadata": {},
     "output_type": "execute_result"
    }
   ],
   "source": [
    "# you can abbreviate dimensions - they get 'copied'\n",
    "tensor([2,3,4]) + tensor([1,1,1]), tensor([2,3,4]) + tensor([1])"
   ]
  },
  {
   "cell_type": "code",
   "execution_count": 26,
   "metadata": {},
   "outputs": [
    {
     "data": {
      "text/plain": [
       "(tensor([[[0.0000, 0.0000, 0.0000],\n",
       "          [0.0000, 0.0000, 0.0000],\n",
       "          [0.0000, 0.0000, 0.0000],\n",
       "          [0.0000, 0.0000, 0.0000]],\n",
       " \n",
       "         [[0.1000, 0.1000, 0.1000],\n",
       "          [0.1000, 0.1000, 0.1000],\n",
       "          [0.1000, 0.1000, 0.1000],\n",
       "          [0.1000, 0.1000, 0.1000]]]),\n",
       " torch.Size([2, 4, 3]))"
      ]
     },
     "execution_count": 26,
     "metadata": {},
     "output_type": "execute_result"
    }
   ],
   "source": [
    "# if you have stacked tensors\n",
    "tensor_a = tensor([\n",
    "    [.0,.0,.0],\n",
    "    [.0,.0,.0],\n",
    "    [.0,.0,.0],\n",
    "    [.0,.0,.0]\n",
    "])\n",
    "tensor_b = tensor([\n",
    "    [.1,.1,.1],\n",
    "    [.1,.1,.1],\n",
    "    [.1,.1,.1],\n",
    "    [.1,.1,.1]\n",
    "])\n",
    "tensor_test = torch.stack((tensor_a, tensor_b))\n",
    "tensor_test, tensor_test.shape"
   ]
  },
  {
   "cell_type": "code",
   "execution_count": 27,
   "metadata": {},
   "outputs": [
    {
     "data": {
      "text/plain": [
       "tensor([0.0000, 0.1000])"
      ]
     },
     "execution_count": 27,
     "metadata": {},
     "output_type": "execute_result"
    }
   ],
   "source": [
    "# you can take operations over specific dimensions \n",
    "tensor_test.mean((-1,-2))"
   ]
  },
  {
   "cell_type": "markdown",
   "metadata": {},
   "source": [
    "#### End Sidenote"
   ]
  },
  {
   "cell_type": "code",
   "execution_count": 28,
   "metadata": {},
   "outputs": [
    {
     "data": {
      "text/plain": [
       "(tensor(True), tensor(False))"
      ]
     },
     "execution_count": 28,
     "metadata": {},
     "output_type": "execute_result"
    }
   ],
   "source": [
    "# we define our prediction function\n",
    "def is_3(x): return mnist_distance(x, three_mean) < mnist_distance(x, seven_mean)\n",
    "\n",
    "# test our function\n",
    "is_3(three_sample), is_3(seven_tensors[0])"
   ]
  },
  {
   "cell_type": "code",
   "execution_count": 29,
   "metadata": {},
   "outputs": [
    {
     "data": {
      "text/plain": [
       "(tensor(True), tensor(False))"
      ]
     },
     "execution_count": 29,
     "metadata": {},
     "output_type": "execute_result"
    }
   ],
   "source": [
    "# make the same with some partical function application - just for fun\n",
    "dist_to_3 = bind(mnist_distance, three_mean)\n",
    "dist_to_7 = bind(mnist_distance, seven_mean)\n",
    "\n",
    "def is_3(x): return dist_to_3(x) < dist_to_7(x)\n",
    "\n",
    "# test our function\n",
    "is_3(three_sample), is_3(seven_tensors[0])"
   ]
  },
  {
   "cell_type": "code",
   "execution_count": 30,
   "metadata": {},
   "outputs": [
    {
     "data": {
      "text/plain": [
       "(tensor(0.9168), tensor(0.9854))"
      ]
     },
     "execution_count": 30,
     "metadata": {},
     "output_type": "execute_result"
    }
   ],
   "source": [
    "# now lets evaluate the accuracy of our baseline model\n",
    "accuracy_3s = is_3(valid_3_tensors).float().mean()\n",
    "accuracy_7s = (1 - is_3(valid_7_tensors).float()).mean()\n",
    "accuracy_3s, accuracy_7s"
   ]
  },
  {
   "cell_type": "code",
   "execution_count": 31,
   "metadata": {},
   "outputs": [
    {
     "data": {
      "text/plain": [
       "tensor(0.9511)"
      ]
     },
     "execution_count": 31,
     "metadata": {},
     "output_type": "execute_result"
    }
   ],
   "source": [
    "# and take overall accuracy\n",
    "tensor(accuracy_3s, accuracy_7s).mean()"
   ]
  },
  {
   "cell_type": "markdown",
   "metadata": {},
   "source": [
    "With our trivial classifier we already reached an acc of 95%! But these is only for two out of 10 digits. Maybe we need to implement some real learning."
   ]
  },
  {
   "cell_type": "markdown",
   "metadata": {},
   "source": [
    "### Gradient Descent"
   ]
  },
  {
   "cell_type": "markdown",
   "metadata": {},
   "source": [
    "Remeber what our learning function looks like:"
   ]
  },
  {
   "attachments": {
    "image.png": {
     "image/png": "[encoded data removed]"
    }
   },
   "cell_type": "markdown",
   "metadata": {},
   "source": [
    "![image.png](attachment:image.png)"
   ]
  },
  {
   "cell_type": "code",
   "execution_count": 32,
   "metadata": {},
   "outputs": [],
   "source": [
    "# lets start with an example\n",
    "def f(x): return x**2"
   ]
  },
  {
   "cell_type": "code",
   "execution_count": 34,
   "metadata": {},
   "outputs": [],
   "source": [
    "# we borrow the plot_function from the fastbook library\n",
    "def plot_function(f, tx=None, ty=None, title=None, min=-2, max=2, figsize=(6,4)):\n",
    "    x = torch.linspace(min,max)\n",
    "    fig,ax = plt.subplots(figsize=figsize)\n",
    "    ax.plot(x,f(x))\n",
    "    if tx is not None: ax.set_xlabel(tx)\n",
    "    if ty is not None: ax.set_ylabel(ty)\n",
    "    if title is not None: ax.set_title(title)"
   ]
  },
  {
   "cell_type": "code",
   "execution_count": 44,
   "metadata": {},
   "outputs": [
    {
     "data": {
      "image/png": "[encoded data removed]",
      "text/plain": [
       "<Figure size 432x288 with 1 Axes>"
      ]
     },
     "metadata": {
      "needs_background": "light"
     },
     "output_type": "display_data"
    }
   ],
   "source": [
    "# and plot the function\n",
    "plot_function(f, 'x', 'x^2')"
   ]
  },
  {
   "cell_type": "code",
   "execution_count": 45,
   "metadata": {},
   "outputs": [
    {
     "data": {
      "image/png": "[encoded data removed]",
      "text/plain": [
       "<Figure size 432x288 with 1 Axes>"
      ]
     },
     "metadata": {
      "needs_background": "light"
     },
     "output_type": "display_data"
    }
   ],
   "source": [
    "# weights are initialized randomly, so we pick a 'random' point\n",
    "plot_function(f, 'x', 'x**2')\n",
    "plt.scatter(-1.5, f(-1.5), color='red');"
   ]
  },
  {
   "cell_type": "code",
   "execution_count": 48,
   "metadata": {},
   "outputs": [
    {
     "data": {
      "text/plain": [
       "tensor(3., requires_grad=True)"
      ]
     },
     "execution_count": 48,
     "metadata": {},
     "output_type": "execute_result"
    }
   ],
   "source": [
    "# calculating gradients with pytorch\n",
    "xt = tensor(3.).requires_grad_()\n",
    "xt"
   ]
  },
  {
   "cell_type": "code",
   "execution_count": 49,
   "metadata": {},
   "outputs": [
    {
     "data": {
      "text/plain": [
       "tensor(9., grad_fn=<PowBackward0>)"
      ]
     },
     "execution_count": 49,
     "metadata": {},
     "output_type": "execute_result"
    }
   ],
   "source": [
    "# now apply our function from above\n",
    "yt = f(xt)\n",
    "yt"
   ]
  },
  {
   "cell_type": "code",
   "execution_count": 50,
   "metadata": {},
   "outputs": [],
   "source": [
    "# and we let pytorch calculate the gradient via backprop\n",
    "yt.backward()"
   ]
  },
  {
   "cell_type": "code",
   "execution_count": 53,
   "metadata": {},
   "outputs": [
    {
     "data": {
      "text/plain": [
       "tensor(6.)"
      ]
     },
     "execution_count": 53,
     "metadata": {},
     "output_type": "execute_result"
    }
   ],
   "source": [
    "xt.grad"
   ]
  },
  {
   "cell_type": "markdown",
   "metadata": {},
   "source": [
    "This gives us 6 which is the same as 2\\*3 (2x = df/dx)"
   ]
  },
  {
   "cell_type": "code",
   "execution_count": 54,
   "metadata": {},
   "outputs": [
    {
     "data": {
      "text/plain": [
       "tensor([ 3.,  4., 10.], requires_grad=True)"
      ]
     },
     "execution_count": 54,
     "metadata": {},
     "output_type": "execute_result"
    }
   ],
   "source": [
    "# define tensor with .requires_grad_()\n",
    "xt = tensor([3., 4., 10.]).requires_grad_()\n",
    "xt"
   ]
  },
  {
   "cell_type": "code",
   "execution_count": 55,
   "metadata": {},
   "outputs": [],
   "source": [
    "# define the function\n",
    "def f(x): return (x**2).sum()"
   ]
  },
  {
   "cell_type": "code",
   "execution_count": 56,
   "metadata": {},
   "outputs": [
    {
     "data": {
      "text/plain": [
       "tensor(125., grad_fn=<SumBackward0>)"
      ]
     },
     "execution_count": 56,
     "metadata": {},
     "output_type": "execute_result"
    }
   ],
   "source": [
    "# apply the function\n",
    "yt = f(xt)\n",
    "yt"
   ]
  },
  {
   "cell_type": "code",
   "execution_count": 57,
   "metadata": {},
   "outputs": [],
   "source": [
    "# propagate back\n",
    "yt.backward()"
   ]
  },
  {
   "cell_type": "code",
   "execution_count": 58,
   "metadata": {},
   "outputs": [
    {
     "data": {
      "text/plain": [
       "tensor([ 6.,  8., 20.])"
      ]
     },
     "execution_count": 58,
     "metadata": {},
     "output_type": "execute_result"
    }
   ],
   "source": [
    "# inspect the grad\n",
    "xt.grad"
   ]
  },
  {
   "cell_type": "markdown",
   "metadata": {},
   "source": [
    "Remember the formula of gradient descent:"
   ]
  },
  {
   "cell_type": "markdown",
   "metadata": {},
   "source": [
    "$ weights -= gradient(w) * lr$"
   ]
  },
  {
   "cell_type": "markdown",
   "metadata": {},
   "source": [
    "#### Sidebar Gradient Descent - Rollercoaster Example"
   ]
  },
  {
   "cell_type": "markdown",
   "metadata": {},
   "source": [
    "Imagine a rollercoaster driving over a hill.."
   ]
  },
  {
   "cell_type": "code",
   "execution_count": 60,
   "metadata": {},
   "outputs": [
    {
     "data": {
      "text/plain": [
       "tensor([ 0.,  1.,  2.,  3.,  4.,  5.,  6.,  7.,  8.,  9., 10., 11., 12., 13.,\n",
       "        14., 15., 16., 17., 18., 19.])"
      ]
     },
     "execution_count": 60,
     "metadata": {},
     "output_type": "execute_result"
    }
   ],
   "source": [
    "# we sample in time steps\n",
    "time = torch.arange(0,20).float(); time"
   ]
  },
  {
   "cell_type": "code",
   "execution_count": 67,
   "metadata": {},
   "outputs": [
    {
     "data": {
      "image/png": "[encoded data removed]",
      "text/plain": [
       "<Figure size 432x288 with 1 Axes>"
      ]
     },
     "metadata": {
      "needs_background": "light"
     },
     "output_type": "display_data"
    }
   ],
   "source": [
    "# fake some random speed measurement\n",
    "speed = torch.randn(20) * 3 + .75*(time-9.5)**2 + 1\n",
    "plt.scatter(time, speed);"
   ]
  },
  {
   "cell_type": "markdown",
   "metadata": {},
   "source": [
    "Since it looks quadratic we only limit the solution space to quadratic functions where we need the variables $a$, $b$, $c$."
   ]
  },
  {
   "cell_type": "code",
   "execution_count": 68,
   "metadata": {},
   "outputs": [],
   "source": [
    "# create a quadratic function with input and params\n",
    "def f(t, params):\n",
    "    a, b, c = params\n",
    "    return a*(t**2) + b*t + c"
   ]
  },
  {
   "cell_type": "code",
   "execution_count": 69,
   "metadata": {},
   "outputs": [],
   "source": [
    "# now we also need a loss function\n",
    "def mse(preds, targets): return ((preds-targets)**2).mean()"
   ]
  },
  {
   "cell_type": "markdown",
   "metadata": {},
   "source": [
    "*Step 1: Initialize Parameters*"
   ]
  },
  {
   "cell_type": "code",
   "execution_count": 96,
   "metadata": {},
   "outputs": [],
   "source": [
    "# we initialize our params randomly\n",
    "params = torch.randn(3).requires_grad_()"
   ]
  },
  {
   "cell_type": "code",
   "execution_count": 97,
   "metadata": {},
   "outputs": [],
   "source": [
    "# save our original params for later\n",
    "orig_params = params.clone()"
   ]
  },
  {
   "cell_type": "code",
   "execution_count": 98,
   "metadata": {},
   "outputs": [
    {
     "data": {
      "text/plain": [
       "(tensor([1.7335, 0.1604, 0.1088], requires_grad=True),\n",
       " tensor([1.7335, 0.1604, 0.1088], grad_fn=<CloneBackward>))"
      ]
     },
     "execution_count": 98,
     "metadata": {},
     "output_type": "execute_result"
    }
   ],
   "source": [
    "params, orig_params"
   ]
  },
  {
   "cell_type": "markdown",
   "metadata": {},
   "source": [
    "*Step 2: Calculate Predictions*"
   ]
  },
  {
   "cell_type": "code",
   "execution_count": 99,
   "metadata": {},
   "outputs": [],
   "source": [
    "# calculate our predictions with our random weights\n",
    "preds = f(time, params)"
   ]
  },
  {
   "cell_type": "code",
   "execution_count": 100,
   "metadata": {},
   "outputs": [],
   "source": [
    "# create a function for comparing our predictions to our target\n",
    "def show_preds(preds, ax=None):\n",
    "    if ax is None: ax=plt.subplots()[1]\n",
    "    ax.scatter(time, speed)\n",
    "    ax.scatter(time, to_np(preds), color='red')\n",
    "    ax.set_ylim(-300,100)"
   ]
  },
  {
   "cell_type": "code",
   "execution_count": 101,
   "metadata": {},
   "outputs": [
    {
     "data": {
      "image/png": "[encoded data removed]",
      "text/plain": [
       "<Figure size 432x288 with 1 Axes>"
      ]
     },
     "metadata": {
      "needs_background": "light"
     },
     "output_type": "display_data"
    }
   ],
   "source": [
    "# display our first (random) try\n",
    "show_preds(preds)"
   ]
  },
  {
   "cell_type": "markdown",
   "metadata": {},
   "source": [
    "*Step 3: Calculate the Loss*"
   ]
  },
  {
   "cell_type": "code",
   "execution_count": 102,
   "metadata": {},
   "outputs": [
    {
     "data": {
      "text/plain": [
       "tensor(73993.4297, grad_fn=<MeanBackward0>)"
      ]
     },
     "execution_count": 102,
     "metadata": {},
     "output_type": "execute_result"
    }
   ],
   "source": [
    "loss = mse(preds, speed)\n",
    "loss"
   ]
  },
  {
   "cell_type": "markdown",
   "metadata": {},
   "source": [
    "*Step 4: Calculate the Gradients*"
   ]
  },
  {
   "cell_type": "code",
   "execution_count": 103,
   "metadata": {},
   "outputs": [
    {
     "data": {
      "text/plain": [
       "tensor([90841.2344,  5834.1602,   381.1667])"
      ]
     },
     "execution_count": 103,
     "metadata": {},
     "output_type": "execute_result"
    }
   ],
   "source": [
    "# we backpropagate the loss function and get the grad of our params\n",
    "loss.backward()\n",
    "params.grad"
   ]
  },
  {
   "cell_type": "code",
   "execution_count": 104,
   "metadata": {},
   "outputs": [],
   "source": [
    "# initialize our learning rate\n",
    "learning_rate = 1e-5"
   ]
  },
  {
   "cell_type": "markdown",
   "metadata": {},
   "source": [
    "*Step 5: Step the Weights (Update)*"
   ]
  },
  {
   "cell_type": "code",
   "execution_count": 105,
   "metadata": {},
   "outputs": [],
   "source": [
    "# we update the weights with the learning rate\n",
    "params.data -= learning_rate * params.grad.data\n",
    "\n",
    "# and reset the gradient\n",
    "params.grad = None"
   ]
  },
  {
   "cell_type": "code",
   "execution_count": 106,
   "metadata": {},
   "outputs": [
    {
     "data": {
      "text/plain": [
       "tensor(14538.8691, grad_fn=<MeanBackward0>)"
      ]
     },
     "execution_count": 106,
     "metadata": {},
     "output_type": "execute_result"
    }
   ],
   "source": [
    "# lets see if we have improved\n",
    "preds = f(time, params)\n",
    "mse(preds, speed)"
   ]
  },
  {
   "cell_type": "code",
   "execution_count": 107,
   "metadata": {},
   "outputs": [
    {
     "data": {
      "image/png": "[encoded data removed]",
      "text/plain": [
       "<Figure size 432x288 with 1 Axes>"
      ]
     },
     "metadata": {
      "needs_background": "light"
     },
     "output_type": "display_data"
    }
   ],
   "source": [
    "# lets see this improvement visually\n",
    "show_preds(preds)"
   ]
  },
  {
   "cell_type": "markdown",
   "metadata": {},
   "source": [
    "Thats is a little bit better but we need to do this step a lot more."
   ]
  },
  {
   "cell_type": "code",
   "execution_count": 108,
   "metadata": {},
   "outputs": [],
   "source": [
    "# create a function for automating our steps\n",
    "def apply_step(params, prn=True):\n",
    "    preds = f(time, params)\n",
    "    loss = mse(preds, speed)\n",
    "    loss.backward()\n",
    "    params.data -= learning_rate * params.grad.data\n",
    "    params.grad = None\n",
    "    if prn: print(loss.item())\n",
    "    return preds"
   ]
  },
  {
   "cell_type": "markdown",
   "metadata": {},
   "source": [
    "*Step 6: Repeat the Process - aka Rinse & Repeat*"
   ]
  },
  {
   "cell_type": "code",
   "execution_count": 109,
   "metadata": {},
   "outputs": [
    {
     "name": "stdout",
     "output_type": "stream",
     "text": [
      "14538.869140625\n",
      "3288.24609375\n",
      "1159.282470703125\n",
      "756.4149169921875\n",
      "680.1773681640625\n",
      "665.7481079101562\n",
      "663.0148315429688\n",
      "662.4947509765625\n",
      "662.3937377929688\n",
      "662.3718872070312\n"
     ]
    }
   ],
   "source": [
    "for i in range(10): apply_step(params)"
   ]
  },
  {
   "cell_type": "code",
   "execution_count": 110,
   "metadata": {},
   "outputs": [],
   "source": [
    "# reset our params\n",
    "params = orig_params.detach().requires_grad_()"
   ]
  },
  {
   "cell_type": "code",
   "execution_count": 111,
   "metadata": {},
   "outputs": [
    {
     "data": {
      "image/png": "[encoded data removed]",
      "text/plain": [
       "<Figure size 864x216 with 4 Axes>"
      ]
     },
     "metadata": {
      "needs_background": "light"
     },
     "output_type": "display_data"
    }
   ],
   "source": [
    "# lets see how this looks\n",
    "_,axs = plt.subplots(1,4,figsize=(12,3))\n",
    "for ax in axs: show_preds(apply_step(params, False), ax)\n",
    "plt.tight_layout()"
   ]
  },
  {
   "cell_type": "markdown",
   "metadata": {},
   "source": [
    "*Step 8: Stop*"
   ]
  },
  {
   "cell_type": "markdown",
   "metadata": {},
   "source": [
    "Usually we will stop if our loss is satisfying or we do not improve anymore."
   ]
  },
  {
   "cell_type": "markdown",
   "metadata": {},
   "source": [
    "#### End Sidebar"
   ]
  },
  {
   "cell_type": "markdown",
   "metadata": {},
   "source": [
    "### The Loss Function"
   ]
  },
  {
   "cell_type": "code",
   "execution_count": 258,
   "metadata": {},
   "outputs": [
    {
     "data": {
      "text/plain": [
       "torch.Size([6131, 28, 28])"
      ]
     },
     "execution_count": 258,
     "metadata": {},
     "output_type": "execute_result"
    }
   ],
   "source": [
    "# because we have convolutions and no spatial concepts in\n",
    "# our model we reshape the images from matrices to vectors\n",
    "stacked_threes.shape"
   ]
  },
  {
   "cell_type": "code",
   "execution_count": 259,
   "metadata": {},
   "outputs": [
    {
     "data": {
      "text/plain": [
       "torch.Size([12396, 784])"
      ]
     },
     "execution_count": 259,
     "metadata": {},
     "output_type": "execute_result"
    }
   ],
   "source": [
    "train_x = torch.cat([stacked_threes, stacked_sevens]).view(-1, 28*28)\n",
    "train_x.shape"
   ]
  },
  {
   "cell_type": "code",
   "execution_count": 260,
   "metadata": {},
   "outputs": [
    {
     "data": {
      "text/plain": [
       "tensor([1, 1, 1,  ..., 0, 0, 0])"
      ]
     },
     "execution_count": 260,
     "metadata": {},
     "output_type": "execute_result"
    }
   ],
   "source": [
    "# create the labels for images\n",
    "train_y = tensor([1]*len(threes) + [0]*len(sevens))\n",
    "train_y"
   ]
  },
  {
   "cell_type": "code",
   "execution_count": 261,
   "metadata": {},
   "outputs": [
    {
     "data": {
      "text/plain": [
       "(torch.Size([12396, 784]), torch.Size([12396, 1]))"
      ]
     },
     "execution_count": 261,
     "metadata": {},
     "output_type": "execute_result"
    }
   ],
   "source": [
    "# create a matrix out of the vector\n",
    "train_y = train_y.unsqueeze(1)\n",
    "train_x.shape, train_y.shape"
   ]
  },
  {
   "cell_type": "code",
   "execution_count": 262,
   "metadata": {},
   "outputs": [
    {
     "data": {
      "text/plain": [
       "(torch.Size([784]), torch.Size([1]))"
      ]
     },
     "execution_count": 262,
     "metadata": {},
     "output_type": "execute_result"
    }
   ],
   "source": [
    "# DataSet in PyTorch requires a tuple (x, y)\n",
    "dset = list(zip(train_x, train_y))\n",
    "x, y = dset[0]\n",
    "x.shape, y.shape"
   ]
  },
  {
   "cell_type": "code",
   "execution_count": 263,
   "metadata": {},
   "outputs": [],
   "source": [
    "# do the same for our validation set\n",
    "valid_x = torch.cat([valid_3_tensors, valid_7_tensors]).view(-1, 28*28)\n",
    "valid_y = tensor([1]*len(valid_3_tensors) + [0]*len(valid_7_tensors)).unsqueeze(1)\n",
    "valid_dset = list(zip(valid_x, valid_y))"
   ]
  },
  {
   "cell_type": "code",
   "execution_count": 264,
   "metadata": {},
   "outputs": [],
   "source": [
    "# create function with random data\n",
    "def init_params(size, var=1.0): return (torch.randn(size) * var).requires_grad_()"
   ]
  },
  {
   "cell_type": "code",
   "execution_count": 265,
   "metadata": {},
   "outputs": [],
   "source": [
    "# initialize our parameters\n",
    "weights = init_params((28*28, 1))\n",
    "bias = init_params(1)"
   ]
  },
  {
   "cell_type": "code",
   "execution_count": 266,
   "metadata": {},
   "outputs": [
    {
     "data": {
      "text/plain": [
       "tensor([-14.1116], grad_fn=<AddBackward0>)"
      ]
     },
     "execution_count": 266,
     "metadata": {},
     "output_type": "execute_result"
    }
   ],
   "source": [
    "# calculate the prediction for just one image\n",
    "(train_x[0]*weights.T).sum() + bias"
   ]
  },
  {
   "cell_type": "code",
   "execution_count": 267,
   "metadata": {},
   "outputs": [
    {
     "data": {
      "text/plain": [
       "tensor([[-14.1116],\n",
       "        [-17.0518],\n",
       "        [-14.2547],\n",
       "        ...,\n",
       "        [ -3.5554],\n",
       "        [-17.1609],\n",
       "        [-11.9271]], grad_fn=<AddBackward0>)"
      ]
     },
     "execution_count": 267,
     "metadata": {},
     "output_type": "execute_result"
    }
   ],
   "source": [
    "# create a linear function with matrix multiplication\n",
    "def linear1(xb): return xb@weights + bias\n",
    "preds = linear1(train_x)\n",
    "preds"
   ]
  },
  {
   "cell_type": "code",
   "execution_count": 268,
   "metadata": {},
   "outputs": [
    {
     "data": {
      "text/plain": [
       "tensor([[False],\n",
       "        [False],\n",
       "        [False],\n",
       "        ...,\n",
       "        [ True],\n",
       "        [ True],\n",
       "        [ True]])"
      ]
     },
     "execution_count": 268,
     "metadata": {},
     "output_type": "execute_result"
    }
   ],
   "source": [
    "# define a notion of accuracy\n",
    "corrects =  (preds>bias.item()).float() == train_y\n",
    "corrects"
   ]
  },
  {
   "cell_type": "code",
   "execution_count": 269,
   "metadata": {},
   "outputs": [
    {
     "data": {
      "text/plain": [
       "0.5070990920066833"
      ]
     },
     "execution_count": 269,
     "metadata": {},
     "output_type": "execute_result"
    }
   ],
   "source": [
    "# and calculate it\n",
    "corrects.float().mean().item()"
   ]
  },
  {
   "cell_type": "code",
   "execution_count": 270,
   "metadata": {},
   "outputs": [
    {
     "data": {
      "text/plain": [
       "0.5070990920066833"
      ]
     },
     "execution_count": 270,
     "metadata": {},
     "output_type": "execute_result"
    }
   ],
   "source": [
    "# accuracy would not be a good loss function:\n",
    "\n",
    "# slight change in weights\n",
    "weights[0] *= 1.0001\n",
    "\n",
    "# predict again\n",
    "preds = linear1(train_x)\n",
    "((preds>bias.item()).float() == train_y).float().mean().item()"
   ]
  },
  {
   "cell_type": "markdown",
   "metadata": {},
   "source": [
    "We would have the same loss because a small change in weights would not make a different prediction than before."
   ]
  },
  {
   "cell_type": "code",
   "execution_count": 271,
   "metadata": {},
   "outputs": [],
   "source": [
    "# we need a loss function that measures the distance\n",
    "sample_target = tensor([1,0,1])\n",
    "sample_predictions = tensor([.9, .4, .2])"
   ]
  },
  {
   "cell_type": "code",
   "execution_count": 278,
   "metadata": {},
   "outputs": [],
   "source": [
    "# define a function which measures the distance to the supposed value\n",
    "def mnist_loss(preds, targets):\n",
    "    return torch.where(targets==1, 1-preds, preds).mean()"
   ]
  },
  {
   "cell_type": "code",
   "execution_count": 280,
   "metadata": {},
   "outputs": [
    {
     "data": {
      "text/plain": [
       "tensor([0.1000, 0.4000, 0.8000])"
      ]
     },
     "execution_count": 280,
     "metadata": {},
     "output_type": "execute_result"
    }
   ],
   "source": [
    "# example\n",
    "torch.where(sample_target==1, 1-sample_predictions, sample_predictions)"
   ]
  },
  {
   "cell_type": "code",
   "execution_count": 276,
   "metadata": {},
   "outputs": [
    {
     "data": {
      "text/plain": [
       "tensor(0.5000)"
      ]
     },
     "execution_count": 276,
     "metadata": {},
     "output_type": "execute_result"
    }
   ],
   "source": [
    "# test function\n",
    "mnist_loss(sample_predictions, sample_target)"
   ]
  },
  {
   "cell_type": "markdown",
   "metadata": {},
   "source": [
    "### Sigmoid"
   ]
  },
  {
   "cell_type": "code",
   "execution_count": 283,
   "metadata": {},
   "outputs": [],
   "source": [
    "# define sigmoid function\n",
    "def sigmoid(x): return (1/(1+torch.exp(-x)))"
   ]
  },
  {
   "cell_type": "code",
   "execution_count": 284,
   "metadata": {},
   "outputs": [
    {
     "data": {
      "image/png": "[encoded data removed]",
      "text/plain": [
       "<Figure size 432x288 with 1 Axes>"
      ]
     },
     "metadata": {
      "needs_background": "light"
     },
     "output_type": "display_data"
    }
   ],
   "source": [
    "# but torch has its own\n",
    "plot_function(torch.sigmoid, title='Sigmoid', min=-4, max=4)"
   ]
  },
  {
   "cell_type": "code",
   "execution_count": 285,
   "metadata": {},
   "outputs": [],
   "source": [
    "# with this smooshing we can refine our loss function\n",
    "def mnist_loss(predictions, targets):\n",
    "    predictions = predictions.sigmoid()\n",
    "    return torch.where(predictions==1, 1-predictions, predictions).mean()"
   ]
  },
  {
   "cell_type": "markdown",
   "metadata": {},
   "source": [
    "### SGD and Mini-Batches"
   ]
  },
  {
   "cell_type": "code",
   "execution_count": 358,
   "metadata": {
    "scrolled": true
   },
   "outputs": [
    {
     "data": {
      "text/plain": [
       "[tensor([5, 9, 6, 3, 0]),\n",
       " tensor([10, 12,  1, 13,  2]),\n",
       " tensor([14, 11,  4,  8,  7])]"
      ]
     },
     "execution_count": 358,
     "metadata": {},
     "output_type": "execute_result"
    }
   ],
   "source": [
    "# batching with the dataloader\n",
    "coll = range(15)\n",
    "dl = DataLoader(coll, batch_size=5, shuffle=True)\n",
    "list(dl)"
   ]
  },
  {
   "cell_type": "code",
   "execution_count": 359,
   "metadata": {},
   "outputs": [
    {
     "data": {
      "text/plain": [
       "(torch.Size([784]), tensor([1]))"
      ]
     },
     "execution_count": 359,
     "metadata": {},
     "output_type": "execute_result"
    }
   ],
   "source": [
    "# but for the PyTorch DataLoader we need a dataset of (x, y) tuples\n",
    "# we already loaded this\n",
    "first(dset)[0].shape, first(dset)[1]"
   ]
  },
  {
   "cell_type": "code",
   "execution_count": 360,
   "metadata": {},
   "outputs": [
    {
     "data": {
      "text/plain": [
       "(#26) [(0, 'a'),(1, 'b'),(2, 'c'),(3, 'd'),(4, 'e'),(5, 'f'),(6, 'g'),(7, 'h'),(8, 'i'),(9, 'j')...]"
      ]
     },
     "execution_count": 360,
     "metadata": {},
     "output_type": "execute_result"
    }
   ],
   "source": [
    "# remember the fastcore list on steroids!\n",
    "L(enumerate(string.ascii_lowercase))"
   ]
  },
  {
   "cell_type": "markdown",
   "metadata": {},
   "source": [
    "### Putting it all together"
   ]
  },
  {
   "cell_type": "code",
   "execution_count": 382,
   "metadata": {},
   "outputs": [],
   "source": [
    "# re-initialize our parameters\n",
    "weights = init_params((28*28, 1))\n",
    "bias = init_params(1)"
   ]
  },
  {
   "cell_type": "code",
   "execution_count": 383,
   "metadata": {},
   "outputs": [
    {
     "data": {
      "text/plain": [
       "(torch.Size([256, 784]), torch.Size([256, 1]))"
      ]
     },
     "execution_count": 383,
     "metadata": {},
     "output_type": "execute_result"
    }
   ],
   "source": [
    "# create dataloader from our dataset\n",
    "dl = DataLoader(dset, batch_size=256)\n",
    "xb, yb = first(dl)\n",
    "xb.shape, yb.shape"
   ]
  },
  {
   "cell_type": "code",
   "execution_count": 384,
   "metadata": {},
   "outputs": [],
   "source": [
    "# same for the validation set\n",
    "valid_dl = DataLoader(valid_dset, batch_size=256)"
   ]
  },
  {
   "cell_type": "code",
   "execution_count": 385,
   "metadata": {},
   "outputs": [
    {
     "name": "stdout",
     "output_type": "stream",
     "text": [
      "tensor([[ -5.1510],\n",
      "        [-13.8779],\n",
      "        [ -4.6788],\n",
      "        [  2.2561]], grad_fn=<AddBackward0>)\n"
     ]
    },
    {
     "data": {
      "text/plain": [
       "tensor(0.2300, grad_fn=<MeanBackward0>)"
      ]
     },
     "execution_count": 385,
     "metadata": {},
     "output_type": "execute_result"
    }
   ],
   "source": [
    "# test our functionality on a sample\n",
    "test_batch = train_x[:4]\n",
    "test_preds = linear1(test_batch)\n",
    "print(test_preds)\n",
    "loss = mnist_loss(test_preds, train_y[:4])\n",
    "loss"
   ]
  },
  {
   "cell_type": "code",
   "execution_count": 386,
   "metadata": {},
   "outputs": [
    {
     "data": {
      "text/plain": [
       "(torch.Size([784, 1]), tensor(0.0043), tensor([0.0252]))"
      ]
     },
     "execution_count": 386,
     "metadata": {},
     "output_type": "execute_result"
    }
   ],
   "source": [
    "# calculate the gradients\n",
    "loss.backward()\n",
    "weights.grad.shape, weights.grad.mean(), bias.grad"
   ]
  },
  {
   "cell_type": "code",
   "execution_count": 387,
   "metadata": {},
   "outputs": [],
   "source": [
    "# automate this with a function\n",
    "def calc_grad(xb, yb, model):\n",
    "    preds = model(xb)\n",
    "    loss = mnist_loss(preds, yb)\n",
    "    loss.backward()"
   ]
  },
  {
   "cell_type": "code",
   "execution_count": 388,
   "metadata": {},
   "outputs": [
    {
     "data": {
      "text/plain": [
       "(tensor(0.0086), tensor([0.0503]))"
      ]
     },
     "execution_count": 388,
     "metadata": {},
     "output_type": "execute_result"
    }
   ],
   "source": [
    "calc_grad(test_batch, train_y[:4], linear1)\n",
    "weights.grad.mean(), bias.grad"
   ]
  },
  {
   "cell_type": "code",
   "execution_count": 389,
   "metadata": {},
   "outputs": [
    {
     "data": {
      "text/plain": [
       "(tensor(0.0129), tensor([0.0755]))"
      ]
     },
     "execution_count": 389,
     "metadata": {},
     "output_type": "execute_result"
    }
   ],
   "source": [
    "# do that a second time\n",
    "calc_grad(test_batch, train_y[:4], linear1)\n",
    "weights.grad.mean(), bias.grad"
   ]
  },
  {
   "cell_type": "markdown",
   "metadata": {},
   "source": [
    "The gradient changed - because the backwards operation was added!"
   ]
  },
  {
   "cell_type": "code",
   "execution_count": 390,
   "metadata": {},
   "outputs": [],
   "source": [
    "# combine everything into a function\n",
    "def train_epoch(model, lr, params):\n",
    "    for xb,yb in dl:\n",
    "        calc_grad(xb, yb, model)\n",
    "        for p in params:\n",
    "            p.data -= p.grad*lr\n",
    "            p.grad.zero_()"
   ]
  },
  {
   "cell_type": "code",
   "execution_count": 391,
   "metadata": {},
   "outputs": [
    {
     "data": {
      "text/plain": [
       "tensor([[False],\n",
       "        [False],\n",
       "        [False],\n",
       "        [ True]])"
      ]
     },
     "execution_count": 391,
     "metadata": {},
     "output_type": "execute_result"
    }
   ],
   "source": [
    "(test_preds>0.0).float() == train_y[:4]"
   ]
  },
  {
   "cell_type": "markdown",
   "metadata": {},
   "source": [
    "We were lucky with this one but don't be fooled by this result!"
   ]
  },
  {
   "cell_type": "code",
   "execution_count": 392,
   "metadata": {},
   "outputs": [
    {
     "data": {
      "text/plain": [
       "tensor([ 3398,  1979,  9334,  7002,  4932,  3755,  3183,  2438, 10760,  8736,\n",
       "         9150,  7287,  5325, 10107,  7662,  1939,  4384, 10537,  1291,  4014])"
      ]
     },
     "execution_count": 392,
     "metadata": {},
     "output_type": "execute_result"
    }
   ],
   "source": [
    "# verify with some more randomness\n",
    "rand_idx = torch.randint(len(train_x), (1, 20)).squeeze(0)\n",
    "rand_idx"
   ]
  },
  {
   "cell_type": "code",
   "execution_count": 393,
   "metadata": {},
   "outputs": [
    {
     "data": {
      "text/plain": [
       "tensor(0.2818, grad_fn=<MeanBackward0>)"
      ]
     },
     "execution_count": 393,
     "metadata": {},
     "output_type": "execute_result"
    }
   ],
   "source": [
    "# this makes much more sense and is only like this\n",
    "# because our bias is below the center\n",
    "test_batch = train_x[rand_idx]\n",
    "test_preds = linear1(test_batch)\n",
    "loss = mnist_loss(test_preds, train_y[rand_idx])\n",
    "loss"
   ]
  },
  {
   "cell_type": "code",
   "execution_count": 399,
   "metadata": {},
   "outputs": [],
   "source": [
    "# create a function for calculating our batch accuracy\n",
    "def batch_accuracy(xb, yb):\n",
    "    preds = xb.sigmoid()\n",
    "    correct = (preds>0.5) == yb\n",
    "    return correct.float().mean()"
   ]
  },
  {
   "cell_type": "code",
   "execution_count": 400,
   "metadata": {},
   "outputs": [
    {
     "data": {
      "text/plain": [
       "tensor(0.1500)"
      ]
     },
     "execution_count": 400,
     "metadata": {},
     "output_type": "execute_result"
    }
   ],
   "source": [
    "# test our function\n",
    "batch_accuracy(test_preds, train_y[rand_idx])"
   ]
  },
  {
   "cell_type": "code",
   "execution_count": 404,
   "metadata": {},
   "outputs": [
    {
     "data": {
      "text/plain": [
       "0.5068"
      ]
     },
     "execution_count": 404,
     "metadata": {},
     "output_type": "execute_result"
    }
   ],
   "source": [
    "# calculate the accuracy for all batches in one epoch\n",
    "def validate_epoch(model):\n",
    "    accs = [batch_accuracy(model(xb), yb) for xb,yb in valid_dl]\n",
    "    return round(torch.stack(accs).mean().item(), 4)\n",
    "\n",
    "validate_epoch(linear1)"
   ]
  },
  {
   "cell_type": "markdown",
   "metadata": {},
   "source": [
    "Thats our starting point - quiet some room for improvement."
   ]
  },
  {
   "cell_type": "code",
   "execution_count": 405,
   "metadata": {},
   "outputs": [
    {
     "data": {
      "text/plain": [
       "0.5068"
      ]
     },
     "execution_count": 405,
     "metadata": {},
     "output_type": "execute_result"
    }
   ],
   "source": [
    "# train for one epoch and see how we do\n",
    "lr = 1.\n",
    "params = weights, bias\n",
    "train_epoch(linear1, lr, params)\n",
    "validate_epoch(linear1)"
   ]
  },
  {
   "cell_type": "code",
   "execution_count": 407,
   "metadata": {},
   "outputs": [
    {
     "name": "stdout",
     "output_type": "stream",
     "text": [
      "0.5068 0.5068 0.5068 0.5068 0.5068 0.5068 0.5068 0.5068 0.5068 0.5068 0.5068 0.5068 0.5068 0.5068 0.5068 0.5068 0.5068 0.5068 0.5068 0.5068 "
     ]
    }
   ],
   "source": [
    "# and some more...\n",
    "for i in range(20):\n",
    "    train_epoch(linear1, lr, params)\n",
    "    print(validate_epoch(linear1), end=' ')"
   ]
  },
  {
   "cell_type": "code",
   "execution_count": null,
   "metadata": {},
   "outputs": [],
   "source": []
  }
 ],
 "metadata": {
  "kernelspec": {
   "display_name": "Python 3",
   "language": "python",
   "name": "python3"
  },
  "language_info": {
   "codemirror_mode": {
    "name": "ipython",
    "version": 3
   },
   "file_extension": ".py",
   "mimetype": "text/x-python",
   "name": "python",
   "nbconvert_exporter": "python",
   "pygments_lexer": "ipython3",
   "version": "3.8.5"
  }
 },
 "nbformat": 4,
 "nbformat_minor": 4
}
